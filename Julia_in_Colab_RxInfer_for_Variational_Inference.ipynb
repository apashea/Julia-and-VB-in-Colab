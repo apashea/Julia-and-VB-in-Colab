{
  "nbformat": 4,
  "nbformat_minor": 0,
  "metadata": {
    "colab": {
      "provenance": [],
      "include_colab_link": true
    },
    "kernelspec": {
      "display_name": "Julia",
      "language": "julia",
      "name": "julia"
    },
    "language_info": {
      "file_extension": ".jl",
      "mimetype": "application/julia",
      "name": "julia"
    },
    "gpuClass": "standard"
  },
  "cells": [
    {
      "cell_type": "markdown",
      "metadata": {
        "id": "view-in-github",
        "colab_type": "text"
      },
      "source": [
        "<a href=\"https://colab.research.google.com/github/apashea/Julia-and-VIB-in-Colab/blob/main/Julia_in_Colab_RxInfer_for_Variational_Inference.ipynb\" target=\"_parent\"><img src=\"https://colab.research.google.com/assets/colab-badge.svg\" alt=\"Open In Colab\"/></a>"
      ]
    },
    {
      "cell_type": "markdown",
      "metadata": {
        "id": "tQ1r1bbb0yBv"
      },
      "source": [
        "# <img src=\"https://github.com/JuliaLang/julia-logo-graphics/raw/master/images/julia-logo-color.png\" height=\"100\" /> _Colab Notebook Template_\n",
        "\n",
        "## Instructions\n",
        "1. Work on a copy of this notebook: _File_ > _Save a copy in Drive_ (you will need a Google account). Alternatively, you can download the notebook using _File_ > _Download .ipynb_, then upload it to [Colab](https://colab.research.google.com/).\n",
        "2. If you need a GPU: _Runtime_ > _Change runtime type_ > _Harware accelerator_ = _GPU_.\n",
        "3. Execute the following cell (click on it and press Ctrl+Enter) to install Julia, IJulia and other packages (if needed, update `JULIA_VERSION` and the other parameters). This takes a couple of minutes.\n",
        "4. Reload this page (press Ctrl+R, or ⌘+R, or the F5 key) and continue to the next section.\n",
        "\n",
        "_Notes_:\n",
        "* If your Colab Runtime gets reset (e.g., due to inactivity), repeat steps 2, 3 and 4.\n",
        "* After installation, if you want to change the Julia version or activate/deactivate the GPU, you will need to reset the Runtime: _Runtime_ > _Factory reset runtime_ and repeat steps 3 and 4."
      ]
    },
    {
      "cell_type": "code",
      "metadata": {
        "id": "GIeFXS0F0zww",
        "colab": {
          "base_uri": "https://localhost:8080/"
        },
        "outputId": "da98da6b-66ab-466a-f489-6e6acd0ed1cc"
      },
      "source": [
        "%%shell\n",
        "set -e\n",
        "\n",
        "#---------------------------------------------------#\n",
        "JULIA_VERSION=\"1.8.2\" # any version ≥ 0.7.0\n",
        "JULIA_PACKAGES=\"IJulia BenchmarkTools\"\n",
        "JULIA_PACKAGES_IF_GPU=\"CUDA\" # or CuArrays for older Julia versions\n",
        "JULIA_NUM_THREADS=2\n",
        "#---------------------------------------------------#\n",
        "\n",
        "if [ -z `which julia` ]; then\n",
        "  # Install Julia\n",
        "  JULIA_VER=`cut -d '.' -f -2 <<< \"$JULIA_VERSION\"`\n",
        "  echo \"Installing Julia $JULIA_VERSION on the current Colab Runtime...\"\n",
        "  BASE_URL=\"https://julialang-s3.julialang.org/bin/linux/x64\"\n",
        "  URL=\"$BASE_URL/$JULIA_VER/julia-$JULIA_VERSION-linux-x86_64.tar.gz\"\n",
        "  wget -nv $URL -O /tmp/julia.tar.gz # -nv means \"not verbose\"\n",
        "  tar -x -f /tmp/julia.tar.gz -C /usr/local --strip-components 1\n",
        "  rm /tmp/julia.tar.gz\n",
        "\n",
        "  # Install Packages\n",
        "  nvidia-smi -L &> /dev/null && export GPU=1 || export GPU=0\n",
        "  if [ $GPU -eq 1 ]; then\n",
        "    JULIA_PACKAGES=\"$JULIA_PACKAGES $JULIA_PACKAGES_IF_GPU\"\n",
        "  fi\n",
        "  for PKG in `echo $JULIA_PACKAGES`; do\n",
        "    echo \"Installing Julia package $PKG...\"\n",
        "    julia -e 'using Pkg; pkg\"add '$PKG'; precompile;\"' &> /dev/null\n",
        "  done\n",
        "\n",
        "  # Install kernel and rename it to \"julia\"\n",
        "  echo \"Installing IJulia kernel...\"\n",
        "  julia -e 'using IJulia; IJulia.installkernel(\"julia\", env=Dict(\n",
        "      \"JULIA_NUM_THREADS\"=>\"'\"$JULIA_NUM_THREADS\"'\"))'\n",
        "  KERNEL_DIR=`julia -e \"using IJulia; print(IJulia.kerneldir())\"`\n",
        "  KERNEL_NAME=`ls -d \"$KERNEL_DIR\"/julia*`\n",
        "  mv -f $KERNEL_NAME \"$KERNEL_DIR\"/julia\n",
        "\n",
        "  echo ''\n",
        "  echo \"Successfully installed `julia -v`!\"\n",
        "  echo \"Please reload this page (press Ctrl+R, ⌘+R, or the F5 key) then\"\n",
        "  echo \"jump to the 'Checking the Installation' section.\"\n",
        "fi"
      ],
      "execution_count": null,
      "outputs": [
        {
          "output_type": "stream",
          "name": "stdout",
          "text": [
            "Installing Julia 1.8.2 on the current Colab Runtime...\n",
            "2024-01-24 14:35:24 URL:https://julialang-s3.julialang.org/bin/linux/x64/1.8/julia-1.8.2-linux-x86_64.tar.gz [135859273/135859273] -> \"/tmp/julia.tar.gz\" [1]\n",
            "Installing Julia package IJulia...\n",
            "Installing Julia package BenchmarkTools...\n",
            "Installing IJulia kernel...\n",
            "\u001b[36m\u001b[1m[ \u001b[22m\u001b[39m\u001b[36m\u001b[1mInfo: \u001b[22m\u001b[39mInstalling julia kernelspec in /root/.local/share/jupyter/kernels/julia-1.8\n",
            "\n",
            "Successfully installed julia version 1.8.2!\n",
            "Please reload this page (press Ctrl+R, ⌘+R, or the F5 key) then\n",
            "jump to the 'Checking the Installation' section.\n"
          ]
        },
        {
          "output_type": "execute_result",
          "data": {
            "text/plain": []
          },
          "metadata": {},
          "execution_count": 1
        }
      ]
    },
    {
      "cell_type": "markdown",
      "metadata": {
        "id": "-OS3Ac017T1i"
      },
      "source": [
        "# Checking the Installation\n",
        "The `versioninfo()` function should print your Julia version and some other info about the system:"
      ]
    },
    {
      "cell_type": "code",
      "metadata": {
        "id": "EEzvvzCl1i0F",
        "colab": {
          "base_uri": "https://localhost:8080/"
        },
        "outputId": "c55ab903-1349-42e7-f3f3-b28b62b99573"
      },
      "source": [
        "versioninfo()"
      ],
      "execution_count": 1,
      "outputs": [
        {
          "output_type": "stream",
          "name": "stdout",
          "text": [
            "Julia Version 1.8.2\n",
            "Commit 36034abf260 (2022-09-29 15:21 UTC)\n",
            "Platform Info:\n",
            "  OS: Linux (x86_64-linux-gnu)\n",
            "  CPU: 2 × Intel(R) Xeon(R) CPU @ 2.20GHz\n",
            "  WORD_SIZE: 64\n",
            "  LIBM: libopenlibm\n",
            "  LLVM: libLLVM-13.0.1 (ORCJIT, broadwell)\n",
            "  Threads: 2 on 2 virtual cores\n",
            "Environment:\n",
            "  LD_LIBRARY_PATH = /usr/local/nvidia/lib:/usr/local/nvidia/lib64\n",
            "  JULIA_NUM_THREADS = 2\n"
          ]
        }
      ]
    },
    {
      "cell_type": "code",
      "source": [
        "using BenchmarkTools\n",
        "\n",
        "M = rand(2^11, 2^11)\n",
        "\n",
        "@btime $M * $M;"
      ],
      "metadata": {
        "colab": {
          "base_uri": "https://localhost:8080/"
        },
        "id": "YjM_qq54lCcs",
        "outputId": "637ea690-1c9f-46c6-c8df-ee3d5bab5ff3"
      },
      "execution_count": 2,
      "outputs": [
        {
          "output_type": "stream",
          "name": "stdout",
          "text": [
            "  547.806 ms (2 allocations: 32.00 MiB)\n"
          ]
        }
      ]
    },
    {
      "cell_type": "code",
      "metadata": {
        "id": "XciCcMAJOT3_",
        "colab": {
          "base_uri": "https://localhost:8080/"
        },
        "outputId": "1aac932f-0445-4ae9-c9de-5bba144063ee"
      },
      "source": [
        "try\n",
        "    using CUDA\n",
        "catch\n",
        "    println(\"No GPU found.\")\n",
        "else\n",
        "    run(`nvidia-smi`)\n",
        "    # Create a new random matrix directly on the GPU:\n",
        "    M_on_gpu = CUDA.CURAND.rand(2^11, 2^11)\n",
        "    @btime $M_on_gpu * $M_on_gpu; nothing\n",
        "end"
      ],
      "execution_count": 3,
      "outputs": [
        {
          "output_type": "stream",
          "name": "stdout",
          "text": [
            "No GPU found.\n"
          ]
        }
      ]
    },
    {
      "cell_type": "markdown",
      "metadata": {
        "id": "8RC1QNNqk6h1"
      },
      "source": [
        "# Need Help?\n",
        "\n",
        "* Learning: https://julialang.org/learning/\n",
        "* Documentation: https://docs.julialang.org/\n",
        "* Questions & Discussions:\n",
        "  * https://discourse.julialang.org/\n",
        "  * http://julialang.slack.com/\n",
        "  * https://stackoverflow.com/questions/tagged/julia\n",
        "\n",
        "If you ever ask for help or file an issue about Julia, you should generally provide the output of `versioninfo()`."
      ]
    },
    {
      "cell_type": "markdown",
      "metadata": {
        "id": "2UMidUQB03vJ"
      },
      "source": [
        "Add new code cells by clicking the `+ Code` button (or _Insert_ > _Code cell_).\n",
        "\n",
        "Have fun!\n",
        "\n",
        "<img src=\"https://raw.githubusercontent.com/JuliaLang/julia-logo-graphics/master/images/julia-logo-mask.png\" height=\"100\" />"
      ]
    },
    {
      "cell_type": "markdown",
      "source": [
        "## Trying: https://www.youtube.com/watch?v=qnj0PKc734g"
      ],
      "metadata": {
        "id": "W8b0mkTy5-r1"
      }
    },
    {
      "cell_type": "code",
      "source": [
        "import Pkg; Pkg.add(\"RxInfer\")   # ~3min install"
      ],
      "metadata": {
        "colab": {
          "base_uri": "https://localhost:8080/"
        },
        "id": "vvsdzRO16F6q",
        "outputId": "12a38e64-5af5-444a-bf8b-385af3e9aea2"
      },
      "execution_count": 6,
      "outputs": [
        {
          "output_type": "stream",
          "name": "stderr",
          "text": [
            "\u001b[32m\u001b[1m    Updating\u001b[22m\u001b[39m registry at `~/.julia/registries/General.toml`\n",
            "\u001b[32m\u001b[1m   Resolving\u001b[22m\u001b[39m package versions...\n",
            "\u001b[32m\u001b[1m   Installed\u001b[22m\u001b[39m Calculus ───────────────────────── v0.5.1\n",
            "\u001b[32m\u001b[1m   Installed\u001b[22m\u001b[39m IrrationalConstants ────────────── v0.2.2\n",
            "\u001b[32m\u001b[1m   Installed\u001b[22m\u001b[39m BitTwiddlingConvenienceFunctions ─ v0.1.5\n",
            "\u001b[32m\u001b[1m   Installed\u001b[22m\u001b[39m DiffRules ──────────────────────── v1.15.1\n",
            "\u001b[32m\u001b[1m   Installed\u001b[22m\u001b[39m SIMDTypes ──────────────────────── v0.1.0\n",
            "\u001b[32m\u001b[1m   Installed\u001b[22m\u001b[39m MatrixFactorizations ───────────── v1.0.0\n",
            "\u001b[32m\u001b[1m   Installed\u001b[22m\u001b[39m Adapt ──────────────────────────── v3.7.2\n",
            "\u001b[32m\u001b[1m   Installed\u001b[22m\u001b[39m OffsetArrays ───────────────────── v1.13.0\n",
            "\u001b[32m\u001b[1m   Installed\u001b[22m\u001b[39m FastCholesky ───────────────────── v1.3.0\n",
            "\u001b[32m\u001b[1m   Installed\u001b[22m\u001b[39m Rmath ──────────────────────────── v0.7.1\n",
            "\u001b[32m\u001b[1m   Installed\u001b[22m\u001b[39m DualNumbers ────────────────────── v0.6.8\n",
            "\u001b[32m\u001b[1m   Installed\u001b[22m\u001b[39m HCubature ──────────────────────── v1.5.1\n",
            "\u001b[32m\u001b[1m   Installed\u001b[22m\u001b[39m LayoutPointers ─────────────────── v0.1.15\n",
            "\u001b[32m\u001b[1m   Installed\u001b[22m\u001b[39m HypergeometricFunctions ────────── v0.3.23\n",
            "\u001b[32m\u001b[1m   Installed\u001b[22m\u001b[39m IntervalSets ───────────────────── v0.7.8\n",
            "\u001b[32m\u001b[1m   Installed\u001b[22m\u001b[39m CpuId ──────────────────────────── v0.3.1\n",
            "\u001b[32m\u001b[1m   Installed\u001b[22m\u001b[39m VectorizationBase ──────────────── v0.21.65\n",
            "\u001b[32m\u001b[1m   Installed\u001b[22m\u001b[39m StatsFuns ──────────────────────── v1.3.0\n",
            "\u001b[32m\u001b[1m   Installed\u001b[22m\u001b[39m CompositeTypes ─────────────────── v0.1.3\n",
            "\u001b[32m\u001b[1m   Installed\u001b[22m\u001b[39m DiffResults ────────────────────── v1.1.0\n",
            "\u001b[32m\u001b[1m   Installed\u001b[22m\u001b[39m PositiveFactorizations ─────────── v0.2.4\n",
            "\u001b[32m\u001b[1m   Installed\u001b[22m\u001b[39m GaussQuadrature ────────────────── v0.5.8\n",
            "\u001b[32m\u001b[1m   Installed\u001b[22m\u001b[39m GraphPPL ───────────────────────── v3.1.0\n",
            "\u001b[32m\u001b[1m   Installed\u001b[22m\u001b[39m FastGaussQuadrature ────────────── v0.5.1\n",
            "\u001b[32m\u001b[1m   Installed\u001b[22m\u001b[39m SpecialFunctions ───────────────── v2.3.1\n",
            "\u001b[32m\u001b[1m   Installed\u001b[22m\u001b[39m CPUSummary ─────────────────────── v0.2.4\n",
            "\u001b[32m\u001b[1m   Installed\u001b[22m\u001b[39m DomainSets ─────────────────────── v0.6.7\n",
            "\u001b[32m\u001b[1m   Installed\u001b[22m\u001b[39m DataAPI ────────────────────────── v1.16.0\n",
            "\u001b[32m\u001b[1m   Installed\u001b[22m\u001b[39m IfElse ─────────────────────────── v0.1.1\n",
            "\u001b[32m\u001b[1m   Installed\u001b[22m\u001b[39m PDMats ─────────────────────────── v0.11.31\n",
            "\u001b[32m\u001b[1m   Installed\u001b[22m\u001b[39m Setfield ───────────────────────── v1.1.1\n",
            "\u001b[32m\u001b[1m   Installed\u001b[22m\u001b[39m LoopVectorization ──────────────── v0.12.166\n",
            "\u001b[32m\u001b[1m   Installed\u001b[22m\u001b[39m Optim ──────────────────────────── v1.7.8\n",
            "\u001b[32m\u001b[1m   Installed\u001b[22m\u001b[39m ProgressMeter ──────────────────── v1.9.0\n",
            "\u001b[32m\u001b[1m   Installed\u001b[22m\u001b[39m StaticArraysCore ───────────────── v1.4.2\n",
            "\u001b[32m\u001b[1m   Installed\u001b[22m\u001b[39m Unrolled ───────────────────────── v0.1.5\n",
            "\u001b[32m\u001b[1m   Installed\u001b[22m\u001b[39m NaNMath ────────────────────────── v1.0.2\n",
            "\u001b[32m\u001b[1m   Installed\u001b[22m\u001b[39m StaticArrays ───────────────────── v1.9.1\n",
            "\u001b[32m\u001b[1m   Installed\u001b[22m\u001b[39m DomainIntegrals ────────────────── v0.4.4\n",
            "\u001b[32m\u001b[1m   Installed\u001b[22m\u001b[39m ConstructionBase ───────────────── v1.5.4\n",
            "\u001b[32m\u001b[1m   Installed\u001b[22m\u001b[39m HostCPUFeatures ────────────────── v0.1.16\n",
            "\u001b[32m\u001b[1m   Installed\u001b[22m\u001b[39m OrderedCollections ─────────────── v1.6.3\n",
            "\u001b[32m\u001b[1m   Installed\u001b[22m\u001b[39m ThreadingUtilities ─────────────── v0.5.2\n",
            "\u001b[32m\u001b[1m   Installed\u001b[22m\u001b[39m ManualMemory ───────────────────── v0.1.8\n",
            "\u001b[32m\u001b[1m   Installed\u001b[22m\u001b[39m ChainRulesCore ─────────────────── v1.19.1\n",
            "\u001b[32m\u001b[1m   Installed\u001b[22m\u001b[39m Combinatorics ──────────────────── v1.0.2\n",
            "\u001b[32m\u001b[1m   Installed\u001b[22m\u001b[39m NLSolversBase ──────────────────── v7.8.3\n",
            "\u001b[32m\u001b[1m   Installed\u001b[22m\u001b[39m PolyesterWeave ─────────────────── v0.2.1\n",
            "\u001b[32m\u001b[1m   Installed\u001b[22m\u001b[39m Rocket ─────────────────────────── v1.7.2\n",
            "\u001b[32m\u001b[1m   Installed\u001b[22m\u001b[39m Reexport ───────────────────────── v1.2.2\n",
            "\u001b[32m\u001b[1m   Installed\u001b[22m\u001b[39m ArrayInterface ─────────────────── v7.5.1\n",
            "\u001b[32m\u001b[1m   Installed\u001b[22m\u001b[39m ReactiveMP ─────────────────────── v3.11.1\n",
            "\u001b[32m\u001b[1m   Installed\u001b[22m\u001b[39m QuadGK ─────────────────────────── v2.9.4\n",
            "\u001b[32m\u001b[1m   Installed\u001b[22m\u001b[39m ForwardDiff ────────────────────── v0.10.36\n",
            "\u001b[32m\u001b[1m   Installed\u001b[22m\u001b[39m FillArrays ─────────────────────── v1.9.3\n",
            "\u001b[32m\u001b[1m   Installed\u001b[22m\u001b[39m LineSearches ───────────────────── v7.2.0\n",
            "\u001b[32m\u001b[1m   Installed\u001b[22m\u001b[39m Rmath_jll ──────────────────────── v0.4.0+0\n",
            "\u001b[32m\u001b[1m   Installed\u001b[22m\u001b[39m CommonSubexpressions ───────────── v0.3.0\n",
            "\u001b[32m\u001b[1m   Installed\u001b[22m\u001b[39m LogExpFunctions ────────────────── v0.3.26\n",
            "\u001b[32m\u001b[1m   Installed\u001b[22m\u001b[39m Requires ───────────────────────── v1.3.0\n",
            "\u001b[32m\u001b[1m   Installed\u001b[22m\u001b[39m LazyArrays ─────────────────────── v1.5.2\n",
            "\u001b[32m\u001b[1m   Installed\u001b[22m\u001b[39m DataStructures ─────────────────── v0.18.16\n",
            "\u001b[32m\u001b[1m   Installed\u001b[22m\u001b[39m CloseOpenIntervals ─────────────── v0.1.12\n",
            "\u001b[32m\u001b[1m   Installed\u001b[22m\u001b[39m Distributions ──────────────────── v0.25.107\n",
            "\u001b[32m\u001b[1m   Installed\u001b[22m\u001b[39m TinyHugeNumbers ────────────────── v1.0.0\n",
            "\u001b[32m\u001b[1m   Installed\u001b[22m\u001b[39m MacroTools ─────────────────────── v0.5.13\n",
            "\u001b[32m\u001b[1m   Installed\u001b[22m\u001b[39m StatsAPI ───────────────────────── v1.7.0\n",
            "\u001b[32m\u001b[1m   Installed\u001b[22m\u001b[39m Compat ─────────────────────────── v4.12.0\n",
            "\u001b[32m\u001b[1m   Installed\u001b[22m\u001b[39m Static ─────────────────────────── v0.8.8\n",
            "\u001b[32m\u001b[1m   Installed\u001b[22m\u001b[39m OpenSpecFun_jll ────────────────── v0.5.5+0\n",
            "\u001b[32m\u001b[1m   Installed\u001b[22m\u001b[39m SLEEFPirates ───────────────────── v0.6.42\n",
            "\u001b[32m\u001b[1m   Installed\u001b[22m\u001b[39m UnPack ─────────────────────────── v1.0.2\n",
            "\u001b[32m\u001b[1m   Installed\u001b[22m\u001b[39m Parameters ─────────────────────── v0.12.3\n",
            "\u001b[32m\u001b[1m   Installed\u001b[22m\u001b[39m InverseFunctions ───────────────── v0.1.12\n",
            "\u001b[32m\u001b[1m   Installed\u001b[22m\u001b[39m Missings ───────────────────────── v1.1.0\n",
            "\u001b[32m\u001b[1m   Installed\u001b[22m\u001b[39m StaticArrayInterface ───────────── v1.5.0\n",
            "\u001b[32m\u001b[1m   Installed\u001b[22m\u001b[39m TupleTools ─────────────────────── v1.4.3\n",
            "\u001b[32m\u001b[1m   Installed\u001b[22m\u001b[39m StatsBase ──────────────────────── v0.34.2\n",
            "\u001b[32m\u001b[1m   Installed\u001b[22m\u001b[39m MatrixCorrectionTools ──────────── v1.2.0\n",
            "\u001b[32m\u001b[1m   Installed\u001b[22m\u001b[39m SortingAlgorithms ──────────────── v1.2.1\n",
            "\u001b[32m\u001b[1m   Installed\u001b[22m\u001b[39m ChangesOfVariables ─────────────── v0.1.8\n",
            "\u001b[32m\u001b[1m   Installed\u001b[22m\u001b[39m DensityInterface ───────────────── v0.4.0\n",
            "\u001b[32m\u001b[1m   Installed\u001b[22m\u001b[39m ArrayLayouts ───────────────────── v1.5.2\n",
            "\u001b[32m\u001b[1m   Installed\u001b[22m\u001b[39m DocStringExtensions ────────────── v0.9.3\n",
            "\u001b[32m\u001b[1m   Installed\u001b[22m\u001b[39m FiniteDiff ─────────────────────── v2.22.0\n",
            "\u001b[32m\u001b[1m   Installed\u001b[22m\u001b[39m RxInfer ────────────────────────── v2.13.2\n",
            "\u001b[32m\u001b[1m    Updating\u001b[22m\u001b[39m `~/.julia/environments/v1.8/Project.toml`\n",
            "\u001b[33m⌅\u001b[39m\u001b[90m [86711068] \u001b[39m\u001b[92m+ RxInfer v2.13.2\u001b[39m\n",
            "\u001b[32m\u001b[1m    Updating\u001b[22m\u001b[39m `~/.julia/environments/v1.8/Manifest.toml`\n",
            "\u001b[33m⌅\u001b[39m\u001b[90m [79e6a3ab] \u001b[39m\u001b[92m+ Adapt v3.7.2\u001b[39m\n",
            "\u001b[33m⌅\u001b[39m\u001b[90m [4fba245c] \u001b[39m\u001b[92m+ ArrayInterface v7.5.1\u001b[39m\n",
            " \u001b[90m [4c555306] \u001b[39m\u001b[92m+ ArrayLayouts v1.5.2\u001b[39m\n",
            " \u001b[90m [62783981] \u001b[39m\u001b[92m+ BitTwiddlingConvenienceFunctions v0.1.5\u001b[39m\n",
            " \u001b[90m [2a0fbf3d] \u001b[39m\u001b[92m+ CPUSummary v0.2.4\u001b[39m\n",
            " \u001b[90m [49dc2e85] \u001b[39m\u001b[92m+ Calculus v0.5.1\u001b[39m\n",
            " \u001b[90m [d360d2e6] \u001b[39m\u001b[92m+ ChainRulesCore v1.19.1\u001b[39m\n",
            " \u001b[90m [9e997f8a] \u001b[39m\u001b[92m+ ChangesOfVariables v0.1.8\u001b[39m\n",
            " \u001b[90m [fb6a15b2] \u001b[39m\u001b[92m+ CloseOpenIntervals v0.1.12\u001b[39m\n",
            " \u001b[90m [861a8166] \u001b[39m\u001b[92m+ Combinatorics v1.0.2\u001b[39m\n",
            " \u001b[90m [bbf7d656] \u001b[39m\u001b[92m+ CommonSubexpressions v0.3.0\u001b[39m\n",
            " \u001b[90m [34da2185] \u001b[39m\u001b[92m+ Compat v4.12.0\u001b[39m\n",
            " \u001b[90m [b152e2b5] \u001b[39m\u001b[92m+ CompositeTypes v0.1.3\u001b[39m\n",
            " \u001b[90m [187b0558] \u001b[39m\u001b[92m+ ConstructionBase v1.5.4\u001b[39m\n",
            " \u001b[90m [adafc99b] \u001b[39m\u001b[92m+ CpuId v0.3.1\u001b[39m\n",
            " \u001b[90m [9a962f9c] \u001b[39m\u001b[92m+ DataAPI v1.16.0\u001b[39m\n",
            " \u001b[90m [864edb3b] \u001b[39m\u001b[92m+ DataStructures v0.18.16\u001b[39m\n",
            " \u001b[90m [b429d917] \u001b[39m\u001b[92m+ DensityInterface v0.4.0\u001b[39m\n",
            " \u001b[90m [163ba53b] \u001b[39m\u001b[92m+ DiffResults v1.1.0\u001b[39m\n",
            " \u001b[90m [b552c78f] \u001b[39m\u001b[92m+ DiffRules v1.15.1\u001b[39m\n",
            " \u001b[90m [31c24e10] \u001b[39m\u001b[92m+ Distributions v0.25.107\u001b[39m\n",
            " \u001b[90m [ffbed154] \u001b[39m\u001b[92m+ DocStringExtensions v0.9.3\u001b[39m\n",
            "\u001b[32m⌃\u001b[39m\u001b[90m [cc6bae93] \u001b[39m\u001b[92m+ DomainIntegrals v0.4.4\u001b[39m\n",
            "\u001b[33m⌅\u001b[39m\u001b[90m [5b8099bc] \u001b[39m\u001b[92m+ DomainSets v0.6.7\u001b[39m\n",
            " \u001b[90m [fa6b7ba4] \u001b[39m\u001b[92m+ DualNumbers v0.6.8\u001b[39m\n",
            " \u001b[90m [2d5283b6] \u001b[39m\u001b[92m+ FastCholesky v1.3.0\u001b[39m\n",
            "\u001b[33m⌅\u001b[39m\u001b[90m [442a2c76] \u001b[39m\u001b[92m+ FastGaussQuadrature v0.5.1\u001b[39m\n",
            " \u001b[90m [1a297f60] \u001b[39m\u001b[92m+ FillArrays v1.9.3\u001b[39m\n",
            " \u001b[90m [6a86dc24] \u001b[39m\u001b[92m+ FiniteDiff v2.22.0\u001b[39m\n",
            " \u001b[90m [f6369f11] \u001b[39m\u001b[92m+ ForwardDiff v0.10.36\u001b[39m\n",
            " \u001b[90m [d54b0c1a] \u001b[39m\u001b[92m+ GaussQuadrature v0.5.8\u001b[39m\n",
            " \u001b[90m [b3f8163a] \u001b[39m\u001b[92m+ GraphPPL v3.1.0\u001b[39m\n",
            " \u001b[90m [19dc6840] \u001b[39m\u001b[92m+ HCubature v1.5.1\u001b[39m\n",
            " \u001b[90m [3e5b6fbb] \u001b[39m\u001b[92m+ HostCPUFeatures v0.1.16\u001b[39m\n",
            " \u001b[90m [34004b35] \u001b[39m\u001b[92m+ HypergeometricFunctions v0.3.23\u001b[39m\n",
            " \u001b[90m [615f187c] \u001b[39m\u001b[92m+ IfElse v0.1.1\u001b[39m\n",
            " \u001b[90m [8197267c] \u001b[39m\u001b[92m+ IntervalSets v0.7.8\u001b[39m\n",
            " \u001b[90m [3587e190] \u001b[39m\u001b[92m+ InverseFunctions v0.1.12\u001b[39m\n",
            " \u001b[90m [92d709cd] \u001b[39m\u001b[92m+ IrrationalConstants v0.2.2\u001b[39m\n",
            " \u001b[90m [10f19ff3] \u001b[39m\u001b[92m+ LayoutPointers v0.1.15\u001b[39m\n",
            "\u001b[33m⌅\u001b[39m\u001b[90m [5078a376] \u001b[39m\u001b[92m+ LazyArrays v1.5.2\u001b[39m\n",
            " \u001b[90m [d3d80556] \u001b[39m\u001b[92m+ LineSearches v7.2.0\u001b[39m\n",
            " \u001b[90m [2ab3a3ac] \u001b[39m\u001b[92m+ LogExpFunctions v0.3.26\u001b[39m\n",
            " \u001b[90m [bdcacae8] \u001b[39m\u001b[92m+ LoopVectorization v0.12.166\u001b[39m\n",
            " \u001b[90m [1914dd2f] \u001b[39m\u001b[92m+ MacroTools v0.5.13\u001b[39m\n",
            " \u001b[90m [d125e4d3] \u001b[39m\u001b[92m+ ManualMemory v0.1.8\u001b[39m\n",
            " \u001b[90m [41f81499] \u001b[39m\u001b[92m+ MatrixCorrectionTools v1.2.0\u001b[39m\n",
            "\u001b[33m⌅\u001b[39m\u001b[90m [a3b82374] \u001b[39m\u001b[92m+ MatrixFactorizations v1.0.0\u001b[39m\n",
            " \u001b[90m [e1d29d7a] \u001b[39m\u001b[92m+ Missings v1.1.0\u001b[39m\n",
            " \u001b[90m [d41bc354] \u001b[39m\u001b[92m+ NLSolversBase v7.8.3\u001b[39m\n",
            " \u001b[90m [77ba4419] \u001b[39m\u001b[92m+ NaNMath v1.0.2\u001b[39m\n",
            " \u001b[90m [6fe1bfb0] \u001b[39m\u001b[92m+ OffsetArrays v1.13.0\u001b[39m\n",
            " \u001b[90m [429524aa] \u001b[39m\u001b[92m+ Optim v1.7.8\u001b[39m\n",
            " \u001b[90m [bac558e1] \u001b[39m\u001b[92m+ OrderedCollections v1.6.3\u001b[39m\n",
            " \u001b[90m [90014a1f] \u001b[39m\u001b[92m+ PDMats v0.11.31\u001b[39m\n",
            " \u001b[90m [d96e819e] \u001b[39m\u001b[92m+ Parameters v0.12.3\u001b[39m\n",
            " \u001b[90m [1d0040c9] \u001b[39m\u001b[92m+ PolyesterWeave v0.2.1\u001b[39m\n",
            " \u001b[90m [85a6dd25] \u001b[39m\u001b[92m+ PositiveFactorizations v0.2.4\u001b[39m\n",
            " \u001b[90m [92933f4c] \u001b[39m\u001b[92m+ ProgressMeter v1.9.0\u001b[39m\n",
            " \u001b[90m [1fd47b50] \u001b[39m\u001b[92m+ QuadGK v2.9.4\u001b[39m\n",
            "\u001b[33m⌅\u001b[39m\u001b[90m [a194aa59] \u001b[39m\u001b[92m+ ReactiveMP v3.11.1\u001b[39m\n",
            " \u001b[90m [189a3867] \u001b[39m\u001b[92m+ Reexport v1.2.2\u001b[39m\n",
            " \u001b[90m [ae029012] \u001b[39m\u001b[92m+ Requires v1.3.0\u001b[39m\n",
            " \u001b[90m [79098fc4] \u001b[39m\u001b[92m+ Rmath v0.7.1\u001b[39m\n",
            " \u001b[90m [df971d30] \u001b[39m\u001b[92m+ Rocket v1.7.2\u001b[39m\n",
            "\u001b[33m⌅\u001b[39m\u001b[90m [86711068] \u001b[39m\u001b[92m+ RxInfer v2.13.2\u001b[39m\n",
            " \u001b[90m [94e857df] \u001b[39m\u001b[92m+ SIMDTypes v0.1.0\u001b[39m\n",
            " \u001b[90m [476501e8] \u001b[39m\u001b[92m+ SLEEFPirates v0.6.42\u001b[39m\n",
            " \u001b[90m [efcf1570] \u001b[39m\u001b[92m+ Setfield v1.1.1\u001b[39m\n",
            " \u001b[90m [a2af1166] \u001b[39m\u001b[92m+ SortingAlgorithms v1.2.1\u001b[39m\n",
            " \u001b[90m [276daf66] \u001b[39m\u001b[92m+ SpecialFunctions v2.3.1\u001b[39m\n",
            " \u001b[90m [aedffcd0] \u001b[39m\u001b[92m+ Static v0.8.8\u001b[39m\n",
            " \u001b[90m [0d7ed370] \u001b[39m\u001b[92m+ StaticArrayInterface v1.5.0\u001b[39m\n",
            " \u001b[90m [90137ffa] \u001b[39m\u001b[92m+ StaticArrays v1.9.1\u001b[39m\n",
            " \u001b[90m [1e83bf80] \u001b[39m\u001b[92m+ StaticArraysCore v1.4.2\u001b[39m\n",
            " \u001b[90m [82ae8749] \u001b[39m\u001b[92m+ StatsAPI v1.7.0\u001b[39m\n",
            " \u001b[90m [2913bbd2] \u001b[39m\u001b[92m+ StatsBase v0.34.2\u001b[39m\n",
            " \u001b[90m [4c63d2b9] \u001b[39m\u001b[92m+ StatsFuns v1.3.0\u001b[39m\n",
            " \u001b[90m [8290d209] \u001b[39m\u001b[92m+ ThreadingUtilities v0.5.2\u001b[39m\n",
            " \u001b[90m [783c9a47] \u001b[39m\u001b[92m+ TinyHugeNumbers v1.0.0\u001b[39m\n",
            " \u001b[90m [9d95972d] \u001b[39m\u001b[92m+ TupleTools v1.4.3\u001b[39m\n",
            " \u001b[90m [3a884ed6] \u001b[39m\u001b[92m+ UnPack v1.0.2\u001b[39m\n",
            " \u001b[90m [9602ed7d] \u001b[39m\u001b[92m+ Unrolled v0.1.5\u001b[39m\n",
            " \u001b[90m [3d5dd08c] \u001b[39m\u001b[92m+ VectorizationBase v0.21.65\u001b[39m\n",
            " \u001b[90m [efe28fd5] \u001b[39m\u001b[92m+ OpenSpecFun_jll v0.5.5+0\u001b[39m\n",
            " \u001b[90m [f50d1b31] \u001b[39m\u001b[92m+ Rmath_jll v0.4.0+0\u001b[39m\n",
            " \u001b[90m [8ba89e20] \u001b[39m\u001b[92m+ Distributed\u001b[39m\n",
            " \u001b[90m [9fa8497b] \u001b[39m\u001b[92m+ Future\u001b[39m\n",
            " \u001b[90m [4607b0f0] \u001b[39m\u001b[92m+ SuiteSparse\u001b[39m\n",
            " \u001b[90m [05823500] \u001b[39m\u001b[92m+ OpenLibm_jll v0.8.1+0\u001b[39m\n",
            "\u001b[36m\u001b[1m        Info\u001b[22m\u001b[39m Packages marked with \u001b[32m⌃\u001b[39m and \u001b[33m⌅\u001b[39m have new versions available, but those with \u001b[33m⌅\u001b[39m are restricted by compatibility constraints from upgrading. To see why use `status --outdated -m`\n",
            "\u001b[32m\u001b[1mPrecompiling\u001b[22m\u001b[39m project...\n",
            "\u001b[32m  ✓ \u001b[39m\u001b[90mCompositeTypes\u001b[39m\n",
            "\u001b[32m  ✓ \u001b[39m\u001b[90mCompat\u001b[39m\n",
            "\u001b[32m  ✓ \u001b[39m\u001b[90mCombinatorics\u001b[39m\n",
            "\u001b[32m  ✓ \u001b[39m\u001b[90mOrderedCollections\u001b[39m\n",
            "\u001b[32m  ✓ \u001b[39m\u001b[90mCalculus\u001b[39m\n",
            "\u001b[32m  ✓ \u001b[39m\u001b[90mRequires\u001b[39m\n",
            "\u001b[32m  ✓ \u001b[39m\u001b[90mUnPack\u001b[39m\n",
            "\u001b[32m  ✓ \u001b[39m\u001b[90mCpuId\u001b[39m\n",
            "\u001b[32m  ✓ \u001b[39m\u001b[90mPositiveFactorizations\u001b[39m\n",
            "\u001b[32m  ✓ \u001b[39m\u001b[90mOpenLibm_jll\u001b[39m\n",
            "\u001b[32m  ✓ \u001b[39m\u001b[90mReexport\u001b[39m\n",
            "\u001b[32m  ✓ \u001b[39m\u001b[90mInverseFunctions\u001b[39m\n",
            "\u001b[32m  ✓ \u001b[39m\u001b[90mPDMats\u001b[39m\n",
            "\u001b[32m  ✓ \u001b[39m\u001b[90mSIMDTypes\u001b[39m\n",
            "\u001b[32m  ✓ \u001b[39m\u001b[90mTinyHugeNumbers\u001b[39m\n",
            "\u001b[32m  ✓ \u001b[39m\u001b[90mMatrixCorrectionTools\u001b[39m\n",
            "\u001b[32m  ✓ \u001b[39m\u001b[90mIfElse\u001b[39m\n",
            "\u001b[32m  ✓ \u001b[39m\u001b[90mDocStringExtensions\u001b[39m\n",
            "\u001b[32m  ✓ \u001b[39m\u001b[90mConstructionBase\u001b[39m\n",
            "\u001b[32m  ✓ \u001b[39m\u001b[90mIntervalSets\u001b[39m\n",
            "\u001b[32m  ✓ \u001b[39m\u001b[90mIrrationalConstants\u001b[39m\n",
            "\u001b[32m  ✓ \u001b[39m\u001b[90mStatsAPI\u001b[39m\n",
            "\u001b[32m  ✓ \u001b[39m\u001b[90mDataAPI\u001b[39m\n",
            "\u001b[32m  ✓ \u001b[39m\u001b[90mStaticArraysCore\u001b[39m\n",
            "\u001b[32m  ✓ \u001b[39m\u001b[90mTupleTools\u001b[39m\n",
            "\u001b[32m  ✓ \u001b[39m\u001b[90mProgressMeter\u001b[39m\n",
            "\u001b[32m  ✓ \u001b[39m\u001b[90mManualMemory\u001b[39m\n",
            "\u001b[32m  ✓ \u001b[39m\u001b[90mRmath_jll\u001b[39m\n",
            "\u001b[32m  ✓ \u001b[39m\u001b[90mOpenSpecFun_jll\u001b[39m\n",
            "\u001b[32m  ✓ \u001b[39m\u001b[90mMacroTools\u001b[39m\n",
            "\u001b[32m  ✓ \u001b[39m\u001b[90mAdapt\u001b[39m\n",
            "\u001b[32m  ✓ \u001b[39m\u001b[90mChainRulesCore\u001b[39m\n",
            "\u001b[32m  ✓ \u001b[39m\u001b[90mParameters\u001b[39m\n",
            "\u001b[32m  ✓ \u001b[39m\u001b[90mNaNMath\u001b[39m\n",
            "\u001b[32m  ✓ \u001b[39m\u001b[90mChangesOfVariables\u001b[39m\n",
            "\u001b[32m  ✓ \u001b[39m\u001b[90mDensityInterface\u001b[39m\n",
            "\u001b[32m  ✓ \u001b[39m\u001b[90mDataStructures\u001b[39m\n",
            "\u001b[32m  ✓ \u001b[39m\u001b[90mStatic\u001b[39m\n",
            "\u001b[32m  ✓ \u001b[39m\u001b[90mMissings\u001b[39m\n",
            "\u001b[32m  ✓ \u001b[39m\u001b[90mDiffResults\u001b[39m\n",
            "\u001b[32m  ✓ \u001b[39m\u001b[90mFastCholesky\u001b[39m\n",
            "\u001b[32m  ✓ \u001b[39m\u001b[90mFillArrays\u001b[39m\n",
            "\u001b[32m  ✓ \u001b[39m\u001b[90mRmath\u001b[39m\n",
            "\u001b[32m  ✓ \u001b[39m\u001b[90mThreadingUtilities\u001b[39m\n",
            "\u001b[32m  ✓ \u001b[39m\u001b[90mCommonSubexpressions\u001b[39m\n",
            "\u001b[32m  ✓ \u001b[39m\u001b[90mSetfield\u001b[39m\n",
            "\u001b[32m  ✓ \u001b[39m\u001b[90mUnrolled\u001b[39m\n",
            "\u001b[32m  ✓ \u001b[39m\u001b[90mGraphPPL\u001b[39m\n",
            "\u001b[32m  ✓ \u001b[39m\u001b[90mOffsetArrays\u001b[39m\n",
            "\u001b[32m  ✓ \u001b[39m\u001b[90mArrayInterface\u001b[39m\n",
            "\u001b[32m  ✓ \u001b[39m\u001b[90mSortingAlgorithms\u001b[39m\n",
            "\u001b[32m  ✓ \u001b[39m\u001b[90mLogExpFunctions\u001b[39m\n",
            "\u001b[32m  ✓ \u001b[39m\u001b[90mBitTwiddlingConvenienceFunctions\u001b[39m\n",
            "\u001b[32m  ✓ \u001b[39m\u001b[90mQuadGK\u001b[39m\n",
            "\u001b[32m  ✓ \u001b[39m\u001b[90mCPUSummary\u001b[39m\n",
            "\u001b[32m  ✓ \u001b[39m\u001b[90mStaticArrays\u001b[39m\n",
            "\u001b[32m  ✓ \u001b[39m\u001b[90mStaticArrayInterface\u001b[39m\n",
            "\u001b[32m  ✓ \u001b[39m\u001b[90mRocket\u001b[39m\n",
            "\u001b[32m  ✓ \u001b[39m\u001b[90mStatsBase\u001b[39m\n",
            "\u001b[32m  ✓ \u001b[39m\u001b[90mHostCPUFeatures\u001b[39m\n",
            "\u001b[32m  ✓ \u001b[39m\u001b[90mPolyesterWeave\u001b[39m\n",
            "\u001b[32m  ✓ \u001b[39m\u001b[90mFiniteDiff\u001b[39m\n",
            "\u001b[32m  ✓ \u001b[39m\u001b[90mSpecialFunctions\u001b[39m\n",
            "\u001b[32m  ✓ \u001b[39m\u001b[90mHCubature\u001b[39m\n",
            "\u001b[32m  ✓ \u001b[39m\u001b[90mCloseOpenIntervals\u001b[39m\n",
            "\u001b[32m  ✓ \u001b[39m\u001b[90mLayoutPointers\u001b[39m\n",
            "\u001b[32m  ✓ \u001b[39m\u001b[90mDomainSets\u001b[39m\n",
            "\u001b[32m  ✓ \u001b[39m\u001b[90mGaussQuadrature\u001b[39m\n",
            "\u001b[32m  ✓ \u001b[39m\u001b[90mDualNumbers\u001b[39m\n",
            "\u001b[32m  ✓ \u001b[39m\u001b[90mDiffRules\u001b[39m\n",
            "\u001b[32m  ✓ \u001b[39m\u001b[90mFastGaussQuadrature\u001b[39m\n",
            "\u001b[32m  ✓ \u001b[39m\u001b[90mArrayLayouts\u001b[39m\n",
            "\u001b[32m  ✓ \u001b[39m\u001b[90mHypergeometricFunctions\u001b[39m\n",
            "\u001b[32m  ✓ \u001b[39m\u001b[90mDomainIntegrals\u001b[39m\n",
            "\u001b[32m  ✓ \u001b[39m\u001b[90mForwardDiff\u001b[39m\n",
            "\u001b[32m  ✓ \u001b[39m\u001b[90mStatsFuns\u001b[39m\n",
            "\u001b[32m  ✓ \u001b[39m\u001b[90mNLSolversBase\u001b[39m\n",
            "\u001b[32m  ✓ \u001b[39m\u001b[90mMatrixFactorizations\u001b[39m\n",
            "\u001b[32m  ✓ \u001b[39m\u001b[90mLineSearches\u001b[39m\n",
            "\u001b[32m  ✓ \u001b[39m\u001b[90mVectorizationBase\u001b[39m\n",
            "\u001b[32m  ✓ \u001b[39m\u001b[90mDistributions\u001b[39m\n",
            "\u001b[32m  ✓ \u001b[39m\u001b[90mSLEEFPirates\u001b[39m\n",
            "\u001b[32m  ✓ \u001b[39m\u001b[90mOptim\u001b[39m\n",
            "\u001b[32m  ✓ \u001b[39m\u001b[90mLazyArrays\u001b[39m\n",
            "\u001b[32m  ✓ \u001b[39m\u001b[90mLoopVectorization\u001b[39m\n",
            "\u001b[32m  ✓ \u001b[39m\u001b[90mReactiveMP\u001b[39m\n",
            "\u001b[32m  ✓ \u001b[39mRxInfer\n",
            "  87 dependencies successfully precompiled in 215 seconds. 20 already precompiled.\n"
          ]
        }
      ]
    },
    {
      "cell_type": "code",
      "source": [
        "import Pkg; Pkg.add(\"StatsPlots\")   # ~5min install"
      ],
      "metadata": {
        "colab": {
          "base_uri": "https://localhost:8080/"
        },
        "id": "9BamX82h8FzR",
        "outputId": "3acf1dcc-7e53-43e7-d4e5-4343d30f1201"
      },
      "execution_count": 8,
      "outputs": [
        {
          "output_type": "stream",
          "name": "stderr",
          "text": [
            "\u001b[32m\u001b[1m   Resolving\u001b[22m\u001b[39m package versions...\n",
            "\u001b[32m\u001b[1m   Installed\u001b[22m\u001b[39m x265_jll ───────────────────── v3.5.0+0\n",
            "\u001b[32m\u001b[1m   Installed\u001b[22m\u001b[39m libfdk_aac_jll ─────────────── v2.0.2+0\n",
            "\u001b[32m\u001b[1m   Installed\u001b[22m\u001b[39m JpegTurbo_jll ──────────────── v3.0.1+0\n",
            "\u001b[32m\u001b[1m   Installed\u001b[22m\u001b[39m GR_jll ─────────────────────── v0.72.10+0\n",
            "\u001b[32m\u001b[1m   Installed\u001b[22m\u001b[39m LERC_jll ───────────────────── v3.0.0+1\n",
            "\u001b[32m\u001b[1m   Installed\u001b[22m\u001b[39m FFTW ───────────────────────── v1.8.0\n",
            "\u001b[32m\u001b[1m   Installed\u001b[22m\u001b[39m LoggingExtras ──────────────── v1.0.3\n",
            "\u001b[32m\u001b[1m   Installed\u001b[22m\u001b[39m Opus_jll ───────────────────── v1.3.2+0\n",
            "\u001b[32m\u001b[1m   Installed\u001b[22m\u001b[39m Xorg_xkbcomp_jll ───────────── v1.4.6+0\n",
            "\u001b[32m\u001b[1m   Installed\u001b[22m\u001b[39m RelocatableFolders ─────────── v1.0.1\n",
            "\u001b[32m\u001b[1m   Installed\u001b[22m\u001b[39m Measures ───────────────────── v0.3.2\n",
            "\u001b[32m\u001b[1m   Installed\u001b[22m\u001b[39m ConcurrentUtilities ────────── v2.3.0\n",
            "\u001b[32m\u001b[1m   Installed\u001b[22m\u001b[39m Unitful ────────────────────── v1.19.0\n",
            "\u001b[32m\u001b[1m   Installed\u001b[22m\u001b[39m Contour ────────────────────── v0.6.2\n",
            "\u001b[32m\u001b[1m   Installed\u001b[22m\u001b[39m NearestNeighbors ───────────── v0.4.16\n",
            "\u001b[32m\u001b[1m   Installed\u001b[22m\u001b[39m Xorg_xcb_util_wm_jll ───────── v0.4.1+1\n",
            "\u001b[32m\u001b[1m   Installed\u001b[22m\u001b[39m Grisu ──────────────────────── v1.0.2\n",
            "\u001b[32m\u001b[1m   Installed\u001b[22m\u001b[39m Formatting ─────────────────── v0.4.2\n",
            "\u001b[32m\u001b[1m   Installed\u001b[22m\u001b[39m PlotUtils ──────────────────── v1.4.0\n",
            "\u001b[32m\u001b[1m   Installed\u001b[22m\u001b[39m RecipesPipeline ────────────── v0.6.12\n",
            "\u001b[32m\u001b[1m   Installed\u001b[22m\u001b[39m Xorg_libpthread_stubs_jll ──── v0.1.1+0\n",
            "\u001b[32m\u001b[1m   Installed\u001b[22m\u001b[39m OpenSSL ────────────────────── v1.4.1\n",
            "\u001b[32m\u001b[1m   Installed\u001b[22m\u001b[39m Xorg_libSM_jll ─────────────── v1.2.3+0\n",
            "\u001b[32m\u001b[1m   Installed\u001b[22m\u001b[39m HTTP ───────────────────────── v1.10.1\n",
            "\u001b[32m\u001b[1m   Installed\u001b[22m\u001b[39m Cairo_jll ──────────────────── v1.16.1+1\n",
            "\u001b[32m\u001b[1m   Installed\u001b[22m\u001b[39m Xorg_xcb_util_jll ──────────── v0.4.0+1\n",
            "\u001b[32m\u001b[1m   Installed\u001b[22m\u001b[39m Libgpg_error_jll ───────────── v1.42.0+0\n",
            "\u001b[32m\u001b[1m   Installed\u001b[22m\u001b[39m Fontconfig_jll ─────────────── v2.13.93+0\n",
            "\u001b[32m\u001b[1m   Installed\u001b[22m\u001b[39m IntelOpenMP_jll ────────────── v2024.0.2+0\n",
            "\u001b[32m\u001b[1m   Installed\u001b[22m\u001b[39m Xorg_libxkbfile_jll ────────── v1.1.2+0\n",
            "\u001b[32m\u001b[1m   Installed\u001b[22m\u001b[39m Xorg_libXau_jll ────────────── v1.0.11+0\n",
            "\u001b[32m\u001b[1m   Installed\u001b[22m\u001b[39m Xorg_libXinerama_jll ───────── v1.1.4+4\n",
            "\u001b[32m\u001b[1m   Installed\u001b[22m\u001b[39m EpollShim_jll ──────────────── v0.0.20230411+0\n",
            "\u001b[32m\u001b[1m   Installed\u001b[22m\u001b[39m Distances ──────────────────── v0.10.11\n",
            "\u001b[32m\u001b[1m   Installed\u001b[22m\u001b[39m ColorSchemes ───────────────── v3.24.0\n",
            "\u001b[32m\u001b[1m   Installed\u001b[22m\u001b[39m FFMPEG ─────────────────────── v0.4.1\n",
            "\u001b[32m\u001b[1m   Installed\u001b[22m\u001b[39m Showoff ────────────────────── v1.0.3\n",
            "\u001b[32m\u001b[1m   Installed\u001b[22m\u001b[39m Xorg_xcb_util_keysyms_jll ──── v0.4.0+1\n",
            "\u001b[32m\u001b[1m   Installed\u001b[22m\u001b[39m xkbcommon_jll ──────────────── v1.4.1+1\n",
            "\u001b[32m\u001b[1m   Installed\u001b[22m\u001b[39m Bzip2_jll ──────────────────── v1.0.8+1\n",
            "\u001b[32m\u001b[1m   Installed\u001b[22m\u001b[39m Clustering ─────────────────── v0.15.7\n",
            "\u001b[32m\u001b[1m   Installed\u001b[22m\u001b[39m Pipe ───────────────────────── v1.3.0\n",
            "\u001b[32m\u001b[1m   Installed\u001b[22m\u001b[39m SimpleBufferStream ─────────── v1.1.0\n",
            "\u001b[32m\u001b[1m   Installed\u001b[22m\u001b[39m GR ─────────────────────────── v0.72.10\n",
            "\u001b[32m\u001b[1m   Installed\u001b[22m\u001b[39m HarfBuzz_jll ───────────────── v2.8.1+1\n",
            "\u001b[32m\u001b[1m   Installed\u001b[22m\u001b[39m XZ_jll ─────────────────────── v5.4.5+0\n",
            "\u001b[32m\u001b[1m   Installed\u001b[22m\u001b[39m LZO_jll ────────────────────── v2.10.1+0\n",
            "\u001b[32m\u001b[1m   Installed\u001b[22m\u001b[39m SentinelArrays ─────────────── v1.4.1\n",
            "\u001b[32m\u001b[1m   Installed\u001b[22m\u001b[39m PlotThemes ─────────────────── v3.1.0\n",
            "\u001b[32m\u001b[1m   Installed\u001b[22m\u001b[39m GLFW_jll ───────────────────── v3.3.9+0\n",
            "\u001b[32m\u001b[1m   Installed\u001b[22m\u001b[39m FriBidi_jll ────────────────── v1.0.10+0\n",
            "\u001b[32m\u001b[1m   Installed\u001b[22m\u001b[39m fzf_jll ────────────────────── v0.43.0+0\n",
            "\u001b[32m\u001b[1m   Installed\u001b[22m\u001b[39m Ratios ─────────────────────── v0.4.5\n",
            "\u001b[32m\u001b[1m   Installed\u001b[22m\u001b[39m UnicodeFun ─────────────────── v0.4.1\n",
            "\u001b[32m\u001b[1m   Installed\u001b[22m\u001b[39m TranscodingStreams ─────────── v0.10.2\n",
            "\u001b[32m\u001b[1m   Installed\u001b[22m\u001b[39m Xorg_xcb_util_image_jll ────── v0.4.0+1\n",
            "\u001b[32m\u001b[1m   Installed\u001b[22m\u001b[39m x264_jll ───────────────────── v2021.5.5+0\n",
            "\u001b[32m\u001b[1m   Installed\u001b[22m\u001b[39m FreeType2_jll ──────────────── v2.13.1+0\n",
            "\u001b[32m\u001b[1m   Installed\u001b[22m\u001b[39m libpng_jll ─────────────────── v1.6.40+0\n",
            "\u001b[32m\u001b[1m   Installed\u001b[22m\u001b[39m Xorg_libxcb_jll ────────────── v1.15.0+0\n",
            "\u001b[32m\u001b[1m   Installed\u001b[22m\u001b[39m CodecZlib ──────────────────── v0.7.3\n",
            "\u001b[32m\u001b[1m   Installed\u001b[22m\u001b[39m JLFzf ──────────────────────── v0.1.7\n",
            "\u001b[32m\u001b[1m   Installed\u001b[22m\u001b[39m Colors ─────────────────────── v0.12.10\n",
            "\u001b[32m\u001b[1m   Installed\u001b[22m\u001b[39m libaom_jll ─────────────────── v3.4.0+0\n",
            "\u001b[32m\u001b[1m   Installed\u001b[22m\u001b[39m mtdev_jll ──────────────────── v1.1.6+0\n",
            "\u001b[32m\u001b[1m   Installed\u001b[22m\u001b[39m ExceptionUnwrapping ────────── v0.1.10\n",
            "\u001b[32m\u001b[1m   Installed\u001b[22m\u001b[39m gperf_jll ──────────────────── v3.1.1+0\n",
            "\u001b[32m\u001b[1m   Installed\u001b[22m\u001b[39m Scratch ────────────────────── v1.2.1\n",
            "\u001b[32m\u001b[1m   Installed\u001b[22m\u001b[39m StatsPlots ─────────────────── v0.15.6\n",
            "\u001b[32m\u001b[1m   Installed\u001b[22m\u001b[39m ColorTypes ─────────────────── v0.11.4\n",
            "\u001b[32m\u001b[1m   Installed\u001b[22m\u001b[39m Plots ──────────────────────── v1.39.0\n",
            "\u001b[32m\u001b[1m   Installed\u001b[22m\u001b[39m eudev_jll ──────────────────── v3.2.9+0\n",
            "\u001b[32m\u001b[1m   Installed\u001b[22m\u001b[39m Xorg_libXext_jll ───────────── v1.3.4+4\n",
            "\u001b[32m\u001b[1m   Installed\u001b[22m\u001b[39m Zstd_jll ───────────────────── v1.5.5+0\n",
            "\u001b[32m\u001b[1m   Installed\u001b[22m\u001b[39m TensorCore ─────────────────── v0.1.1\n",
            "\u001b[32m\u001b[1m   Installed\u001b[22m\u001b[39m TableTraits ────────────────── v1.0.1\n",
            "\u001b[32m\u001b[1m   Installed\u001b[22m\u001b[39m Xorg_xcb_util_cursor_jll ───── v0.1.4+0\n",
            "\u001b[32m\u001b[1m   Installed\u001b[22m\u001b[39m Libtiff_jll ────────────────── v4.5.1+1\n",
            "\u001b[32m\u001b[1m   Installed\u001b[22m\u001b[39m MKL_jll ────────────────────── v2024.0.0+0\n",
            "\u001b[32m\u001b[1m   Installed\u001b[22m\u001b[39m Expat_jll ──────────────────── v2.5.0+0\n",
            "\u001b[32m\u001b[1m   Installed\u001b[22m\u001b[39m DataValueInterfaces ────────── v1.0.0\n",
            "\u001b[32m\u001b[1m   Installed\u001b[22m\u001b[39m Libffi_jll ─────────────────── v3.2.2+1\n",
            "\u001b[32m\u001b[1m   Installed\u001b[22m\u001b[39m AbstractFFTs ───────────────── v1.5.0\n",
            "\u001b[32m\u001b[1m   Installed\u001b[22m\u001b[39m ColorVectorSpace ───────────── v0.10.0\n",
            "\u001b[32m\u001b[1m   Installed\u001b[22m\u001b[39m Xorg_libXrender_jll ────────── v0.9.10+4\n",
            "\u001b[32m\u001b[1m   Installed\u001b[22m\u001b[39m libevdev_jll ───────────────── v1.11.0+0\n",
            "\u001b[32m\u001b[1m   Installed\u001b[22m\u001b[39m libinput_jll ───────────────── v1.18.0+0\n",
            "\u001b[32m\u001b[1m   Installed\u001b[22m\u001b[39m Xorg_libXi_jll ─────────────── v1.7.10+4\n",
            "\u001b[32m\u001b[1m   Installed\u001b[22m\u001b[39m Ogg_jll ────────────────────── v1.3.5+1\n",
            "\u001b[32m\u001b[1m   Installed\u001b[22m\u001b[39m Vulkan_Loader_jll ──────────── v1.3.243+0\n",
            "\u001b[32m\u001b[1m   Installed\u001b[22m\u001b[39m KernelDensity ──────────────── v0.6.8\n",
            "\u001b[32m\u001b[1m   Installed\u001b[22m\u001b[39m Libmount_jll ───────────────── v2.35.0+0\n",
            "\u001b[32m\u001b[1m   Installed\u001b[22m\u001b[39m XSLT_jll ───────────────────── v1.1.34+0\n",
            "\u001b[32m\u001b[1m   Installed\u001b[22m\u001b[39m FFTW_jll ───────────────────── v3.3.10+0\n",
            "\u001b[32m\u001b[1m   Installed\u001b[22m\u001b[39m Libuuid_jll ────────────────── v2.36.0+0\n",
            "\u001b[32m\u001b[1m   Installed\u001b[22m\u001b[39m Xorg_libXcursor_jll ────────── v1.2.0+4\n",
            "\u001b[32m\u001b[1m   Installed\u001b[22m\u001b[39m Wayland_protocols_jll ──────── v1.31.0+0\n",
            "\u001b[32m\u001b[1m   Installed\u001b[22m\u001b[39m Xorg_xcb_util_renderutil_jll ─ v0.3.9+1\n",
            "\u001b[32m\u001b[1m   Installed\u001b[22m\u001b[39m Widgets ────────────────────── v0.6.6\n",
            "\u001b[32m\u001b[1m   Installed\u001b[22m\u001b[39m MultivariateStats ──────────── v0.10.2\n",
            "\u001b[32m\u001b[1m   Installed\u001b[22m\u001b[39m Xorg_libICE_jll ────────────── v1.0.10+1\n",
            "\u001b[32m\u001b[1m   Installed\u001b[22m\u001b[39m libass_jll ─────────────────── v0.15.1+0\n",
            "\u001b[32m\u001b[1m   Installed\u001b[22m\u001b[39m Graphite2_jll ──────────────── v1.3.14+0\n",
            "\u001b[32m\u001b[1m   Installed\u001b[22m\u001b[39m Pixman_jll ─────────────────── v0.42.2+0\n",
            "\u001b[32m\u001b[1m   Installed\u001b[22m\u001b[39m XML2_jll ───────────────────── v2.12.2+0\n",
            "\u001b[32m\u001b[1m   Installed\u001b[22m\u001b[39m Gettext_jll ────────────────── v0.21.0+0\n",
            "\u001b[32m\u001b[1m   Installed\u001b[22m\u001b[39m Latexify ───────────────────── v0.16.1\n",
            "\u001b[32m\u001b[1m   Installed\u001b[22m\u001b[39m Wayland_jll ────────────────── v1.21.0+1\n",
            "\u001b[32m\u001b[1m   Installed\u001b[22m\u001b[39m Arpack_jll ─────────────────── v3.5.1+1\n",
            "\u001b[32m\u001b[1m   Installed\u001b[22m\u001b[39m Xorg_xtrans_jll ────────────── v1.5.0+0\n",
            "\u001b[32m\u001b[1m   Installed\u001b[22m\u001b[39m OpenSSL_jll ────────────────── v3.0.12+0\n",
            "\u001b[32m\u001b[1m   Installed\u001b[22m\u001b[39m FFMPEG_jll ─────────────────── v4.4.4+1\n",
            "\u001b[32m\u001b[1m   Installed\u001b[22m\u001b[39m BitFlags ───────────────────── v0.1.8\n",
            "\u001b[32m\u001b[1m   Installed\u001b[22m\u001b[39m Interpolations ─────────────── v0.14.7\n",
            "\u001b[32m\u001b[1m   Installed\u001b[22m\u001b[39m Libgcrypt_jll ──────────────── v1.8.7+0\n",
            "\u001b[32m\u001b[1m   Installed\u001b[22m\u001b[39m Xorg_xkeyboard_config_jll ──── v2.39.0+0\n",
            "\u001b[32m\u001b[1m   Installed\u001b[22m\u001b[39m LLVMOpenMP_jll ─────────────── v15.0.7+0\n",
            "\u001b[32m\u001b[1m   Installed\u001b[22m\u001b[39m Xorg_libXrandr_jll ─────────── v1.5.2+4\n",
            "\u001b[32m\u001b[1m   Installed\u001b[22m\u001b[39m RecipesBase ────────────────── v1.3.4\n",
            "\u001b[32m\u001b[1m   Installed\u001b[22m\u001b[39m TableOperations ────────────── v1.2.0\n",
            "\u001b[32m\u001b[1m   Installed\u001b[22m\u001b[39m FixedPointNumbers ──────────── v0.8.4\n",
            "\u001b[32m\u001b[1m   Installed\u001b[22m\u001b[39m Tables ─────────────────────── v1.11.1\n",
            "\u001b[32m\u001b[1m   Installed\u001b[22m\u001b[39m Xorg_libXfixes_jll ─────────── v5.0.3+4\n",
            "\u001b[32m\u001b[1m   Installed\u001b[22m\u001b[39m LAME_jll ───────────────────── v3.100.1+0\n",
            "\u001b[32m\u001b[1m   Installed\u001b[22m\u001b[39m IteratorInterfaceExtensions ── v1.0.0\n",
            "\u001b[32m\u001b[1m   Installed\u001b[22m\u001b[39m Qt6Base_jll ────────────────── v6.5.3+1\n",
            "\u001b[32m\u001b[1m   Installed\u001b[22m\u001b[39m Libiconv_jll ───────────────── v1.17.0+0\n",
            "\u001b[32m\u001b[1m   Installed\u001b[22m\u001b[39m Glib_jll ───────────────────── v2.76.5+0\n",
            "\u001b[32m\u001b[1m   Installed\u001b[22m\u001b[39m LaTeXStrings ───────────────── v1.3.1\n",
            "\u001b[32m\u001b[1m   Installed\u001b[22m\u001b[39m Arpack ─────────────────────── v0.5.4\n",
            "\u001b[32m\u001b[1m   Installed\u001b[22m\u001b[39m URIs ───────────────────────── v1.5.1\n",
            "\u001b[32m\u001b[1m   Installed\u001b[22m\u001b[39m libvorbis_jll ──────────────── v1.3.7+1\n",
            "\u001b[32m\u001b[1m   Installed\u001b[22m\u001b[39m Libglvnd_jll ───────────────── v1.6.0+0\n",
            "\u001b[32m\u001b[1m   Installed\u001b[22m\u001b[39m Xorg_libX11_jll ────────────── v1.8.6+0\n",
            "\u001b[32m\u001b[1m   Installed\u001b[22m\u001b[39m AxisAlgorithms ─────────────── v1.0.1\n",
            "\u001b[32m\u001b[1m   Installed\u001b[22m\u001b[39m Xorg_libXdmcp_jll ──────────── v1.1.4+0\n",
            "\u001b[32m\u001b[1m   Installed\u001b[22m\u001b[39m WoodburyMatrices ───────────── v0.5.6\n",
            "\u001b[32m\u001b[1m   Installed\u001b[22m\u001b[39m Observables ────────────────── v0.5.5\n",
            "\u001b[32m\u001b[1m   Installed\u001b[22m\u001b[39m Unzip ──────────────────────── v0.2.0\n",
            "\u001b[32m\u001b[1m   Installed\u001b[22m\u001b[39m UnitfulLatexify ────────────── v1.6.3\n",
            "\u001b[32m\u001b[1m    Updating\u001b[22m\u001b[39m `~/.julia/environments/v1.8/Project.toml`\n",
            " \u001b[90m [f3b207a7] \u001b[39m\u001b[92m+ StatsPlots v0.15.6\u001b[39m\n",
            "\u001b[32m\u001b[1m    Updating\u001b[22m\u001b[39m `~/.julia/environments/v1.8/Manifest.toml`\n",
            " \u001b[90m [621f4979] \u001b[39m\u001b[92m+ AbstractFFTs v1.5.0\u001b[39m\n",
            " \u001b[90m [7d9fca2a] \u001b[39m\u001b[92m+ Arpack v0.5.4\u001b[39m\n",
            "\u001b[32m⌃\u001b[39m\u001b[90m [13072b0f] \u001b[39m\u001b[92m+ AxisAlgorithms v1.0.1\u001b[39m\n",
            " \u001b[90m [d1d4a3ce] \u001b[39m\u001b[92m+ BitFlags v0.1.8\u001b[39m\n",
            " \u001b[90m [aaaa29a8] \u001b[39m\u001b[92m+ Clustering v0.15.7\u001b[39m\n",
            " \u001b[90m [944b1d66] \u001b[39m\u001b[92m+ CodecZlib v0.7.3\u001b[39m\n",
            " \u001b[90m [35d6a980] \u001b[39m\u001b[92m+ ColorSchemes v3.24.0\u001b[39m\n",
            " \u001b[90m [3da002f7] \u001b[39m\u001b[92m+ ColorTypes v0.11.4\u001b[39m\n",
            " \u001b[90m [c3611d14] \u001b[39m\u001b[92m+ ColorVectorSpace v0.10.0\u001b[39m\n",
            " \u001b[90m [5ae59095] \u001b[39m\u001b[92m+ Colors v0.12.10\u001b[39m\n",
            " \u001b[90m [f0e56b4a] \u001b[39m\u001b[92m+ ConcurrentUtilities v2.3.0\u001b[39m\n",
            " \u001b[90m [d38c429a] \u001b[39m\u001b[92m+ Contour v0.6.2\u001b[39m\n",
            " \u001b[90m [e2d170a0] \u001b[39m\u001b[92m+ DataValueInterfaces v1.0.0\u001b[39m\n",
            " \u001b[90m [b4f34e82] \u001b[39m\u001b[92m+ Distances v0.10.11\u001b[39m\n",
            " \u001b[90m [460bff9d] \u001b[39m\u001b[92m+ ExceptionUnwrapping v0.1.10\u001b[39m\n",
            " \u001b[90m [c87230d0] \u001b[39m\u001b[92m+ FFMPEG v0.4.1\u001b[39m\n",
            " \u001b[90m [7a1cc6ca] \u001b[39m\u001b[92m+ FFTW v1.8.0\u001b[39m\n",
            " \u001b[90m [53c48c17] \u001b[39m\u001b[92m+ FixedPointNumbers v0.8.4\u001b[39m\n",
            " \u001b[90m [59287772] \u001b[39m\u001b[92m+ Formatting v0.4.2\u001b[39m\n",
            "\u001b[33m⌅\u001b[39m\u001b[90m [28b8d3ca] \u001b[39m\u001b[92m+ GR v0.72.10\u001b[39m\n",
            " \u001b[90m [42e2da0e] \u001b[39m\u001b[92m+ Grisu v1.0.2\u001b[39m\n",
            " \u001b[90m [cd3eb016] \u001b[39m\u001b[92m+ HTTP v1.10.1\u001b[39m\n",
            "\u001b[33m⌅\u001b[39m\u001b[90m [a98d9a8b] \u001b[39m\u001b[92m+ Interpolations v0.14.7\u001b[39m\n",
            " \u001b[90m [82899510] \u001b[39m\u001b[92m+ IteratorInterfaceExtensions v1.0.0\u001b[39m\n",
            " \u001b[90m [1019f520] \u001b[39m\u001b[92m+ JLFzf v0.1.7\u001b[39m\n",
            " \u001b[90m [5ab0869b] \u001b[39m\u001b[92m+ KernelDensity v0.6.8\u001b[39m\n",
            " \u001b[90m [b964fa9f] \u001b[39m\u001b[92m+ LaTeXStrings v1.3.1\u001b[39m\n",
            " \u001b[90m [23fbe1c1] \u001b[39m\u001b[92m+ Latexify v0.16.1\u001b[39m\n",
            " \u001b[90m [e6f89c97] \u001b[39m\u001b[92m+ LoggingExtras v1.0.3\u001b[39m\n",
            " \u001b[90m [442fdcdd] \u001b[39m\u001b[92m+ Measures v0.3.2\u001b[39m\n",
            " \u001b[90m [6f286f6a] \u001b[39m\u001b[92m+ MultivariateStats v0.10.2\u001b[39m\n",
            " \u001b[90m [b8a86587] \u001b[39m\u001b[92m+ NearestNeighbors v0.4.16\u001b[39m\n",
            " \u001b[90m [510215fc] \u001b[39m\u001b[92m+ Observables v0.5.5\u001b[39m\n",
            " \u001b[90m [4d8831e6] \u001b[39m\u001b[92m+ OpenSSL v1.4.1\u001b[39m\n",
            " \u001b[90m [b98c9c47] \u001b[39m\u001b[92m+ Pipe v1.3.0\u001b[39m\n",
            " \u001b[90m [ccf2f8ad] \u001b[39m\u001b[92m+ PlotThemes v3.1.0\u001b[39m\n",
            " \u001b[90m [995b91a9] \u001b[39m\u001b[92m+ PlotUtils v1.4.0\u001b[39m\n",
            "\u001b[33m⌅\u001b[39m\u001b[90m [91a5bcdd] \u001b[39m\u001b[92m+ Plots v1.39.0\u001b[39m\n",
            " \u001b[90m [c84ed2f1] \u001b[39m\u001b[92m+ Ratios v0.4.5\u001b[39m\n",
            " \u001b[90m [3cdcf5f2] \u001b[39m\u001b[92m+ RecipesBase v1.3.4\u001b[39m\n",
            " \u001b[90m [01d81517] \u001b[39m\u001b[92m+ RecipesPipeline v0.6.12\u001b[39m\n",
            " \u001b[90m [05181044] \u001b[39m\u001b[92m+ RelocatableFolders v1.0.1\u001b[39m\n",
            " \u001b[90m [6c6a2e73] \u001b[39m\u001b[92m+ Scratch v1.2.1\u001b[39m\n",
            " \u001b[90m [91c51154] \u001b[39m\u001b[92m+ SentinelArrays v1.4.1\u001b[39m\n",
            " \u001b[90m [992d4aef] \u001b[39m\u001b[92m+ Showoff v1.0.3\u001b[39m\n",
            " \u001b[90m [777ac1f9] \u001b[39m\u001b[92m+ SimpleBufferStream v1.1.0\u001b[39m\n",
            " \u001b[90m [f3b207a7] \u001b[39m\u001b[92m+ StatsPlots v0.15.6\u001b[39m\n",
            " \u001b[90m [ab02a1b2] \u001b[39m\u001b[92m+ TableOperations v1.2.0\u001b[39m\n",
            " \u001b[90m [3783bdb8] \u001b[39m\u001b[92m+ TableTraits v1.0.1\u001b[39m\n",
            " \u001b[90m [bd369af6] \u001b[39m\u001b[92m+ Tables v1.11.1\u001b[39m\n",
            " \u001b[90m [62fd8b95] \u001b[39m\u001b[92m+ TensorCore v0.1.1\u001b[39m\n",
            " \u001b[90m [3bb67fe8] \u001b[39m\u001b[92m+ TranscodingStreams v0.10.2\u001b[39m\n",
            " \u001b[90m [5c2747f8] \u001b[39m\u001b[92m+ URIs v1.5.1\u001b[39m\n",
            " \u001b[90m [1cfade01] \u001b[39m\u001b[92m+ UnicodeFun v0.4.1\u001b[39m\n",
            " \u001b[90m [1986cc42] \u001b[39m\u001b[92m+ Unitful v1.19.0\u001b[39m\n",
            " \u001b[90m [45397f5d] \u001b[39m\u001b[92m+ UnitfulLatexify v1.6.3\u001b[39m\n",
            " \u001b[90m [41fe7b60] \u001b[39m\u001b[92m+ Unzip v0.2.0\u001b[39m\n",
            " \u001b[90m [cc8bc4a8] \u001b[39m\u001b[92m+ Widgets v0.6.6\u001b[39m\n",
            "\u001b[33m⌅\u001b[39m\u001b[90m [efce3f68] \u001b[39m\u001b[92m+ WoodburyMatrices v0.5.6\u001b[39m\n",
            "\u001b[33m⌅\u001b[39m\u001b[90m [68821587] \u001b[39m\u001b[92m+ Arpack_jll v3.5.1+1\u001b[39m\n",
            " \u001b[90m [6e34b625] \u001b[39m\u001b[92m+ Bzip2_jll v1.0.8+1\u001b[39m\n",
            " \u001b[90m [83423d85] \u001b[39m\u001b[92m+ Cairo_jll v1.16.1+1\u001b[39m\n",
            " \u001b[90m [2702e6a9] \u001b[39m\u001b[92m+ EpollShim_jll v0.0.20230411+0\u001b[39m\n",
            " \u001b[90m [2e619515] \u001b[39m\u001b[92m+ Expat_jll v2.5.0+0\u001b[39m\n",
            " \u001b[90m [b22a6f82] \u001b[39m\u001b[92m+ FFMPEG_jll v4.4.4+1\u001b[39m\n",
            " \u001b[90m [f5851436] \u001b[39m\u001b[92m+ FFTW_jll v3.3.10+0\u001b[39m\n",
            " \u001b[90m [a3f928ae] \u001b[39m\u001b[92m+ Fontconfig_jll v2.13.93+0\u001b[39m\n",
            " \u001b[90m [d7e528f0] \u001b[39m\u001b[92m+ FreeType2_jll v2.13.1+0\u001b[39m\n",
            " \u001b[90m [559328eb] \u001b[39m\u001b[92m+ FriBidi_jll v1.0.10+0\u001b[39m\n",
            " \u001b[90m [0656b61e] \u001b[39m\u001b[92m+ GLFW_jll v3.3.9+0\u001b[39m\n",
            "\u001b[33m⌅\u001b[39m\u001b[90m [d2c73de3] \u001b[39m\u001b[92m+ GR_jll v0.72.10+0\u001b[39m\n",
            " \u001b[90m [78b55507] \u001b[39m\u001b[92m+ Gettext_jll v0.21.0+0\u001b[39m\n",
            " \u001b[90m [7746bdde] \u001b[39m\u001b[92m+ Glib_jll v2.76.5+0\u001b[39m\n",
            " \u001b[90m [3b182d85] \u001b[39m\u001b[92m+ Graphite2_jll v1.3.14+0\u001b[39m\n",
            " \u001b[90m [2e76f6c2] \u001b[39m\u001b[92m+ HarfBuzz_jll v2.8.1+1\u001b[39m\n",
            " \u001b[90m [1d5cc7b8] \u001b[39m\u001b[92m+ IntelOpenMP_jll v2024.0.2+0\u001b[39m\n",
            " \u001b[90m [aacddb02] \u001b[39m\u001b[92m+ JpegTurbo_jll v3.0.1+0\u001b[39m\n",
            " \u001b[90m [c1c5ebd0] \u001b[39m\u001b[92m+ LAME_jll v3.100.1+0\u001b[39m\n",
            " \u001b[90m [88015f11] \u001b[39m\u001b[92m+ LERC_jll v3.0.0+1\u001b[39m\n",
            " \u001b[90m [1d63c593] \u001b[39m\u001b[92m+ LLVMOpenMP_jll v15.0.7+0\u001b[39m\n",
            " \u001b[90m [dd4b983a] \u001b[39m\u001b[92m+ LZO_jll v2.10.1+0\u001b[39m\n",
            "\u001b[33m⌅\u001b[39m\u001b[90m [e9f186c6] \u001b[39m\u001b[92m+ Libffi_jll v3.2.2+1\u001b[39m\n",
            " \u001b[90m [d4300ac3] \u001b[39m\u001b[92m+ Libgcrypt_jll v1.8.7+0\u001b[39m\n",
            " \u001b[90m [7e76a0d4] \u001b[39m\u001b[92m+ Libglvnd_jll v1.6.0+0\u001b[39m\n",
            " \u001b[90m [7add5ba3] \u001b[39m\u001b[92m+ Libgpg_error_jll v1.42.0+0\u001b[39m\n",
            " \u001b[90m [94ce4f54] \u001b[39m\u001b[92m+ Libiconv_jll v1.17.0+0\u001b[39m\n",
            " \u001b[90m [4b2f31a3] \u001b[39m\u001b[92m+ Libmount_jll v2.35.0+0\u001b[39m\n",
            "\u001b[33m⌅\u001b[39m\u001b[90m [89763e89] \u001b[39m\u001b[92m+ Libtiff_jll v4.5.1+1\u001b[39m\n",
            " \u001b[90m [38a345b3] \u001b[39m\u001b[92m+ Libuuid_jll v2.36.0+0\u001b[39m\n",
            " \u001b[90m [856f044c] \u001b[39m\u001b[92m+ MKL_jll v2024.0.0+0\u001b[39m\n",
            " \u001b[90m [e7412a2a] \u001b[39m\u001b[92m+ Ogg_jll v1.3.5+1\u001b[39m\n",
            " \u001b[90m [458c3c95] \u001b[39m\u001b[92m+ OpenSSL_jll v3.0.12+0\u001b[39m\n",
            " \u001b[90m [91d4177d] \u001b[39m\u001b[92m+ Opus_jll v1.3.2+0\u001b[39m\n",
            " \u001b[90m [30392449] \u001b[39m\u001b[92m+ Pixman_jll v0.42.2+0\u001b[39m\n",
            " \u001b[90m [c0090381] \u001b[39m\u001b[92m+ Qt6Base_jll v6.5.3+1\u001b[39m\n",
            " \u001b[90m [a44049a8] \u001b[39m\u001b[92m+ Vulkan_Loader_jll v1.3.243+0\u001b[39m\n",
            " \u001b[90m [a2964d1f] \u001b[39m\u001b[92m+ Wayland_jll v1.21.0+1\u001b[39m\n",
            " \u001b[90m [2381bf8a] \u001b[39m\u001b[92m+ Wayland_protocols_jll v1.31.0+0\u001b[39m\n",
            " \u001b[90m [02c8fc9c] \u001b[39m\u001b[92m+ XML2_jll v2.12.2+0\u001b[39m\n",
            " \u001b[90m [aed1982a] \u001b[39m\u001b[92m+ XSLT_jll v1.1.34+0\u001b[39m\n",
            " \u001b[90m [ffd25f8a] \u001b[39m\u001b[92m+ XZ_jll v5.4.5+0\u001b[39m\n",
            " \u001b[90m [f67eecfb] \u001b[39m\u001b[92m+ Xorg_libICE_jll v1.0.10+1\u001b[39m\n",
            " \u001b[90m [c834827a] \u001b[39m\u001b[92m+ Xorg_libSM_jll v1.2.3+0\u001b[39m\n",
            " \u001b[90m [4f6342f7] \u001b[39m\u001b[92m+ Xorg_libX11_jll v1.8.6+0\u001b[39m\n",
            " \u001b[90m [0c0b7dd1] \u001b[39m\u001b[92m+ Xorg_libXau_jll v1.0.11+0\u001b[39m\n",
            " \u001b[90m [935fb764] \u001b[39m\u001b[92m+ Xorg_libXcursor_jll v1.2.0+4\u001b[39m\n",
            " \u001b[90m [a3789734] \u001b[39m\u001b[92m+ Xorg_libXdmcp_jll v1.1.4+0\u001b[39m\n",
            " \u001b[90m [1082639a] \u001b[39m\u001b[92m+ Xorg_libXext_jll v1.3.4+4\u001b[39m\n",
            " \u001b[90m [d091e8ba] \u001b[39m\u001b[92m+ Xorg_libXfixes_jll v5.0.3+4\u001b[39m\n",
            " \u001b[90m [a51aa0fd] \u001b[39m\u001b[92m+ Xorg_libXi_jll v1.7.10+4\u001b[39m\n",
            " \u001b[90m [d1454406] \u001b[39m\u001b[92m+ Xorg_libXinerama_jll v1.1.4+4\u001b[39m\n",
            " \u001b[90m [ec84b674] \u001b[39m\u001b[92m+ Xorg_libXrandr_jll v1.5.2+4\u001b[39m\n",
            " \u001b[90m [ea2f1a96] \u001b[39m\u001b[92m+ Xorg_libXrender_jll v0.9.10+4\u001b[39m\n",
            " \u001b[90m [14d82f49] \u001b[39m\u001b[92m+ Xorg_libpthread_stubs_jll v0.1.1+0\u001b[39m\n",
            " \u001b[90m [c7cfdc94] \u001b[39m\u001b[92m+ Xorg_libxcb_jll v1.15.0+0\u001b[39m\n",
            " \u001b[90m [cc61e674] \u001b[39m\u001b[92m+ Xorg_libxkbfile_jll v1.1.2+0\u001b[39m\n",
            " \u001b[90m [e920d4aa] \u001b[39m\u001b[92m+ Xorg_xcb_util_cursor_jll v0.1.4+0\u001b[39m\n",
            " \u001b[90m [12413925] \u001b[39m\u001b[92m+ Xorg_xcb_util_image_jll v0.4.0+1\u001b[39m\n",
            " \u001b[90m [2def613f] \u001b[39m\u001b[92m+ Xorg_xcb_util_jll v0.4.0+1\u001b[39m\n",
            " \u001b[90m [975044d2] \u001b[39m\u001b[92m+ Xorg_xcb_util_keysyms_jll v0.4.0+1\u001b[39m\n",
            " \u001b[90m [0d47668e] \u001b[39m\u001b[92m+ Xorg_xcb_util_renderutil_jll v0.3.9+1\u001b[39m\n",
            " \u001b[90m [c22f9ab0] \u001b[39m\u001b[92m+ Xorg_xcb_util_wm_jll v0.4.1+1\u001b[39m\n",
            " \u001b[90m [35661453] \u001b[39m\u001b[92m+ Xorg_xkbcomp_jll v1.4.6+0\u001b[39m\n",
            " \u001b[90m [33bec58e] \u001b[39m\u001b[92m+ Xorg_xkeyboard_config_jll v2.39.0+0\u001b[39m\n",
            " \u001b[90m [c5fb5394] \u001b[39m\u001b[92m+ Xorg_xtrans_jll v1.5.0+0\u001b[39m\n",
            " \u001b[90m [3161d3a3] \u001b[39m\u001b[92m+ Zstd_jll v1.5.5+0\u001b[39m\n",
            " \u001b[90m [35ca27e7] \u001b[39m\u001b[92m+ eudev_jll v3.2.9+0\u001b[39m\n",
            " \u001b[90m [214eeab7] \u001b[39m\u001b[92m+ fzf_jll v0.43.0+0\u001b[39m\n",
            " \u001b[90m [1a1c6b14] \u001b[39m\u001b[92m+ gperf_jll v3.1.1+0\u001b[39m\n",
            " \u001b[90m [a4ae2306] \u001b[39m\u001b[92m+ libaom_jll v3.4.0+0\u001b[39m\n",
            " \u001b[90m [0ac62f75] \u001b[39m\u001b[92m+ libass_jll v0.15.1+0\u001b[39m\n",
            " \u001b[90m [2db6ffa8] \u001b[39m\u001b[92m+ libevdev_jll v1.11.0+0\u001b[39m\n",
            " \u001b[90m [f638f0a6] \u001b[39m\u001b[92m+ libfdk_aac_jll v2.0.2+0\u001b[39m\n",
            " \u001b[90m [36db933b] \u001b[39m\u001b[92m+ libinput_jll v1.18.0+0\u001b[39m\n",
            " \u001b[90m [b53b4c65] \u001b[39m\u001b[92m+ libpng_jll v1.6.40+0\u001b[39m\n",
            " \u001b[90m [f27f6e37] \u001b[39m\u001b[92m+ libvorbis_jll v1.3.7+1\u001b[39m\n",
            " \u001b[90m [009596ad] \u001b[39m\u001b[92m+ mtdev_jll v1.1.6+0\u001b[39m\n",
            " \u001b[90m [1270edf5] \u001b[39m\u001b[92m+ x264_jll v2021.5.5+0\u001b[39m\n",
            " \u001b[90m [dfaa095f] \u001b[39m\u001b[92m+ x265_jll v3.5.0+0\u001b[39m\n",
            " \u001b[90m [d8fb68d0] \u001b[39m\u001b[92m+ xkbcommon_jll v1.4.1+1\u001b[39m\n",
            " \u001b[90m [8bb1440f] \u001b[39m\u001b[92m+ DelimitedFiles\u001b[39m\n",
            " \u001b[90m [4af54fe1] \u001b[39m\u001b[92m+ LazyArtifacts\u001b[39m\n",
            " \u001b[90m [1a1011a3] \u001b[39m\u001b[92m+ SharedArrays\u001b[39m\n",
            " \u001b[90m [efcefdf7] \u001b[39m\u001b[92m+ PCRE2_jll v10.40.0+0\u001b[39m\n",
            "\u001b[36m\u001b[1m        Info\u001b[22m\u001b[39m Packages marked with \u001b[32m⌃\u001b[39m and \u001b[33m⌅\u001b[39m have new versions available, but those with \u001b[33m⌅\u001b[39m are restricted by compatibility constraints from upgrading. To see why use `status --outdated -m`\n",
            "\u001b[32m\u001b[1mPrecompiling\u001b[22m\u001b[39m project...\n",
            "\u001b[32m  ✓ \u001b[39m\u001b[90mLaTeXStrings\u001b[39m\n",
            "\u001b[32m  ✓ \u001b[39m\u001b[90mIteratorInterfaceExtensions\u001b[39m\n",
            "\u001b[32m  ✓ \u001b[39m\u001b[90mTensorCore\u001b[39m\n",
            "\u001b[32m  ✓ \u001b[39m\u001b[90mContour\u001b[39m\n",
            "\u001b[32m  ✓ \u001b[39m\u001b[90mConcurrentUtilities\u001b[39m\n",
            "\u001b[32m  ✓ \u001b[39m\u001b[90mSentinelArrays\u001b[39m\n",
            "\u001b[32m  ✓ \u001b[39m\u001b[90mXorg_libICE_jll\u001b[39m\n",
            "\u001b[32m  ✓ \u001b[39m\u001b[90mPipe\u001b[39m\n",
            "\u001b[32m  ✓ \u001b[39m\u001b[90mMeasures\u001b[39m\n",
            "\u001b[32m  ✓ \u001b[39m\u001b[90mWoodburyMatrices\u001b[39m\n",
            "\u001b[32m  ✓ \u001b[39m\u001b[90mObservables\u001b[39m\n",
            "\u001b[32m  ✓ \u001b[39m\u001b[90mGrisu\u001b[39m\n",
            "\u001b[32m  ✓ \u001b[39m\u001b[90mDataValueInterfaces\u001b[39m\n",
            "\u001b[32m  ✓ \u001b[39m\u001b[90mFixedPointNumbers\u001b[39m\n",
            "\u001b[32m  ✓ \u001b[39m\u001b[90mDistances\u001b[39m\n",
            "\u001b[32m  ✓ \u001b[39m\u001b[90mUnzip\u001b[39m\n",
            "\u001b[32m  ✓ \u001b[39m\u001b[90mSimpleBufferStream\u001b[39m\n",
            "\u001b[32m  ✓ \u001b[39m\u001b[90mExceptionUnwrapping\u001b[39m\n",
            "\u001b[32m  ✓ \u001b[39m\u001b[90mFormatting\u001b[39m\n",
            "\u001b[32m  ✓ \u001b[39m\u001b[90mURIs\u001b[39m\n",
            "\u001b[32m  ✓ \u001b[39m\u001b[90mPCRE2_jll\u001b[39m\n",
            "\u001b[32m  ✓ \u001b[39m\u001b[90mUnicodeFun\u001b[39m\n",
            "\u001b[32m  ✓ \u001b[39m\u001b[90mRatios\u001b[39m\n",
            "\u001b[32m  ✓ \u001b[39m\u001b[90mTranscodingStreams\u001b[39m\n",
            "\u001b[32m  ✓ \u001b[39m\u001b[90mBitFlags\u001b[39m\n",
            "\u001b[32m  ✓ \u001b[39m\u001b[90mScratch\u001b[39m\n",
            "\u001b[32m  ✓ \u001b[39m\u001b[90mLoggingExtras\u001b[39m\n",
            "\u001b[32m  ✓ \u001b[39m\u001b[90mRecipesBase\u001b[39m\n",
            "\u001b[32m  ✓ \u001b[39m\u001b[90mAbstractFFTs\u001b[39m\n",
            "\u001b[32m  ✓ \u001b[39m\u001b[90mOpenSSL_jll\u001b[39m\n",
            "\u001b[32m  ✓ \u001b[39m\u001b[90mGraphite2_jll\u001b[39m\n",
            "\u001b[32m  ✓ \u001b[39m\u001b[90mEpollShim_jll\u001b[39m\n",
            "\u001b[32m  ✓ \u001b[39m\u001b[90mLibmount_jll\u001b[39m\n",
            "\u001b[32m  ✓ \u001b[39m\u001b[90mLLVMOpenMP_jll\u001b[39m\n",
            "\u001b[32m  ✓ \u001b[39m\u001b[90mBzip2_jll\u001b[39m\n",
            "\u001b[32m  ✓ \u001b[39m\u001b[90mXorg_libXau_jll\u001b[39m\n",
            "\u001b[32m  ✓ \u001b[39m\u001b[90mlibpng_jll\u001b[39m\n",
            "\u001b[32m  ✓ \u001b[39m\u001b[90mlibfdk_aac_jll\u001b[39m\n",
            "\u001b[32m  ✓ \u001b[39m\u001b[90mIntelOpenMP_jll\u001b[39m\n",
            "\u001b[32m  ✓ \u001b[39m\u001b[90mLAME_jll\u001b[39m\n",
            "\u001b[32m  ✓ \u001b[39m\u001b[90mLERC_jll\u001b[39m\n",
            "\u001b[32m  ✓ \u001b[39m\u001b[90mfzf_jll\u001b[39m\n",
            "\u001b[32m  ✓ \u001b[39m\u001b[90mJpegTurbo_jll\u001b[39m\n",
            "\u001b[32m  ✓ \u001b[39m\u001b[90mXZ_jll\u001b[39m\n",
            "\u001b[32m  ✓ \u001b[39m\u001b[90mOgg_jll\u001b[39m\n",
            "\u001b[32m  ✓ \u001b[39m\u001b[90mmtdev_jll\u001b[39m\n",
            "\u001b[32m  ✓ \u001b[39m\u001b[90mgperf_jll\u001b[39m\n",
            "\u001b[32m  ✓ \u001b[39m\u001b[90mXorg_libXdmcp_jll\u001b[39m\n",
            "\u001b[32m  ✓ \u001b[39m\u001b[90mx264_jll\u001b[39m\n",
            "\u001b[32m  ✓ \u001b[39m\u001b[90mx265_jll\u001b[39m\n",
            "\u001b[32m  ✓ \u001b[39m\u001b[90mlibaom_jll\u001b[39m\n",
            "\u001b[32m  ✓ \u001b[39m\u001b[90mZstd_jll\u001b[39m\n",
            "\u001b[32m  ✓ \u001b[39m\u001b[90mArpack_jll\u001b[39m\n",
            "\u001b[32m  ✓ \u001b[39m\u001b[90mExpat_jll\u001b[39m\n",
            "\u001b[32m  ✓ \u001b[39m\u001b[90mLZO_jll\u001b[39m\n",
            "\u001b[32m  ✓ \u001b[39m\u001b[90mOpus_jll\u001b[39m\n",
            "\u001b[32m  ✓ \u001b[39m\u001b[90mlibevdev_jll\u001b[39m\n",
            "\u001b[32m  ✓ \u001b[39m\u001b[90mXorg_xtrans_jll\u001b[39m\n",
            "\u001b[32m  ✓ \u001b[39m\u001b[90mLibiconv_jll\u001b[39m\n",
            "\u001b[32m  ✓ \u001b[39m\u001b[90mLibffi_jll\u001b[39m\n",
            "\u001b[32m  ✓ \u001b[39m\u001b[90mLibgpg_error_jll\u001b[39m\n",
            "\u001b[32m  ✓ \u001b[39m\u001b[90mWayland_protocols_jll\u001b[39m\n",
            "\u001b[32m  ✓ \u001b[39m\u001b[90mFFTW_jll\u001b[39m\n",
            "\u001b[32m  ✓ \u001b[39m\u001b[90mXorg_libpthread_stubs_jll\u001b[39m\n",
            "\u001b[32m  ✓ \u001b[39m\u001b[90mFriBidi_jll\u001b[39m\n",
            "\u001b[32m  ✓ \u001b[39m\u001b[90mLibuuid_jll\u001b[39m\n",
            "\u001b[32m  ✓ \u001b[39m\u001b[90mTableTraits\u001b[39m\n",
            "\u001b[32m  ✓ \u001b[39m\u001b[90mAxisAlgorithms\u001b[39m\n",
            "\u001b[32m  ✓ \u001b[39m\u001b[90mXorg_libSM_jll\u001b[39m\n",
            "\u001b[32m  ✓ \u001b[39m\u001b[90mShowoff\u001b[39m\n",
            "\u001b[32m  ✓ \u001b[39m\u001b[90mColorTypes\u001b[39m\n",
            "\u001b[32m  ✓ \u001b[39m\u001b[90mNearestNeighbors\u001b[39m\n",
            "\u001b[32m  ✓ \u001b[39m\u001b[90mCodecZlib\u001b[39m\n",
            "\u001b[32m  ✓ \u001b[39m\u001b[90mRelocatableFolders\u001b[39m\n",
            "\u001b[32m  ✓ \u001b[39m\u001b[90mLatexify\u001b[39m\n",
            "\u001b[32m  ✓ \u001b[39m\u001b[90mPixman_jll\u001b[39m\n",
            "\u001b[32m  ✓ \u001b[39m\u001b[90mOpenSSL\u001b[39m\n",
            "\u001b[32m  ✓ \u001b[39m\u001b[90mFreeType2_jll\u001b[39m\n",
            "\u001b[32m  ✓ \u001b[39m\u001b[90mJLFzf\u001b[39m\n",
            "\u001b[32m  ✓ \u001b[39m\u001b[90mlibvorbis_jll\u001b[39m\n",
            "\u001b[32m  ✓ \u001b[39m\u001b[90meudev_jll\u001b[39m\n",
            "\u001b[32m  ✓ \u001b[39m\u001b[90mLibtiff_jll\u001b[39m\n",
            "\u001b[32m  ✓ \u001b[39m\u001b[90mArpack\u001b[39m\n",
            "\u001b[32m  ✓ \u001b[39m\u001b[90mXML2_jll\u001b[39m\n",
            "\u001b[32m  ✓ \u001b[39m\u001b[90mLibgcrypt_jll\u001b[39m\n",
            "\u001b[32m  ✓ \u001b[39m\u001b[90mTables\u001b[39m\n",
            "\u001b[32m  ✓ \u001b[39m\u001b[90mInterpolations\u001b[39m\n",
            "\u001b[32m  ✓ \u001b[39m\u001b[90mUnitful\u001b[39m\n",
            "\u001b[32m  ✓ \u001b[39m\u001b[90mColorVectorSpace\u001b[39m\n",
            "\u001b[32m  ✓ \u001b[39m\u001b[90mClustering\u001b[39m\n",
            "\u001b[32m  ✓ \u001b[39m\u001b[90mColors\u001b[39m\n",
            "\u001b[32m  ✓ \u001b[39m\u001b[90mFontconfig_jll\u001b[39m\n",
            "\u001b[32m  ✓ \u001b[39m\u001b[90mlibinput_jll\u001b[39m\n",
            "\u001b[32m  ✓ \u001b[39m\u001b[90mMultivariateStats\u001b[39m\n",
            "\u001b[32m  ✓ \u001b[39m\u001b[90mMKL_jll\u001b[39m\n",
            "\u001b[32m  ✓ \u001b[39m\u001b[90mHTTP\u001b[39m\n",
            "\u001b[32m  ✓ \u001b[39m\u001b[90mWayland_jll\u001b[39m\n",
            "\u001b[32m  ✓ \u001b[39m\u001b[90mGettext_jll\u001b[39m\n",
            "\u001b[32m  ✓ \u001b[39m\u001b[90mXSLT_jll\u001b[39m\n",
            "\u001b[32m  ✓ \u001b[39m\u001b[90mTableOperations\u001b[39m\n",
            "\u001b[32m  ✓ \u001b[39m\u001b[90mWidgets\u001b[39m\n",
            "\u001b[32m  ✓ \u001b[39m\u001b[90mUnitfulLatexify\u001b[39m\n",
            "\u001b[32m  ✓ \u001b[39m\u001b[90mGlib_jll\u001b[39m\n",
            "\u001b[32m  ✓ \u001b[39m\u001b[90mXorg_libxcb_jll\u001b[39m\n",
            "\u001b[32m  ✓ \u001b[39m\u001b[90mXorg_xcb_util_jll\u001b[39m\n",
            "\u001b[32m  ✓ \u001b[39m\u001b[90mXorg_libX11_jll\u001b[39m\n",
            "\u001b[32m  ✓ \u001b[39m\u001b[90mXorg_xcb_util_image_jll\u001b[39m\n",
            "\u001b[32m  ✓ \u001b[39m\u001b[90mXorg_xcb_util_keysyms_jll\u001b[39m\n",
            "\u001b[32m  ✓ \u001b[39m\u001b[90mXorg_xcb_util_renderutil_jll\u001b[39m\n",
            "\u001b[32m  ✓ \u001b[39m\u001b[90mXorg_xcb_util_wm_jll\u001b[39m\n",
            "\u001b[32m  ✓ \u001b[39m\u001b[90mXorg_libXrender_jll\u001b[39m\n",
            "\u001b[32m  ✓ \u001b[39m\u001b[90mFFTW\u001b[39m\n",
            "\u001b[32m  ✓ \u001b[39m\u001b[90mXorg_libXext_jll\u001b[39m\n",
            "\u001b[32m  ✓ \u001b[39m\u001b[90mXorg_libXfixes_jll\u001b[39m\n",
            "\u001b[32m  ✓ \u001b[39m\u001b[90mXorg_libxkbfile_jll\u001b[39m\n",
            "\u001b[32m  ✓ \u001b[39m\u001b[90mXorg_xcb_util_cursor_jll\u001b[39m\n",
            "\u001b[32m  ✓ \u001b[39m\u001b[90mLibglvnd_jll\u001b[39m\n",
            "\u001b[32m  ✓ \u001b[39m\u001b[90mColorSchemes\u001b[39m\n",
            "\u001b[32m  ✓ \u001b[39m\u001b[90mXorg_libXinerama_jll\u001b[39m\n",
            "\u001b[32m  ✓ \u001b[39m\u001b[90mCairo_jll\u001b[39m\n",
            "\u001b[32m  ✓ \u001b[39m\u001b[90mXorg_libXrandr_jll\u001b[39m\n",
            "\u001b[32m  ✓ \u001b[39m\u001b[90mXorg_libXcursor_jll\u001b[39m\n",
            "\u001b[32m  ✓ \u001b[39m\u001b[90mXorg_libXi_jll\u001b[39m\n",
            "\u001b[32m  ✓ \u001b[39m\u001b[90mXorg_xkbcomp_jll\u001b[39m\n",
            "\u001b[32m  ✓ \u001b[39m\u001b[90mHarfBuzz_jll\u001b[39m\n",
            "\u001b[32m  ✓ \u001b[39m\u001b[90mGLFW_jll\u001b[39m\n",
            "\u001b[32m  ✓ \u001b[39m\u001b[90mXorg_xkeyboard_config_jll\u001b[39m\n",
            "\u001b[32m  ✓ \u001b[39m\u001b[90mlibass_jll\u001b[39m\n",
            "\u001b[32m  ✓ \u001b[39m\u001b[90mxkbcommon_jll\u001b[39m\n",
            "\u001b[32m  ✓ \u001b[39m\u001b[90mKernelDensity\u001b[39m\n",
            "\u001b[32m  ✓ \u001b[39m\u001b[90mFFMPEG_jll\u001b[39m\n",
            "\u001b[32m  ✓ \u001b[39m\u001b[90mVulkan_Loader_jll\u001b[39m\n",
            "\u001b[32m  ✓ \u001b[39m\u001b[90mFFMPEG\u001b[39m\n",
            "\u001b[32m  ✓ \u001b[39m\u001b[90mQt6Base_jll\u001b[39m\n",
            "\u001b[32m  ✓ \u001b[39m\u001b[90mGR_jll\u001b[39m\n",
            "\u001b[32m  ✓ \u001b[39m\u001b[90mGR\u001b[39m\n",
            "\u001b[32m  ✓ \u001b[39m\u001b[90mPlotUtils\u001b[39m\n",
            "\u001b[32m  ✓ \u001b[39m\u001b[90mRecipesPipeline\u001b[39m\n",
            "\u001b[32m  ✓ \u001b[39m\u001b[90mPlotThemes\u001b[39m\n",
            "\u001b[32m  ✓ \u001b[39m\u001b[90mPlots\u001b[39m\n",
            "\u001b[32m  ✓ \u001b[39mStatsPlots\n",
            "  141 dependencies successfully precompiled in 255 seconds. 107 already precompiled.\n"
          ]
        }
      ]
    },
    {
      "cell_type": "code",
      "source": [
        "# load packages you will be using, set random seed\n",
        "using RxInfer, StatsPlots\n",
        "using Random; Random.seed!(1)"
      ],
      "metadata": {
        "colab": {
          "base_uri": "https://localhost:8080/"
        },
        "id": "8o3Os0Ww6qdn",
        "outputId": "7fbac2d0-724a-4b3f-bbaa-7f3244cc1b72"
      },
      "execution_count": 9,
      "outputs": [
        {
          "output_type": "execute_result",
          "data": {
            "text/plain": [
              "TaskLocalRNG()"
            ]
          },
          "metadata": {},
          "execution_count": 9
        }
      ]
    },
    {
      "cell_type": "code",
      "source": [
        "# generate observations\n",
        "true_mean = 3.0\n",
        "true_precision = 5.0    # 1/sigma^2, typically denoted as tau\n",
        "true_sigma = 1 / sqrt(true_precision)   # std\n",
        "true_distribution = Normal(true_mean, true_sigma)\n",
        "n = 100_000    # produce 100000 observations\n",
        "observations = rand(true_distribution, n)   # random samples from Normal distribution"
      ],
      "metadata": {
        "colab": {
          "base_uri": "https://localhost:8080/"
        },
        "id": "eQiQOhZ19X1a",
        "outputId": "b69d1d8e-1c08-4ff0-e3a2-197fc63147aa"
      },
      "execution_count": 10,
      "outputs": [
        {
          "output_type": "execute_result",
          "data": {
            "text/plain": [
              "100000-element Vector{Float64}:\n",
              " 3.027697163475025\n",
              " 3.1245068651603756\n",
              " 2.7335392209183818\n",
              " 3.020866713374945\n",
              " 3.4855818483467274\n",
              " 2.294938732431209\n",
              " 3.078682756101985\n",
              " 3.3870100614637537\n",
              " 1.7521483990530564\n",
              " 2.1538649194639294\n",
              " 3.0974383553296065\n",
              " 2.706649991077448\n",
              " 3.1196359187656606\n",
              " ⋮\n",
              " 3.256219671340333\n",
              " 2.865511272641008\n",
              " 3.195018853884503\n",
              " 2.815648996383269\n",
              " 3.4348245931002093\n",
              " 2.874194232645634\n",
              " 2.9340230948674932\n",
              " 2.406729626842361\n",
              " 2.5373781580477295\n",
              " 3.3383339253743394\n",
              " 2.7023855908881953\n",
              " 2.9673882423239664"
            ]
          },
          "metadata": {},
          "execution_count": 10
        }
      ]
    },
    {
      "cell_type": "code",
      "source": [
        "# visualize observations\n",
        "p_observations = histogram(observations,\n",
        "  bins = 1.0:0.1:5.0,\n",
        "  title = \"Observations\",\n",
        "  legend = false,\n",
        "  color = 2,\n",
        "  alpha = 0.5\n",
        ")"
      ],
      "metadata": {
        "colab": {
          "base_uri": "https://localhost:8080/",
          "height": 421
        },
        "id": "M-Lu7jtI9JyB",
        "outputId": "618f738d-fbac-445c-b6de-2471b85d2080"
      },
      "execution_count": 11,
      "outputs": [
        {
          "output_type": "execute_result",
          "data": {
            "image/svg+xml": "<?xml version=\"1.0\" encoding=\"utf-8\"?>\n<svg xmlns=\"http://www.w3.org/2000/svg\" xmlns:xlink=\"http://www.w3.org/1999/xlink\" width=\"600\" height=\"400\" viewBox=\"0 0 2400 1600\">\n<defs>\n  <clipPath id=\"clip610\">\n    <rect x=\"0\" y=\"0\" width=\"2400\" height=\"1600\"/>\n  </clipPath>\n</defs>\n<path clip-path=\"url(#clip610)\" d=\"M0 1600 L2400 1600 L2400 0 L0 0  Z\" fill=\"#ffffff\" fill-rule=\"evenodd\" fill-opacity=\"1\"/>\n<defs>\n  <clipPath id=\"clip611\">\n    <rect x=\"480\" y=\"0\" width=\"1681\" height=\"1600\"/>\n  </clipPath>\n</defs>\n<path clip-path=\"url(#clip610)\" d=\"M202.177 1486.45 L2352.76 1486.45 L2352.76 123.472 L202.177 123.472  Z\" fill=\"#ffffff\" fill-rule=\"evenodd\" fill-opacity=\"1\"/>\n<defs>\n  <clipPath id=\"clip612\">\n    <rect x=\"202\" y=\"123\" width=\"2152\" height=\"1364\"/>\n  </clipPath>\n</defs>\n<polyline clip-path=\"url(#clip612)\" style=\"stroke:#000000; stroke-linecap:round; stroke-linejoin:round; stroke-width:2; stroke-opacity:0.1; fill:none\" points=\"320.462,1486.45 320.462,123.472 \"/>\n<polyline clip-path=\"url(#clip612)\" style=\"stroke:#000000; stroke-linecap:round; stroke-linejoin:round; stroke-width:2; stroke-opacity:0.1; fill:none\" points=\"798.964,1486.45 798.964,123.472 \"/>\n<polyline clip-path=\"url(#clip612)\" style=\"stroke:#000000; stroke-linecap:round; stroke-linejoin:round; stroke-width:2; stroke-opacity:0.1; fill:none\" points=\"1277.47,1486.45 1277.47,123.472 \"/>\n<polyline clip-path=\"url(#clip612)\" style=\"stroke:#000000; stroke-linecap:round; stroke-linejoin:round; stroke-width:2; stroke-opacity:0.1; fill:none\" points=\"1755.97,1486.45 1755.97,123.472 \"/>\n<polyline clip-path=\"url(#clip612)\" style=\"stroke:#000000; stroke-linecap:round; stroke-linejoin:round; stroke-width:2; stroke-opacity:0.1; fill:none\" points=\"2234.47,1486.45 2234.47,123.472 \"/>\n<polyline clip-path=\"url(#clip610)\" style=\"stroke:#000000; stroke-linecap:round; stroke-linejoin:round; stroke-width:4; stroke-opacity:1; fill:none\" points=\"202.177,1486.45 2352.76,1486.45 \"/>\n<polyline clip-path=\"url(#clip610)\" style=\"stroke:#000000; stroke-linecap:round; stroke-linejoin:round; stroke-width:4; stroke-opacity:1; fill:none\" points=\"320.462,1486.45 320.462,1467.55 \"/>\n<polyline clip-path=\"url(#clip610)\" style=\"stroke:#000000; stroke-linecap:round; stroke-linejoin:round; stroke-width:4; stroke-opacity:1; fill:none\" points=\"798.964,1486.45 798.964,1467.55 \"/>\n<polyline clip-path=\"url(#clip610)\" style=\"stroke:#000000; stroke-linecap:round; stroke-linejoin:round; stroke-width:4; stroke-opacity:1; fill:none\" points=\"1277.47,1486.45 1277.47,1467.55 \"/>\n<polyline clip-path=\"url(#clip610)\" style=\"stroke:#000000; stroke-linecap:round; stroke-linejoin:round; stroke-width:4; stroke-opacity:1; fill:none\" points=\"1755.97,1486.45 1755.97,1467.55 \"/>\n<polyline clip-path=\"url(#clip610)\" style=\"stroke:#000000; stroke-linecap:round; stroke-linejoin:round; stroke-width:4; stroke-opacity:1; fill:none\" points=\"2234.47,1486.45 2234.47,1467.55 \"/>\n<path clip-path=\"url(#clip610)\" d=\"M310.844 1544.91 L318.483 1544.91 L318.483 1518.55 L310.173 1520.21 L310.173 1515.95 L318.437 1514.29 L323.113 1514.29 L323.113 1544.91 L330.752 1544.91 L330.752 1548.85 L310.844 1548.85 L310.844 1544.91 Z\" fill=\"#000000\" fill-rule=\"nonzero\" fill-opacity=\"1\" /><path clip-path=\"url(#clip610)\" d=\"M793.617 1544.91 L809.937 1544.91 L809.937 1548.85 L787.992 1548.85 L787.992 1544.91 Q790.654 1542.16 795.238 1537.53 Q799.844 1532.88 801.025 1531.53 Q803.27 1529.01 804.149 1527.27 Q805.052 1525.51 805.052 1523.82 Q805.052 1521.07 803.108 1519.33 Q801.187 1517.6 798.085 1517.6 Q795.886 1517.6 793.432 1518.36 Q791.001 1519.13 788.224 1520.68 L788.224 1515.95 Q791.048 1514.82 793.501 1514.24 Q795.955 1513.66 797.992 1513.66 Q803.362 1513.66 806.557 1516.35 Q809.751 1519.03 809.751 1523.52 Q809.751 1525.65 808.941 1527.57 Q808.154 1529.47 806.048 1532.07 Q805.469 1532.74 802.367 1535.95 Q799.265 1539.15 793.617 1544.91 Z\" fill=\"#000000\" fill-rule=\"nonzero\" fill-opacity=\"1\" /><path clip-path=\"url(#clip610)\" d=\"M1281.71 1530.21 Q1285.07 1530.93 1286.95 1533.2 Q1288.84 1535.47 1288.84 1538.8 Q1288.84 1543.92 1285.33 1546.72 Q1281.81 1549.52 1275.33 1549.52 Q1273.15 1549.52 1270.83 1549.08 Q1268.54 1548.66 1266.09 1547.81 L1266.09 1543.29 Q1268.03 1544.43 1270.35 1545.01 Q1272.66 1545.58 1275.19 1545.58 Q1279.58 1545.58 1281.88 1543.85 Q1284.19 1542.11 1284.19 1538.8 Q1284.19 1535.75 1282.04 1534.03 Q1279.91 1532.3 1276.09 1532.3 L1272.06 1532.3 L1272.06 1528.45 L1276.27 1528.45 Q1279.72 1528.45 1281.55 1527.09 Q1283.38 1525.7 1283.38 1523.11 Q1283.38 1520.45 1281.48 1519.03 Q1279.61 1517.6 1276.09 1517.6 Q1274.17 1517.6 1271.97 1518.01 Q1269.77 1518.43 1267.13 1519.31 L1267.13 1515.14 Q1269.79 1514.4 1272.11 1514.03 Q1274.45 1513.66 1276.51 1513.66 Q1281.83 1513.66 1284.93 1516.09 Q1288.03 1518.5 1288.03 1522.62 Q1288.03 1525.49 1286.39 1527.48 Q1284.75 1529.45 1281.71 1530.21 Z\" fill=\"#000000\" fill-rule=\"nonzero\" fill-opacity=\"1\" /><path clip-path=\"url(#clip610)\" d=\"M1758.98 1518.36 L1747.17 1536.81 L1758.98 1536.81 L1758.98 1518.36 M1757.75 1514.29 L1763.63 1514.29 L1763.63 1536.81 L1768.56 1536.81 L1768.56 1540.7 L1763.63 1540.7 L1763.63 1548.85 L1758.98 1548.85 L1758.98 1540.7 L1743.38 1540.7 L1743.38 1536.19 L1757.75 1514.29 Z\" fill=\"#000000\" fill-rule=\"nonzero\" fill-opacity=\"1\" /><path clip-path=\"url(#clip610)\" d=\"M2224.75 1514.29 L2243.1 1514.29 L2243.1 1518.22 L2229.03 1518.22 L2229.03 1526.7 Q2230.05 1526.35 2231.07 1526.19 Q2232.09 1526 2233.1 1526 Q2238.89 1526 2242.27 1529.17 Q2245.65 1532.34 2245.65 1537.76 Q2245.65 1543.34 2242.18 1546.44 Q2238.71 1549.52 2232.39 1549.52 Q2230.21 1549.52 2227.94 1549.15 Q2225.7 1548.78 2223.29 1548.04 L2223.29 1543.34 Q2225.37 1544.47 2227.6 1545.03 Q2229.82 1545.58 2232.29 1545.58 Q2236.3 1545.58 2238.64 1543.48 Q2240.97 1541.37 2240.97 1537.76 Q2240.97 1534.15 2238.64 1532.04 Q2236.3 1529.94 2232.29 1529.94 Q2230.42 1529.94 2228.54 1530.35 Q2226.69 1530.77 2224.75 1531.65 L2224.75 1514.29 Z\" fill=\"#000000\" fill-rule=\"nonzero\" fill-opacity=\"1\" /><polyline clip-path=\"url(#clip612)\" style=\"stroke:#000000; stroke-linecap:round; stroke-linejoin:round; stroke-width:2; stroke-opacity:0.1; fill:none\" points=\"202.177,1486.45 2352.76,1486.45 \"/>\n<polyline clip-path=\"url(#clip612)\" style=\"stroke:#000000; stroke-linecap:round; stroke-linejoin:round; stroke-width:2; stroke-opacity:0.1; fill:none\" points=\"202.177,1180.98 2352.76,1180.98 \"/>\n<polyline clip-path=\"url(#clip612)\" style=\"stroke:#000000; stroke-linecap:round; stroke-linejoin:round; stroke-width:2; stroke-opacity:0.1; fill:none\" points=\"202.177,875.522 2352.76,875.522 \"/>\n<polyline clip-path=\"url(#clip612)\" style=\"stroke:#000000; stroke-linecap:round; stroke-linejoin:round; stroke-width:2; stroke-opacity:0.1; fill:none\" points=\"202.177,570.059 2352.76,570.059 \"/>\n<polyline clip-path=\"url(#clip612)\" style=\"stroke:#000000; stroke-linecap:round; stroke-linejoin:round; stroke-width:2; stroke-opacity:0.1; fill:none\" points=\"202.177,264.596 2352.76,264.596 \"/>\n<polyline clip-path=\"url(#clip610)\" style=\"stroke:#000000; stroke-linecap:round; stroke-linejoin:round; stroke-width:4; stroke-opacity:1; fill:none\" points=\"202.177,1486.45 202.177,123.472 \"/>\n<polyline clip-path=\"url(#clip610)\" style=\"stroke:#000000; stroke-linecap:round; stroke-linejoin:round; stroke-width:4; stroke-opacity:1; fill:none\" points=\"202.177,1486.45 221.074,1486.45 \"/>\n<polyline clip-path=\"url(#clip610)\" style=\"stroke:#000000; stroke-linecap:round; stroke-linejoin:round; stroke-width:4; stroke-opacity:1; fill:none\" points=\"202.177,1180.98 221.074,1180.98 \"/>\n<polyline clip-path=\"url(#clip610)\" style=\"stroke:#000000; stroke-linecap:round; stroke-linejoin:round; stroke-width:4; stroke-opacity:1; fill:none\" points=\"202.177,875.522 221.074,875.522 \"/>\n<polyline clip-path=\"url(#clip610)\" style=\"stroke:#000000; stroke-linecap:round; stroke-linejoin:round; stroke-width:4; stroke-opacity:1; fill:none\" points=\"202.177,570.059 221.074,570.059 \"/>\n<polyline clip-path=\"url(#clip610)\" style=\"stroke:#000000; stroke-linecap:round; stroke-linejoin:round; stroke-width:4; stroke-opacity:1; fill:none\" points=\"202.177,264.596 221.074,264.596 \"/>\n<path clip-path=\"url(#clip610)\" d=\"M154.232 1472.25 Q150.621 1472.25 148.793 1475.81 Q146.987 1479.35 146.987 1486.48 Q146.987 1493.59 148.793 1497.15 Q150.621 1500.7 154.232 1500.7 Q157.867 1500.7 159.672 1497.15 Q161.501 1493.59 161.501 1486.48 Q161.501 1479.35 159.672 1475.81 Q157.867 1472.25 154.232 1472.25 M154.232 1468.54 Q160.042 1468.54 163.098 1473.15 Q166.177 1477.73 166.177 1486.48 Q166.177 1495.21 163.098 1499.82 Q160.042 1504.4 154.232 1504.4 Q148.422 1504.4 145.343 1499.82 Q142.288 1495.21 142.288 1486.48 Q142.288 1477.73 145.343 1473.15 Q148.422 1468.54 154.232 1468.54 Z\" fill=\"#000000\" fill-rule=\"nonzero\" fill-opacity=\"1\" /><path clip-path=\"url(#clip610)\" d=\"M57.7745 1194.33 L74.0939 1194.33 L74.0939 1198.26 L52.1495 1198.26 L52.1495 1194.33 Q54.8115 1191.58 59.3949 1186.95 Q64.0013 1182.29 65.1819 1180.95 Q67.4272 1178.43 68.3068 1176.69 Q69.2096 1174.93 69.2096 1173.24 Q69.2096 1170.49 67.2652 1168.75 Q65.3439 1167.02 62.2421 1167.02 Q60.043 1167.02 57.5893 1167.78 Q55.1588 1168.54 52.381 1170.09 L52.381 1165.37 Q55.2051 1164.24 57.6588 1163.66 Q60.1124 1163.08 62.1495 1163.08 Q67.5198 1163.08 70.7142 1165.77 Q73.9087 1168.45 73.9087 1172.94 Q73.9087 1175.07 73.0985 1176.99 Q72.3115 1178.89 70.205 1181.48 Q69.6263 1182.15 66.5245 1185.37 Q63.4226 1188.57 57.7745 1194.33 Z\" fill=\"#000000\" fill-rule=\"nonzero\" fill-opacity=\"1\" /><path clip-path=\"url(#clip610)\" d=\"M93.9086 1166.78 Q90.2975 1166.78 88.4688 1170.35 Q86.6632 1173.89 86.6632 1181.02 Q86.6632 1188.13 88.4688 1191.69 Q90.2975 1195.23 93.9086 1195.23 Q97.5428 1195.23 99.3483 1191.69 Q101.177 1188.13 101.177 1181.02 Q101.177 1173.89 99.3483 1170.35 Q97.5428 1166.78 93.9086 1166.78 M93.9086 1163.08 Q99.7187 1163.08 102.774 1167.69 Q105.853 1172.27 105.853 1181.02 Q105.853 1189.75 102.774 1194.35 Q99.7187 1198.94 93.9086 1198.94 Q88.0984 1198.94 85.0197 1194.35 Q81.9642 1189.75 81.9642 1181.02 Q81.9642 1172.27 85.0197 1167.69 Q88.0984 1163.08 93.9086 1163.08 Z\" fill=\"#000000\" fill-rule=\"nonzero\" fill-opacity=\"1\" /><path clip-path=\"url(#clip610)\" d=\"M124.07 1166.78 Q120.459 1166.78 118.631 1170.35 Q116.825 1173.89 116.825 1181.02 Q116.825 1188.13 118.631 1191.69 Q120.459 1195.23 124.07 1195.23 Q127.705 1195.23 129.51 1191.69 Q131.339 1188.13 131.339 1181.02 Q131.339 1173.89 129.51 1170.35 Q127.705 1166.78 124.07 1166.78 M124.07 1163.08 Q129.881 1163.08 132.936 1167.69 Q136.015 1172.27 136.015 1181.02 Q136.015 1189.75 132.936 1194.35 Q129.881 1198.94 124.07 1198.94 Q118.26 1198.94 115.182 1194.35 Q112.126 1189.75 112.126 1181.02 Q112.126 1172.27 115.182 1167.69 Q118.26 1163.08 124.07 1163.08 Z\" fill=\"#000000\" fill-rule=\"nonzero\" fill-opacity=\"1\" /><path clip-path=\"url(#clip610)\" d=\"M154.232 1166.78 Q150.621 1166.78 148.793 1170.35 Q146.987 1173.89 146.987 1181.02 Q146.987 1188.13 148.793 1191.69 Q150.621 1195.23 154.232 1195.23 Q157.867 1195.23 159.672 1191.69 Q161.501 1188.13 161.501 1181.02 Q161.501 1173.89 159.672 1170.35 Q157.867 1166.78 154.232 1166.78 M154.232 1163.08 Q160.042 1163.08 163.098 1167.69 Q166.177 1172.27 166.177 1181.02 Q166.177 1189.75 163.098 1194.35 Q160.042 1198.94 154.232 1198.94 Q148.422 1198.94 145.343 1194.35 Q142.288 1189.75 142.288 1181.02 Q142.288 1172.27 145.343 1167.69 Q148.422 1163.08 154.232 1163.08 Z\" fill=\"#000000\" fill-rule=\"nonzero\" fill-opacity=\"1\" /><path clip-path=\"url(#clip610)\" d=\"M66.5939 862.316 L54.7884 880.765 L66.5939 880.765 L66.5939 862.316 M65.367 858.242 L71.2466 858.242 L71.2466 880.765 L76.1772 880.765 L76.1772 884.654 L71.2466 884.654 L71.2466 892.802 L66.5939 892.802 L66.5939 884.654 L50.9921 884.654 L50.9921 880.14 L65.367 858.242 Z\" fill=\"#000000\" fill-rule=\"nonzero\" fill-opacity=\"1\" /><path clip-path=\"url(#clip610)\" d=\"M93.9086 861.321 Q90.2975 861.321 88.4688 864.885 Q86.6632 868.427 86.6632 875.557 Q86.6632 882.663 88.4688 886.228 Q90.2975 889.77 93.9086 889.77 Q97.5428 889.77 99.3483 886.228 Q101.177 882.663 101.177 875.557 Q101.177 868.427 99.3483 864.885 Q97.5428 861.321 93.9086 861.321 M93.9086 857.617 Q99.7187 857.617 102.774 862.223 Q105.853 866.807 105.853 875.557 Q105.853 884.283 102.774 888.89 Q99.7187 893.473 93.9086 893.473 Q88.0984 893.473 85.0197 888.89 Q81.9642 884.283 81.9642 875.557 Q81.9642 866.807 85.0197 862.223 Q88.0984 857.617 93.9086 857.617 Z\" fill=\"#000000\" fill-rule=\"nonzero\" fill-opacity=\"1\" /><path clip-path=\"url(#clip610)\" d=\"M124.07 861.321 Q120.459 861.321 118.631 864.885 Q116.825 868.427 116.825 875.557 Q116.825 882.663 118.631 886.228 Q120.459 889.77 124.07 889.77 Q127.705 889.77 129.51 886.228 Q131.339 882.663 131.339 875.557 Q131.339 868.427 129.51 864.885 Q127.705 861.321 124.07 861.321 M124.07 857.617 Q129.881 857.617 132.936 862.223 Q136.015 866.807 136.015 875.557 Q136.015 884.283 132.936 888.89 Q129.881 893.473 124.07 893.473 Q118.26 893.473 115.182 888.89 Q112.126 884.283 112.126 875.557 Q112.126 866.807 115.182 862.223 Q118.26 857.617 124.07 857.617 Z\" fill=\"#000000\" fill-rule=\"nonzero\" fill-opacity=\"1\" /><path clip-path=\"url(#clip610)\" d=\"M154.232 861.321 Q150.621 861.321 148.793 864.885 Q146.987 868.427 146.987 875.557 Q146.987 882.663 148.793 886.228 Q150.621 889.77 154.232 889.77 Q157.867 889.77 159.672 886.228 Q161.501 882.663 161.501 875.557 Q161.501 868.427 159.672 864.885 Q157.867 861.321 154.232 861.321 M154.232 857.617 Q160.042 857.617 163.098 862.223 Q166.177 866.807 166.177 875.557 Q166.177 884.283 163.098 888.89 Q160.042 893.473 154.232 893.473 Q148.422 893.473 145.343 888.89 Q142.288 884.283 142.288 875.557 Q142.288 866.807 145.343 862.223 Q148.422 857.617 154.232 857.617 Z\" fill=\"#000000\" fill-rule=\"nonzero\" fill-opacity=\"1\" /><path clip-path=\"url(#clip610)\" d=\"M64.3254 568.196 Q61.1773 568.196 59.3254 570.348 Q57.4967 572.501 57.4967 576.251 Q57.4967 579.978 59.3254 582.154 Q61.1773 584.307 64.3254 584.307 Q67.4735 584.307 69.3022 582.154 Q71.1541 579.978 71.1541 576.251 Q71.1541 572.501 69.3022 570.348 Q67.4735 568.196 64.3254 568.196 M73.6077 553.543 L73.6077 557.802 Q71.8485 556.969 70.0429 556.529 Q68.2606 556.089 66.5013 556.089 Q61.8717 556.089 59.418 559.214 Q56.9875 562.339 56.6402 568.659 Q58.006 566.645 60.0662 565.58 Q62.1263 564.492 64.6032 564.492 Q69.8115 564.492 72.8207 567.663 Q75.8531 570.811 75.8531 576.251 Q75.8531 581.575 72.705 584.793 Q69.5568 588.01 64.3254 588.01 Q58.33 588.01 55.1588 583.427 Q51.9875 578.821 51.9875 570.094 Q51.9875 561.899 55.8764 557.038 Q59.7652 552.154 66.3161 552.154 Q68.0754 552.154 69.8578 552.501 Q71.6633 552.848 73.6077 553.543 Z\" fill=\"#000000\" fill-rule=\"nonzero\" fill-opacity=\"1\" /><path clip-path=\"url(#clip610)\" d=\"M93.9086 555.858 Q90.2975 555.858 88.4688 559.422 Q86.6632 562.964 86.6632 570.094 Q86.6632 577.2 88.4688 580.765 Q90.2975 584.307 93.9086 584.307 Q97.5428 584.307 99.3483 580.765 Q101.177 577.2 101.177 570.094 Q101.177 562.964 99.3483 559.422 Q97.5428 555.858 93.9086 555.858 M93.9086 552.154 Q99.7187 552.154 102.774 556.76 Q105.853 561.344 105.853 570.094 Q105.853 578.821 102.774 583.427 Q99.7187 588.01 93.9086 588.01 Q88.0984 588.01 85.0197 583.427 Q81.9642 578.821 81.9642 570.094 Q81.9642 561.344 85.0197 556.76 Q88.0984 552.154 93.9086 552.154 Z\" fill=\"#000000\" fill-rule=\"nonzero\" fill-opacity=\"1\" /><path clip-path=\"url(#clip610)\" d=\"M124.07 555.858 Q120.459 555.858 118.631 559.422 Q116.825 562.964 116.825 570.094 Q116.825 577.2 118.631 580.765 Q120.459 584.307 124.07 584.307 Q127.705 584.307 129.51 580.765 Q131.339 577.2 131.339 570.094 Q131.339 562.964 129.51 559.422 Q127.705 555.858 124.07 555.858 M124.07 552.154 Q129.881 552.154 132.936 556.76 Q136.015 561.344 136.015 570.094 Q136.015 578.821 132.936 583.427 Q129.881 588.01 124.07 588.01 Q118.26 588.01 115.182 583.427 Q112.126 578.821 112.126 570.094 Q112.126 561.344 115.182 556.76 Q118.26 552.154 124.07 552.154 Z\" fill=\"#000000\" fill-rule=\"nonzero\" fill-opacity=\"1\" /><path clip-path=\"url(#clip610)\" d=\"M154.232 555.858 Q150.621 555.858 148.793 559.422 Q146.987 562.964 146.987 570.094 Q146.987 577.2 148.793 580.765 Q150.621 584.307 154.232 584.307 Q157.867 584.307 159.672 580.765 Q161.501 577.2 161.501 570.094 Q161.501 562.964 159.672 559.422 Q157.867 555.858 154.232 555.858 M154.232 552.154 Q160.042 552.154 163.098 556.76 Q166.177 561.344 166.177 570.094 Q166.177 578.821 163.098 583.427 Q160.042 588.01 154.232 588.01 Q148.422 588.01 145.343 583.427 Q142.288 578.821 142.288 570.094 Q142.288 561.344 145.343 556.76 Q148.422 552.154 154.232 552.154 Z\" fill=\"#000000\" fill-rule=\"nonzero\" fill-opacity=\"1\" /><path clip-path=\"url(#clip610)\" d=\"M63.7467 265.464 Q60.4134 265.464 58.4921 267.246 Q56.5939 269.029 56.5939 272.154 Q56.5939 275.279 58.4921 277.061 Q60.4134 278.844 63.7467 278.844 Q67.08 278.844 69.0013 277.061 Q70.9226 275.256 70.9226 272.154 Q70.9226 269.029 69.0013 267.246 Q67.1032 265.464 63.7467 265.464 M59.0708 263.473 Q56.0615 262.733 54.3717 260.672 Q52.7051 258.612 52.7051 255.649 Q52.7051 251.506 55.6449 249.098 Q58.6078 246.691 63.7467 246.691 Q68.9087 246.691 71.8485 249.098 Q74.7883 251.506 74.7883 255.649 Q74.7883 258.612 73.0985 260.672 Q71.4318 262.733 68.4457 263.473 Q71.8253 264.26 73.7003 266.552 Q75.5985 268.844 75.5985 272.154 Q75.5985 277.177 72.5198 279.862 Q69.4642 282.547 63.7467 282.547 Q58.0291 282.547 54.9504 279.862 Q51.8949 277.177 51.8949 272.154 Q51.8949 268.844 53.793 266.552 Q55.6912 264.26 59.0708 263.473 M57.3578 256.089 Q57.3578 258.774 59.0245 260.279 Q60.7143 261.784 63.7467 261.784 Q66.7559 261.784 68.4457 260.279 Q70.1587 258.774 70.1587 256.089 Q70.1587 253.404 68.4457 251.899 Q66.7559 250.395 63.7467 250.395 Q60.7143 250.395 59.0245 251.899 Q57.3578 253.404 57.3578 256.089 Z\" fill=\"#000000\" fill-rule=\"nonzero\" fill-opacity=\"1\" /><path clip-path=\"url(#clip610)\" d=\"M93.9086 250.395 Q90.2975 250.395 88.4688 253.959 Q86.6632 257.501 86.6632 264.631 Q86.6632 271.737 88.4688 275.302 Q90.2975 278.844 93.9086 278.844 Q97.5428 278.844 99.3483 275.302 Q101.177 271.737 101.177 264.631 Q101.177 257.501 99.3483 253.959 Q97.5428 250.395 93.9086 250.395 M93.9086 246.691 Q99.7187 246.691 102.774 251.297 Q105.853 255.881 105.853 264.631 Q105.853 273.358 102.774 277.964 Q99.7187 282.547 93.9086 282.547 Q88.0984 282.547 85.0197 277.964 Q81.9642 273.358 81.9642 264.631 Q81.9642 255.881 85.0197 251.297 Q88.0984 246.691 93.9086 246.691 Z\" fill=\"#000000\" fill-rule=\"nonzero\" fill-opacity=\"1\" /><path clip-path=\"url(#clip610)\" d=\"M124.07 250.395 Q120.459 250.395 118.631 253.959 Q116.825 257.501 116.825 264.631 Q116.825 271.737 118.631 275.302 Q120.459 278.844 124.07 278.844 Q127.705 278.844 129.51 275.302 Q131.339 271.737 131.339 264.631 Q131.339 257.501 129.51 253.959 Q127.705 250.395 124.07 250.395 M124.07 246.691 Q129.881 246.691 132.936 251.297 Q136.015 255.881 136.015 264.631 Q136.015 273.358 132.936 277.964 Q129.881 282.547 124.07 282.547 Q118.26 282.547 115.182 277.964 Q112.126 273.358 112.126 264.631 Q112.126 255.881 115.182 251.297 Q118.26 246.691 124.07 246.691 Z\" fill=\"#000000\" fill-rule=\"nonzero\" fill-opacity=\"1\" /><path clip-path=\"url(#clip610)\" d=\"M154.232 250.395 Q150.621 250.395 148.793 253.959 Q146.987 257.501 146.987 264.631 Q146.987 271.737 148.793 275.302 Q150.621 278.844 154.232 278.844 Q157.867 278.844 159.672 275.302 Q161.501 271.737 161.501 264.631 Q161.501 257.501 159.672 253.959 Q157.867 250.395 154.232 250.395 M154.232 246.691 Q160.042 246.691 163.098 251.297 Q166.177 255.881 166.177 264.631 Q166.177 273.358 163.098 277.964 Q160.042 282.547 154.232 282.547 Q148.422 282.547 145.343 277.964 Q142.288 273.358 142.288 264.631 Q142.288 255.881 145.343 251.297 Q148.422 246.691 154.232 246.691 Z\" fill=\"#000000\" fill-rule=\"nonzero\" fill-opacity=\"1\" /><path clip-path=\"url(#clip610)\" d=\"M1035.65 17.6457 Q1026.74 17.6457 1021.47 24.2892 Q1016.24 30.9327 1016.24 42.3968 Q1016.24 53.8203 1021.47 60.4638 Q1026.74 67.1073 1035.65 67.1073 Q1044.56 67.1073 1049.74 60.4638 Q1054.97 53.8203 1054.97 42.3968 Q1054.97 30.9327 1049.74 24.2892 Q1044.56 17.6457 1035.65 17.6457 M1035.65 11.0023 Q1048.37 11.0023 1055.98 19.5497 Q1063.6 28.0566 1063.6 42.3968 Q1063.6 56.6965 1055.98 65.2439 Q1048.37 73.7508 1035.65 73.7508 Q1022.89 73.7508 1015.23 65.2439 Q1007.62 56.737 1007.62 42.3968 Q1007.62 28.0566 1015.23 19.5497 Q1022.89 11.0023 1035.65 11.0023 Z\" fill=\"#000000\" fill-rule=\"nonzero\" fill-opacity=\"1\" /><path clip-path=\"url(#clip610)\" d=\"M1108.64 49.9314 Q1108.64 41.7081 1105.24 37.0496 Q1101.88 32.3505 1095.97 32.3505 Q1090.05 32.3505 1086.65 37.0496 Q1083.29 41.7081 1083.29 49.9314 Q1083.29 58.1548 1086.65 62.8538 Q1090.05 67.5124 1095.97 67.5124 Q1101.88 67.5124 1105.24 62.8538 Q1108.64 58.1548 1108.64 49.9314 M1083.29 34.0924 Q1085.64 30.0415 1089.2 28.0971 Q1092.81 26.1121 1097.79 26.1121 Q1106.05 26.1121 1111.2 32.6746 Q1116.38 39.2371 1116.38 49.9314 Q1116.38 60.6258 1111.2 67.1883 Q1106.05 73.7508 1097.79 73.7508 Q1092.81 73.7508 1089.2 71.8063 Q1085.64 69.8214 1083.29 65.7705 L1083.29 72.576 L1075.79 72.576 L1075.79 9.54393 L1083.29 9.54393 L1083.29 34.0924 Z\" fill=\"#000000\" fill-rule=\"nonzero\" fill-opacity=\"1\" /><path clip-path=\"url(#clip610)\" d=\"M1157.66 28.5427 L1157.66 35.5912 Q1154.5 33.9709 1151.1 33.1607 Q1147.7 32.3505 1144.05 32.3505 Q1138.5 32.3505 1135.7 34.0519 Q1132.95 35.7533 1132.95 39.156 Q1132.95 41.7486 1134.94 43.2475 Q1136.92 44.7058 1142.92 46.0426 L1145.47 46.6097 Q1153.41 48.3111 1156.73 51.4303 Q1160.09 54.509 1160.09 60.0587 Q1160.09 66.3781 1155.07 70.0644 Q1150.09 73.7508 1141.34 73.7508 Q1137.69 73.7508 1133.72 73.0216 Q1129.79 72.3329 1125.42 70.9151 L1125.42 63.2184 Q1129.55 65.3654 1133.56 66.4591 Q1137.57 67.5124 1141.5 67.5124 Q1146.76 67.5124 1149.6 65.73 Q1152.44 63.9071 1152.44 60.6258 Q1152.44 57.5877 1150.37 55.9673 Q1148.34 54.3469 1141.42 52.8481 L1138.82 52.2405 Q1131.9 50.7821 1128.82 47.7845 Q1125.74 44.7463 1125.74 39.4801 Q1125.74 33.0797 1130.28 29.5959 Q1134.81 26.1121 1143.16 26.1121 Q1147.29 26.1121 1150.94 26.7198 Q1154.58 27.3274 1157.66 28.5427 Z\" fill=\"#000000\" fill-rule=\"nonzero\" fill-opacity=\"1\" /><path clip-path=\"url(#clip610)\" d=\"M1210.77 48.0275 L1210.77 51.6733 L1176.5 51.6733 Q1176.98 59.3701 1181.12 63.421 Q1185.29 67.4314 1192.7 67.4314 Q1197 67.4314 1201.01 66.3781 Q1205.06 65.3249 1209.03 63.2184 L1209.03 70.267 Q1205.02 71.9684 1200.8 72.8596 Q1196.59 73.7508 1192.26 73.7508 Q1181.4 73.7508 1175.04 67.4314 Q1168.72 61.1119 1168.72 50.3365 Q1168.72 39.1965 1174.72 32.6746 Q1180.75 26.1121 1190.96 26.1121 Q1200.11 26.1121 1205.42 32.0264 Q1210.77 37.9003 1210.77 48.0275 M1203.31 45.84 Q1203.23 39.7232 1199.87 36.0774 Q1196.55 32.4315 1191.04 32.4315 Q1184.8 32.4315 1181.03 35.9558 Q1177.31 39.4801 1176.74 45.8805 L1203.31 45.84 Z\" fill=\"#000000\" fill-rule=\"nonzero\" fill-opacity=\"1\" /><path clip-path=\"url(#clip610)\" d=\"M1249.29 34.1734 Q1248.04 33.4443 1246.54 33.1202 Q1245.08 32.7556 1243.3 32.7556 Q1236.98 32.7556 1233.57 36.8875 Q1230.21 40.9789 1230.21 48.6757 L1230.21 72.576 L1222.72 72.576 L1222.72 27.2059 L1230.21 27.2059 L1230.21 34.2544 Q1232.56 30.1225 1236.33 28.1376 Q1240.1 26.1121 1245.48 26.1121 Q1246.25 26.1121 1247.19 26.2337 Q1248.12 26.3147 1249.25 26.5172 L1249.29 34.1734 Z\" fill=\"#000000\" fill-rule=\"nonzero\" fill-opacity=\"1\" /><path clip-path=\"url(#clip610)\" d=\"M1251.76 27.2059 L1259.66 27.2059 L1273.84 65.2844 L1288.02 27.2059 L1295.92 27.2059 L1278.9 72.576 L1268.78 72.576 L1251.76 27.2059 Z\" fill=\"#000000\" fill-rule=\"nonzero\" fill-opacity=\"1\" /><path clip-path=\"url(#clip610)\" d=\"M1326.83 49.7694 Q1317.79 49.7694 1314.31 51.8354 Q1310.83 53.9013 1310.83 58.8839 Q1310.83 62.8538 1313.42 65.2034 Q1316.05 67.5124 1320.55 67.5124 Q1326.75 67.5124 1330.47 63.1374 Q1334.24 58.7219 1334.24 51.4303 L1334.24 49.7694 L1326.83 49.7694 M1341.69 46.6907 L1341.69 72.576 L1334.24 72.576 L1334.24 65.6895 Q1331.69 69.8214 1327.88 71.8063 Q1324.07 73.7508 1318.56 73.7508 Q1311.6 73.7508 1307.46 69.8619 Q1303.37 65.9325 1303.37 59.3701 Q1303.37 51.7138 1308.48 47.825 Q1313.62 43.9361 1323.79 43.9361 L1334.24 43.9361 L1334.24 43.2069 Q1334.24 38.0623 1330.84 35.2672 Q1327.47 32.4315 1321.36 32.4315 Q1317.47 32.4315 1313.78 33.3632 Q1310.1 34.295 1306.69 36.1584 L1306.69 29.2718 Q1310.78 27.692 1314.63 26.9223 Q1318.48 26.1121 1322.13 26.1121 Q1331.97 26.1121 1336.83 31.2163 Q1341.69 36.3204 1341.69 46.6907 Z\" fill=\"#000000\" fill-rule=\"nonzero\" fill-opacity=\"1\" /><path clip-path=\"url(#clip610)\" d=\"M1364.42 14.324 L1364.42 27.2059 L1379.77 27.2059 L1379.77 32.9987 L1364.42 32.9987 L1364.42 57.6282 Q1364.42 63.1779 1365.92 64.7578 Q1367.46 66.3376 1372.12 66.3376 L1379.77 66.3376 L1379.77 72.576 L1372.12 72.576 Q1363.49 72.576 1360.21 69.3758 Q1356.92 66.1351 1356.92 57.6282 L1356.92 32.9987 L1351.46 32.9987 L1351.46 27.2059 L1356.92 27.2059 L1356.92 14.324 L1364.42 14.324 Z\" fill=\"#000000\" fill-rule=\"nonzero\" fill-opacity=\"1\" /><path clip-path=\"url(#clip610)\" d=\"M1389.58 27.2059 L1397.03 27.2059 L1397.03 72.576 L1389.58 72.576 L1389.58 27.2059 M1389.58 9.54393 L1397.03 9.54393 L1397.03 18.9825 L1389.58 18.9825 L1389.58 9.54393 Z\" fill=\"#000000\" fill-rule=\"nonzero\" fill-opacity=\"1\" /><path clip-path=\"url(#clip610)\" d=\"M1430.21 32.4315 Q1424.21 32.4315 1420.73 37.1306 Q1417.24 41.7891 1417.24 49.9314 Q1417.24 58.0738 1420.69 62.7728 Q1424.17 67.4314 1430.21 67.4314 Q1436.16 67.4314 1439.64 62.7323 Q1443.13 58.0333 1443.13 49.9314 Q1443.13 41.8701 1439.64 37.1711 Q1436.16 32.4315 1430.21 32.4315 M1430.21 26.1121 Q1439.93 26.1121 1445.48 32.4315 Q1451.03 38.7509 1451.03 49.9314 Q1451.03 61.0714 1445.48 67.4314 Q1439.93 73.7508 1430.21 73.7508 Q1420.44 73.7508 1414.89 67.4314 Q1409.38 61.0714 1409.38 49.9314 Q1409.38 38.7509 1414.89 32.4315 Q1420.44 26.1121 1430.21 26.1121 Z\" fill=\"#000000\" fill-rule=\"nonzero\" fill-opacity=\"1\" /><path clip-path=\"url(#clip610)\" d=\"M1501.1 45.1919 L1501.1 72.576 L1493.64 72.576 L1493.64 45.4349 Q1493.64 38.994 1491.13 35.7938 Q1488.62 32.5936 1483.6 32.5936 Q1477.56 32.5936 1474.08 36.4419 Q1470.59 40.2903 1470.59 46.9338 L1470.59 72.576 L1463.1 72.576 L1463.1 27.2059 L1470.59 27.2059 L1470.59 34.2544 Q1473.27 30.163 1476.87 28.1376 Q1480.52 26.1121 1485.26 26.1121 Q1493.08 26.1121 1497.09 30.9732 Q1501.1 35.7938 1501.1 45.1919 Z\" fill=\"#000000\" fill-rule=\"nonzero\" fill-opacity=\"1\" /><path clip-path=\"url(#clip610)\" d=\"M1544.89 28.5427 L1544.89 35.5912 Q1541.73 33.9709 1538.32 33.1607 Q1534.92 32.3505 1531.28 32.3505 Q1525.73 32.3505 1522.93 34.0519 Q1520.18 35.7533 1520.18 39.156 Q1520.18 41.7486 1522.16 43.2475 Q1524.15 44.7058 1530.14 46.0426 L1532.69 46.6097 Q1540.63 48.3111 1543.96 51.4303 Q1547.32 54.509 1547.32 60.0587 Q1547.32 66.3781 1542.29 70.0644 Q1537.31 73.7508 1528.56 73.7508 Q1524.92 73.7508 1520.95 73.0216 Q1517.02 72.3329 1512.64 70.9151 L1512.64 63.2184 Q1516.77 65.3654 1520.78 66.4591 Q1524.79 67.5124 1528.72 67.5124 Q1533.99 67.5124 1536.83 65.73 Q1539.66 63.9071 1539.66 60.6258 Q1539.66 57.5877 1537.6 55.9673 Q1535.57 54.3469 1528.64 52.8481 L1526.05 52.2405 Q1519.12 50.7821 1516.04 47.7845 Q1512.97 44.7463 1512.97 39.4801 Q1512.97 33.0797 1517.5 29.5959 Q1522.04 26.1121 1530.38 26.1121 Q1534.52 26.1121 1538.16 26.7198 Q1541.81 27.3274 1544.89 28.5427 Z\" fill=\"#000000\" fill-rule=\"nonzero\" fill-opacity=\"1\" /><path clip-path=\"url(#clip612)\" d=\"M320.462 1486.45 L320.462 1486.45 L368.313 1486.45 L368.313 1486.45 L320.462 1486.45 L320.462 1486.45  Z\" fill=\"#e26f46\" fill-rule=\"evenodd\" fill-opacity=\"0.5\"/>\n<polyline clip-path=\"url(#clip612)\" style=\"stroke:#000000; stroke-linecap:round; stroke-linejoin:round; stroke-width:4; stroke-opacity:0.5; fill:none\" points=\"320.462,1486.45 320.462,1486.45 368.313,1486.45 320.462,1486.45 \"/>\n<path clip-path=\"url(#clip612)\" d=\"M368.313 1486.3 L368.313 1486.45 L416.163 1486.45 L416.163 1486.3 L368.313 1486.3 L368.313 1486.3  Z\" fill=\"#e26f46\" fill-rule=\"evenodd\" fill-opacity=\"0.5\"/>\n<polyline clip-path=\"url(#clip612)\" style=\"stroke:#000000; stroke-linecap:round; stroke-linejoin:round; stroke-width:4; stroke-opacity:0.5; fill:none\" points=\"368.313,1486.3 368.313,1486.45 416.163,1486.45 416.163,1486.3 368.313,1486.3 \"/>\n<path clip-path=\"url(#clip612)\" d=\"M416.163 1485.99 L416.163 1486.45 L464.013 1486.45 L464.013 1485.99 L416.163 1485.99 L416.163 1485.99  Z\" fill=\"#e26f46\" fill-rule=\"evenodd\" fill-opacity=\"0.5\"/>\n<polyline clip-path=\"url(#clip612)\" style=\"stroke:#000000; stroke-linecap:round; stroke-linejoin:round; stroke-width:4; stroke-opacity:0.5; fill:none\" points=\"416.163,1485.99 416.163,1486.45 464.013,1486.45 464.013,1485.99 416.163,1485.99 \"/>\n<path clip-path=\"url(#clip612)\" d=\"M464.013 1485.53 L464.013 1486.45 L511.863 1486.45 L511.863 1485.53 L464.013 1485.53 L464.013 1485.53  Z\" fill=\"#e26f46\" fill-rule=\"evenodd\" fill-opacity=\"0.5\"/>\n<polyline clip-path=\"url(#clip612)\" style=\"stroke:#000000; stroke-linecap:round; stroke-linejoin:round; stroke-width:4; stroke-opacity:0.5; fill:none\" points=\"464.013,1485.53 464.013,1486.45 511.863,1486.45 511.863,1485.53 464.013,1485.53 \"/>\n<path clip-path=\"url(#clip612)\" d=\"M511.863 1483.24 L511.863 1486.45 L559.713 1486.45 L559.713 1483.24 L511.863 1483.24 L511.863 1483.24  Z\" fill=\"#e26f46\" fill-rule=\"evenodd\" fill-opacity=\"0.5\"/>\n<polyline clip-path=\"url(#clip612)\" style=\"stroke:#000000; stroke-linecap:round; stroke-linejoin:round; stroke-width:4; stroke-opacity:0.5; fill:none\" points=\"511.863,1483.24 511.863,1486.45 559.713,1486.45 559.713,1483.24 511.863,1483.24 \"/>\n<path clip-path=\"url(#clip612)\" d=\"M559.713 1481.71 L559.713 1486.45 L607.564 1486.45 L607.564 1481.71 L559.713 1481.71 L559.713 1481.71  Z\" fill=\"#e26f46\" fill-rule=\"evenodd\" fill-opacity=\"0.5\"/>\n<polyline clip-path=\"url(#clip612)\" style=\"stroke:#000000; stroke-linecap:round; stroke-linejoin:round; stroke-width:4; stroke-opacity:0.5; fill:none\" points=\"559.713,1481.71 559.713,1486.45 607.564,1486.45 607.564,1481.71 559.713,1481.71 \"/>\n<path clip-path=\"url(#clip612)\" d=\"M607.564 1471.48 L607.564 1486.45 L655.414 1486.45 L655.414 1471.48 L607.564 1471.48 L607.564 1471.48  Z\" fill=\"#e26f46\" fill-rule=\"evenodd\" fill-opacity=\"0.5\"/>\n<polyline clip-path=\"url(#clip612)\" style=\"stroke:#000000; stroke-linecap:round; stroke-linejoin:round; stroke-width:4; stroke-opacity:0.5; fill:none\" points=\"607.564,1471.48 607.564,1486.45 655.414,1486.45 655.414,1471.48 607.564,1471.48 \"/>\n<path clip-path=\"url(#clip612)\" d=\"M655.414 1460.33 L655.414 1486.45 L703.264 1486.45 L703.264 1460.33 L655.414 1460.33 L655.414 1460.33  Z\" fill=\"#e26f46\" fill-rule=\"evenodd\" fill-opacity=\"0.5\"/>\n<polyline clip-path=\"url(#clip612)\" style=\"stroke:#000000; stroke-linecap:round; stroke-linejoin:round; stroke-width:4; stroke-opacity:0.5; fill:none\" points=\"655.414,1460.33 655.414,1486.45 703.264,1486.45 703.264,1460.33 655.414,1460.33 \"/>\n<path clip-path=\"url(#clip612)\" d=\"M703.264 1440.02 L703.264 1486.45 L751.114 1486.45 L751.114 1440.02 L703.264 1440.02 L703.264 1440.02  Z\" fill=\"#e26f46\" fill-rule=\"evenodd\" fill-opacity=\"0.5\"/>\n<polyline clip-path=\"url(#clip612)\" style=\"stroke:#000000; stroke-linecap:round; stroke-linejoin:round; stroke-width:4; stroke-opacity:0.5; fill:none\" points=\"703.264,1440.02 703.264,1486.45 751.114,1486.45 751.114,1440.02 703.264,1440.02 \"/>\n<path clip-path=\"url(#clip612)\" d=\"M751.114 1398.93 L751.114 1486.45 L798.964 1486.45 L798.964 1398.93 L751.114 1398.93 L751.114 1398.93  Z\" fill=\"#e26f46\" fill-rule=\"evenodd\" fill-opacity=\"0.5\"/>\n<polyline clip-path=\"url(#clip612)\" style=\"stroke:#000000; stroke-linecap:round; stroke-linejoin:round; stroke-width:4; stroke-opacity:0.5; fill:none\" points=\"751.114,1398.93 751.114,1486.45 798.964,1486.45 798.964,1398.93 751.114,1398.93 \"/>\n<path clip-path=\"url(#clip612)\" d=\"M798.964 1333.56 L798.964 1486.45 L846.815 1486.45 L846.815 1333.56 L798.964 1333.56 L798.964 1333.56  Z\" fill=\"#e26f46\" fill-rule=\"evenodd\" fill-opacity=\"0.5\"/>\n<polyline clip-path=\"url(#clip612)\" style=\"stroke:#000000; stroke-linecap:round; stroke-linejoin:round; stroke-width:4; stroke-opacity:0.5; fill:none\" points=\"798.964,1333.56 798.964,1486.45 846.815,1486.45 846.815,1333.56 798.964,1333.56 \"/>\n<path clip-path=\"url(#clip612)\" d=\"M846.815 1261.47 L846.815 1486.45 L894.665 1486.45 L894.665 1261.47 L846.815 1261.47 L846.815 1261.47  Z\" fill=\"#e26f46\" fill-rule=\"evenodd\" fill-opacity=\"0.5\"/>\n<polyline clip-path=\"url(#clip612)\" style=\"stroke:#000000; stroke-linecap:round; stroke-linejoin:round; stroke-width:4; stroke-opacity:0.5; fill:none\" points=\"846.815,1261.47 846.815,1486.45 894.665,1486.45 894.665,1261.47 846.815,1261.47 \"/>\n<path clip-path=\"url(#clip612)\" d=\"M894.665 1145.25 L894.665 1486.45 L942.515 1486.45 L942.515 1145.25 L894.665 1145.25 L894.665 1145.25  Z\" fill=\"#e26f46\" fill-rule=\"evenodd\" fill-opacity=\"0.5\"/>\n<polyline clip-path=\"url(#clip612)\" style=\"stroke:#000000; stroke-linecap:round; stroke-linejoin:round; stroke-width:4; stroke-opacity:0.5; fill:none\" points=\"894.665,1145.25 894.665,1486.45 942.515,1486.45 942.515,1145.25 894.665,1145.25 \"/>\n<path clip-path=\"url(#clip612)\" d=\"M942.515 1024.44 L942.515 1486.45 L990.365 1486.45 L990.365 1024.44 L942.515 1024.44 L942.515 1024.44  Z\" fill=\"#e26f46\" fill-rule=\"evenodd\" fill-opacity=\"0.5\"/>\n<polyline clip-path=\"url(#clip612)\" style=\"stroke:#000000; stroke-linecap:round; stroke-linejoin:round; stroke-width:4; stroke-opacity:0.5; fill:none\" points=\"942.515,1024.44 942.515,1486.45 990.365,1486.45 990.365,1024.44 942.515,1024.44 \"/>\n<path clip-path=\"url(#clip612)\" d=\"M990.365 833.979 L990.365 1486.45 L1038.22 1486.45 L1038.22 833.979 L990.365 833.979 L990.365 833.979  Z\" fill=\"#e26f46\" fill-rule=\"evenodd\" fill-opacity=\"0.5\"/>\n<polyline clip-path=\"url(#clip612)\" style=\"stroke:#000000; stroke-linecap:round; stroke-linejoin:round; stroke-width:4; stroke-opacity:0.5; fill:none\" points=\"990.365,833.979 990.365,1486.45 1038.22,1486.45 1038.22,833.979 990.365,833.979 \"/>\n<path clip-path=\"url(#clip612)\" d=\"M1038.22 683.233 L1038.22 1486.45 L1086.07 1486.45 L1086.07 683.233 L1038.22 683.233 L1038.22 683.233  Z\" fill=\"#e26f46\" fill-rule=\"evenodd\" fill-opacity=\"0.5\"/>\n<polyline clip-path=\"url(#clip612)\" style=\"stroke:#000000; stroke-linecap:round; stroke-linejoin:round; stroke-width:4; stroke-opacity:0.5; fill:none\" points=\"1038.22,683.233 1038.22,1486.45 1086.07,1486.45 1086.07,683.233 1038.22,683.233 \"/>\n<path clip-path=\"url(#clip612)\" d=\"M1086.07 496.748 L1086.07 1486.45 L1133.92 1486.45 L1133.92 496.748 L1086.07 496.748 L1086.07 496.748  Z\" fill=\"#e26f46\" fill-rule=\"evenodd\" fill-opacity=\"0.5\"/>\n<polyline clip-path=\"url(#clip612)\" style=\"stroke:#000000; stroke-linecap:round; stroke-linejoin:round; stroke-width:4; stroke-opacity:0.5; fill:none\" points=\"1086.07,496.748 1086.07,1486.45 1133.92,1486.45 1133.92,496.748 1086.07,496.748 \"/>\n<path clip-path=\"url(#clip612)\" d=\"M1133.92 317.594 L1133.92 1486.45 L1181.77 1486.45 L1181.77 317.594 L1133.92 317.594 L1133.92 317.594  Z\" fill=\"#e26f46\" fill-rule=\"evenodd\" fill-opacity=\"0.5\"/>\n<polyline clip-path=\"url(#clip612)\" style=\"stroke:#000000; stroke-linecap:round; stroke-linejoin:round; stroke-width:4; stroke-opacity:0.5; fill:none\" points=\"1133.92,317.594 1133.92,1486.45 1181.77,1486.45 1181.77,317.594 1133.92,317.594 \"/>\n<path clip-path=\"url(#clip612)\" d=\"M1181.77 210.987 L1181.77 1486.45 L1229.62 1486.45 L1229.62 210.987 L1181.77 210.987 L1181.77 210.987  Z\" fill=\"#e26f46\" fill-rule=\"evenodd\" fill-opacity=\"0.5\"/>\n<polyline clip-path=\"url(#clip612)\" style=\"stroke:#000000; stroke-linecap:round; stroke-linejoin:round; stroke-width:4; stroke-opacity:0.5; fill:none\" points=\"1181.77,210.987 1181.77,1486.45 1229.62,1486.45 1229.62,210.987 1181.77,210.987 \"/>\n<path clip-path=\"url(#clip612)\" d=\"M1229.62 143.327 L1229.62 1486.45 L1277.47 1486.45 L1277.47 143.327 L1229.62 143.327 L1229.62 143.327  Z\" fill=\"#e26f46\" fill-rule=\"evenodd\" fill-opacity=\"0.5\"/>\n<polyline clip-path=\"url(#clip612)\" style=\"stroke:#000000; stroke-linecap:round; stroke-linejoin:round; stroke-width:4; stroke-opacity:0.5; fill:none\" points=\"1229.62,143.327 1229.62,1486.45 1277.47,1486.45 1277.47,143.327 1229.62,143.327 \"/>\n<path clip-path=\"url(#clip612)\" d=\"M1277.47 123.472 L1277.47 1486.45 L1325.32 1486.45 L1325.32 123.472 L1277.47 123.472 L1277.47 123.472  Z\" fill=\"#e26f46\" fill-rule=\"evenodd\" fill-opacity=\"0.5\"/>\n<polyline clip-path=\"url(#clip612)\" style=\"stroke:#000000; stroke-linecap:round; stroke-linejoin:round; stroke-width:4; stroke-opacity:0.5; fill:none\" points=\"1277.47,123.472 1277.47,1486.45 1325.32,1486.45 1325.32,123.472 1277.47,123.472 \"/>\n<path clip-path=\"url(#clip612)\" d=\"M1325.32 219.998 L1325.32 1486.45 L1373.17 1486.45 L1373.17 219.998 L1325.32 219.998 L1325.32 219.998  Z\" fill=\"#e26f46\" fill-rule=\"evenodd\" fill-opacity=\"0.5\"/>\n<polyline clip-path=\"url(#clip612)\" style=\"stroke:#000000; stroke-linecap:round; stroke-linejoin:round; stroke-width:4; stroke-opacity:0.5; fill:none\" points=\"1325.32,219.998 1325.32,1486.45 1373.17,1486.45 1373.17,219.998 1325.32,219.998 \"/>\n<path clip-path=\"url(#clip612)\" d=\"M1373.17 306.444 L1373.17 1486.45 L1421.02 1486.45 L1421.02 306.444 L1373.17 306.444 L1373.17 306.444  Z\" fill=\"#e26f46\" fill-rule=\"evenodd\" fill-opacity=\"0.5\"/>\n<polyline clip-path=\"url(#clip612)\" style=\"stroke:#000000; stroke-linecap:round; stroke-linejoin:round; stroke-width:4; stroke-opacity:0.5; fill:none\" points=\"1373.17,306.444 1373.17,1486.45 1421.02,1486.45 1421.02,306.444 1373.17,306.444 \"/>\n<path clip-path=\"url(#clip612)\" d=\"M1421.02 478.878 L1421.02 1486.45 L1468.87 1486.45 L1468.87 478.878 L1421.02 478.878 L1421.02 478.878  Z\" fill=\"#e26f46\" fill-rule=\"evenodd\" fill-opacity=\"0.5\"/>\n<polyline clip-path=\"url(#clip612)\" style=\"stroke:#000000; stroke-linecap:round; stroke-linejoin:round; stroke-width:4; stroke-opacity:0.5; fill:none\" points=\"1421.02,478.878 1421.02,1486.45 1468.87,1486.45 1468.87,478.878 1421.02,478.878 \"/>\n<path clip-path=\"url(#clip612)\" d=\"M1468.87 664.752 L1468.87 1486.45 L1516.72 1486.45 L1516.72 664.752 L1468.87 664.752 L1468.87 664.752  Z\" fill=\"#e26f46\" fill-rule=\"evenodd\" fill-opacity=\"0.5\"/>\n<polyline clip-path=\"url(#clip612)\" style=\"stroke:#000000; stroke-linecap:round; stroke-linejoin:round; stroke-width:4; stroke-opacity:0.5; fill:none\" points=\"1468.87,664.752 1468.87,1486.45 1516.72,1486.45 1516.72,664.752 1468.87,664.752 \"/>\n<path clip-path=\"url(#clip612)\" d=\"M1516.72 844.365 L1516.72 1486.45 L1564.57 1486.45 L1564.57 844.365 L1516.72 844.365 L1516.72 844.365  Z\" fill=\"#e26f46\" fill-rule=\"evenodd\" fill-opacity=\"0.5\"/>\n<polyline clip-path=\"url(#clip612)\" style=\"stroke:#000000; stroke-linecap:round; stroke-linejoin:round; stroke-width:4; stroke-opacity:0.5; fill:none\" points=\"1516.72,844.365 1516.72,1486.45 1564.57,1486.45 1564.57,844.365 1516.72,844.365 \"/>\n<path clip-path=\"url(#clip612)\" d=\"M1564.57 999.082 L1564.57 1486.45 L1612.42 1486.45 L1612.42 999.082 L1564.57 999.082 L1564.57 999.082  Z\" fill=\"#e26f46\" fill-rule=\"evenodd\" fill-opacity=\"0.5\"/>\n<polyline clip-path=\"url(#clip612)\" style=\"stroke:#000000; stroke-linecap:round; stroke-linejoin:round; stroke-width:4; stroke-opacity:0.5; fill:none\" points=\"1564.57,999.082 1564.57,1486.45 1612.42,1486.45 1612.42,999.082 1564.57,999.082 \"/>\n<path clip-path=\"url(#clip612)\" d=\"M1612.42 1149.83 L1612.42 1486.45 L1660.27 1486.45 L1660.27 1149.83 L1612.42 1149.83 L1612.42 1149.83  Z\" fill=\"#e26f46\" fill-rule=\"evenodd\" fill-opacity=\"0.5\"/>\n<polyline clip-path=\"url(#clip612)\" style=\"stroke:#000000; stroke-linecap:round; stroke-linejoin:round; stroke-width:4; stroke-opacity:0.5; fill:none\" points=\"1612.42,1149.83 1612.42,1486.45 1660.27,1486.45 1660.27,1149.83 1612.42,1149.83 \"/>\n<path clip-path=\"url(#clip612)\" d=\"M1660.27 1261.93 L1660.27 1486.45 L1708.12 1486.45 L1708.12 1261.93 L1660.27 1261.93 L1660.27 1261.93  Z\" fill=\"#e26f46\" fill-rule=\"evenodd\" fill-opacity=\"0.5\"/>\n<polyline clip-path=\"url(#clip612)\" style=\"stroke:#000000; stroke-linecap:round; stroke-linejoin:round; stroke-width:4; stroke-opacity:0.5; fill:none\" points=\"1660.27,1261.93 1660.27,1486.45 1708.12,1486.45 1708.12,1261.93 1660.27,1261.93 \"/>\n<path clip-path=\"url(#clip612)\" d=\"M1708.12 1345.17 L1708.12 1486.45 L1755.97 1486.45 L1755.97 1345.17 L1708.12 1345.17 L1708.12 1345.17  Z\" fill=\"#e26f46\" fill-rule=\"evenodd\" fill-opacity=\"0.5\"/>\n<polyline clip-path=\"url(#clip612)\" style=\"stroke:#000000; stroke-linecap:round; stroke-linejoin:round; stroke-width:4; stroke-opacity:0.5; fill:none\" points=\"1708.12,1345.17 1708.12,1486.45 1755.97,1486.45 1755.97,1345.17 1708.12,1345.17 \"/>\n<path clip-path=\"url(#clip612)\" d=\"M1755.97 1393.43 L1755.97 1486.45 L1803.82 1486.45 L1803.82 1393.43 L1755.97 1393.43 L1755.97 1393.43  Z\" fill=\"#e26f46\" fill-rule=\"evenodd\" fill-opacity=\"0.5\"/>\n<polyline clip-path=\"url(#clip612)\" style=\"stroke:#000000; stroke-linecap:round; stroke-linejoin:round; stroke-width:4; stroke-opacity:0.5; fill:none\" points=\"1755.97,1393.43 1755.97,1486.45 1803.82,1486.45 1803.82,1393.43 1755.97,1393.43 \"/>\n<path clip-path=\"url(#clip612)\" d=\"M1803.82 1437.12 L1803.82 1486.45 L1851.67 1486.45 L1851.67 1437.12 L1803.82 1437.12 L1803.82 1437.12  Z\" fill=\"#e26f46\" fill-rule=\"evenodd\" fill-opacity=\"0.5\"/>\n<polyline clip-path=\"url(#clip612)\" style=\"stroke:#000000; stroke-linecap:round; stroke-linejoin:round; stroke-width:4; stroke-opacity:0.5; fill:none\" points=\"1803.82,1437.12 1803.82,1486.45 1851.67,1486.45 1851.67,1437.12 1803.82,1437.12 \"/>\n<path clip-path=\"url(#clip612)\" d=\"M1851.67 1456.36 L1851.67 1486.45 L1899.52 1486.45 L1899.52 1456.36 L1851.67 1456.36 L1851.67 1456.36  Z\" fill=\"#e26f46\" fill-rule=\"evenodd\" fill-opacity=\"0.5\"/>\n<polyline clip-path=\"url(#clip612)\" style=\"stroke:#000000; stroke-linecap:round; stroke-linejoin:round; stroke-width:4; stroke-opacity:0.5; fill:none\" points=\"1851.67,1456.36 1851.67,1486.45 1899.52,1486.45 1899.52,1456.36 1851.67,1456.36 \"/>\n<path clip-path=\"url(#clip612)\" d=\"M1899.52 1468.58 L1899.52 1486.45 L1947.37 1486.45 L1947.37 1468.58 L1899.52 1468.58 L1899.52 1468.58  Z\" fill=\"#e26f46\" fill-rule=\"evenodd\" fill-opacity=\"0.5\"/>\n<polyline clip-path=\"url(#clip612)\" style=\"stroke:#000000; stroke-linecap:round; stroke-linejoin:round; stroke-width:4; stroke-opacity:0.5; fill:none\" points=\"1899.52,1468.58 1899.52,1486.45 1947.37,1486.45 1947.37,1468.58 1899.52,1468.58 \"/>\n<path clip-path=\"url(#clip612)\" d=\"M1947.37 1478.81 L1947.37 1486.45 L1995.22 1486.45 L1995.22 1478.81 L1947.37 1478.81 L1947.37 1478.81  Z\" fill=\"#e26f46\" fill-rule=\"evenodd\" fill-opacity=\"0.5\"/>\n<polyline clip-path=\"url(#clip612)\" style=\"stroke:#000000; stroke-linecap:round; stroke-linejoin:round; stroke-width:4; stroke-opacity:0.5; fill:none\" points=\"1947.37,1478.81 1947.37,1486.45 1995.22,1486.45 1995.22,1478.81 1947.37,1478.81 \"/>\n<path clip-path=\"url(#clip612)\" d=\"M1995.22 1482.48 L1995.22 1486.45 L2043.07 1486.45 L2043.07 1482.48 L1995.22 1482.48 L1995.22 1482.48  Z\" fill=\"#e26f46\" fill-rule=\"evenodd\" fill-opacity=\"0.5\"/>\n<polyline clip-path=\"url(#clip612)\" style=\"stroke:#000000; stroke-linecap:round; stroke-linejoin:round; stroke-width:4; stroke-opacity:0.5; fill:none\" points=\"1995.22,1482.48 1995.22,1486.45 2043.07,1486.45 2043.07,1482.48 1995.22,1482.48 \"/>\n<path clip-path=\"url(#clip612)\" d=\"M2043.07 1484.77 L2043.07 1486.45 L2090.92 1486.45 L2090.92 1484.77 L2043.07 1484.77 L2043.07 1484.77  Z\" fill=\"#e26f46\" fill-rule=\"evenodd\" fill-opacity=\"0.5\"/>\n<polyline clip-path=\"url(#clip612)\" style=\"stroke:#000000; stroke-linecap:round; stroke-linejoin:round; stroke-width:4; stroke-opacity:0.5; fill:none\" points=\"2043.07,1484.77 2043.07,1486.45 2090.92,1486.45 2090.92,1484.77 2043.07,1484.77 \"/>\n<path clip-path=\"url(#clip612)\" d=\"M2090.92 1485.99 L2090.92 1486.45 L2138.77 1486.45 L2138.77 1485.99 L2090.92 1485.99 L2090.92 1485.99  Z\" fill=\"#e26f46\" fill-rule=\"evenodd\" fill-opacity=\"0.5\"/>\n<polyline clip-path=\"url(#clip612)\" style=\"stroke:#000000; stroke-linecap:round; stroke-linejoin:round; stroke-width:4; stroke-opacity:0.5; fill:none\" points=\"2090.92,1485.99 2090.92,1486.45 2138.77,1486.45 2138.77,1485.99 2090.92,1485.99 \"/>\n<path clip-path=\"url(#clip612)\" d=\"M2138.77 1486.45 L2138.77 1486.45 L2186.62 1486.45 L2186.62 1486.45 L2138.77 1486.45 L2138.77 1486.45  Z\" fill=\"#e26f46\" fill-rule=\"evenodd\" fill-opacity=\"0.5\"/>\n<polyline clip-path=\"url(#clip612)\" style=\"stroke:#000000; stroke-linecap:round; stroke-linejoin:round; stroke-width:4; stroke-opacity:0.5; fill:none\" points=\"2138.77,1486.45 2138.77,1486.45 2186.62,1486.45 2138.77,1486.45 \"/>\n<path clip-path=\"url(#clip612)\" d=\"M2186.62 1486.3 L2186.62 1486.45 L2234.47 1486.45 L2234.47 1486.3 L2186.62 1486.3 L2186.62 1486.3  Z\" fill=\"#e26f46\" fill-rule=\"evenodd\" fill-opacity=\"0.5\"/>\n<polyline clip-path=\"url(#clip612)\" style=\"stroke:#000000; stroke-linecap:round; stroke-linejoin:round; stroke-width:4; stroke-opacity:0.5; fill:none\" points=\"2186.62,1486.3 2186.62,1486.45 2234.47,1486.45 2234.47,1486.3 2186.62,1486.3 \"/>\n<circle clip-path=\"url(#clip612)\" style=\"fill:#e26f46; stroke:none; fill-opacity:0\" cx=\"344.387\" cy=\"1486.45\" r=\"2\"/>\n<circle clip-path=\"url(#clip612)\" style=\"fill:#e26f46; stroke:none; fill-opacity:0\" cx=\"392.238\" cy=\"1486.3\" r=\"2\"/>\n<circle clip-path=\"url(#clip612)\" style=\"fill:#e26f46; stroke:none; fill-opacity:0\" cx=\"440.088\" cy=\"1485.99\" r=\"2\"/>\n<circle clip-path=\"url(#clip612)\" style=\"fill:#e26f46; stroke:none; fill-opacity:0\" cx=\"487.938\" cy=\"1485.53\" r=\"2\"/>\n<circle clip-path=\"url(#clip612)\" style=\"fill:#e26f46; stroke:none; fill-opacity:0\" cx=\"535.788\" cy=\"1483.24\" r=\"2\"/>\n<circle clip-path=\"url(#clip612)\" style=\"fill:#e26f46; stroke:none; fill-opacity:0\" cx=\"583.638\" cy=\"1481.71\" r=\"2\"/>\n<circle clip-path=\"url(#clip612)\" style=\"fill:#e26f46; stroke:none; fill-opacity:0\" cx=\"631.489\" cy=\"1471.48\" r=\"2\"/>\n<circle clip-path=\"url(#clip612)\" style=\"fill:#e26f46; stroke:none; fill-opacity:0\" cx=\"679.339\" cy=\"1460.33\" r=\"2\"/>\n<circle clip-path=\"url(#clip612)\" style=\"fill:#e26f46; stroke:none; fill-opacity:0\" cx=\"727.189\" cy=\"1440.02\" r=\"2\"/>\n<circle clip-path=\"url(#clip612)\" style=\"fill:#e26f46; stroke:none; fill-opacity:0\" cx=\"775.039\" cy=\"1398.93\" r=\"2\"/>\n<circle clip-path=\"url(#clip612)\" style=\"fill:#e26f46; stroke:none; fill-opacity:0\" cx=\"822.889\" cy=\"1333.56\" r=\"2\"/>\n<circle clip-path=\"url(#clip612)\" style=\"fill:#e26f46; stroke:none; fill-opacity:0\" cx=\"870.74\" cy=\"1261.47\" r=\"2\"/>\n<circle clip-path=\"url(#clip612)\" style=\"fill:#e26f46; stroke:none; fill-opacity:0\" cx=\"918.59\" cy=\"1145.25\" r=\"2\"/>\n<circle clip-path=\"url(#clip612)\" style=\"fill:#e26f46; stroke:none; fill-opacity:0\" cx=\"966.44\" cy=\"1024.44\" r=\"2\"/>\n<circle clip-path=\"url(#clip612)\" style=\"fill:#e26f46; stroke:none; fill-opacity:0\" cx=\"1014.29\" cy=\"833.979\" r=\"2\"/>\n<circle clip-path=\"url(#clip612)\" style=\"fill:#e26f46; stroke:none; fill-opacity:0\" cx=\"1062.14\" cy=\"683.233\" r=\"2\"/>\n<circle clip-path=\"url(#clip612)\" style=\"fill:#e26f46; stroke:none; fill-opacity:0\" cx=\"1109.99\" cy=\"496.748\" r=\"2\"/>\n<circle clip-path=\"url(#clip612)\" style=\"fill:#e26f46; stroke:none; fill-opacity:0\" cx=\"1157.84\" cy=\"317.594\" r=\"2\"/>\n<circle clip-path=\"url(#clip612)\" style=\"fill:#e26f46; stroke:none; fill-opacity:0\" cx=\"1205.69\" cy=\"210.987\" r=\"2\"/>\n<circle clip-path=\"url(#clip612)\" style=\"fill:#e26f46; stroke:none; fill-opacity:0\" cx=\"1253.54\" cy=\"143.327\" r=\"2\"/>\n<circle clip-path=\"url(#clip612)\" style=\"fill:#e26f46; stroke:none; fill-opacity:0\" cx=\"1301.39\" cy=\"123.472\" r=\"2\"/>\n<circle clip-path=\"url(#clip612)\" style=\"fill:#e26f46; stroke:none; fill-opacity:0\" cx=\"1349.24\" cy=\"219.998\" r=\"2\"/>\n<circle clip-path=\"url(#clip612)\" style=\"fill:#e26f46; stroke:none; fill-opacity:0\" cx=\"1397.09\" cy=\"306.444\" r=\"2\"/>\n<circle clip-path=\"url(#clip612)\" style=\"fill:#e26f46; stroke:none; fill-opacity:0\" cx=\"1444.94\" cy=\"478.878\" r=\"2\"/>\n<circle clip-path=\"url(#clip612)\" style=\"fill:#e26f46; stroke:none; fill-opacity:0\" cx=\"1492.79\" cy=\"664.752\" r=\"2\"/>\n<circle clip-path=\"url(#clip612)\" style=\"fill:#e26f46; stroke:none; fill-opacity:0\" cx=\"1540.64\" cy=\"844.365\" r=\"2\"/>\n<circle clip-path=\"url(#clip612)\" style=\"fill:#e26f46; stroke:none; fill-opacity:0\" cx=\"1588.49\" cy=\"999.082\" r=\"2\"/>\n<circle clip-path=\"url(#clip612)\" style=\"fill:#e26f46; stroke:none; fill-opacity:0\" cx=\"1636.34\" cy=\"1149.83\" r=\"2\"/>\n<circle clip-path=\"url(#clip612)\" style=\"fill:#e26f46; stroke:none; fill-opacity:0\" cx=\"1684.19\" cy=\"1261.93\" r=\"2\"/>\n<circle clip-path=\"url(#clip612)\" style=\"fill:#e26f46; stroke:none; fill-opacity:0\" cx=\"1732.04\" cy=\"1345.17\" r=\"2\"/>\n<circle clip-path=\"url(#clip612)\" style=\"fill:#e26f46; stroke:none; fill-opacity:0\" cx=\"1779.89\" cy=\"1393.43\" r=\"2\"/>\n<circle clip-path=\"url(#clip612)\" style=\"fill:#e26f46; stroke:none; fill-opacity:0\" cx=\"1827.74\" cy=\"1437.12\" r=\"2\"/>\n<circle clip-path=\"url(#clip612)\" style=\"fill:#e26f46; stroke:none; fill-opacity:0\" cx=\"1875.59\" cy=\"1456.36\" r=\"2\"/>\n<circle clip-path=\"url(#clip612)\" style=\"fill:#e26f46; stroke:none; fill-opacity:0\" cx=\"1923.44\" cy=\"1468.58\" r=\"2\"/>\n<circle clip-path=\"url(#clip612)\" style=\"fill:#e26f46; stroke:none; fill-opacity:0\" cx=\"1971.29\" cy=\"1478.81\" r=\"2\"/>\n<circle clip-path=\"url(#clip612)\" style=\"fill:#e26f46; stroke:none; fill-opacity:0\" cx=\"2019.14\" cy=\"1482.48\" r=\"2\"/>\n<circle clip-path=\"url(#clip612)\" style=\"fill:#e26f46; stroke:none; fill-opacity:0\" cx=\"2066.99\" cy=\"1484.77\" r=\"2\"/>\n<circle clip-path=\"url(#clip612)\" style=\"fill:#e26f46; stroke:none; fill-opacity:0\" cx=\"2114.84\" cy=\"1485.99\" r=\"2\"/>\n<circle clip-path=\"url(#clip612)\" style=\"fill:#e26f46; stroke:none; fill-opacity:0\" cx=\"2162.69\" cy=\"1486.45\" r=\"2\"/>\n<circle clip-path=\"url(#clip612)\" style=\"fill:#e26f46; stroke:none; fill-opacity:0\" cx=\"2210.55\" cy=\"1486.3\" r=\"2\"/>\n</svg>\n"
          },
          "metadata": {},
          "execution_count": 11
        }
      ]
    },
    {
      "cell_type": "code",
      "source": [
        "# Model\n",
        "@model function mymodel(n)\n",
        "  # prior\n",
        "  # Following two lines determine the factor graph (model)\n",
        "  mu ~ NormalMeanPrecision(0.0, 1.0)   # mean parameter (via RxInfer.jl; args=mean,precision)\n",
        "  tau ~ GammaShapeRate(1.0, 1.0)       # precision parameter (values randomly drawn from gamma dist; args=shape, rate; where rate=1/scale)\n",
        "  # likelihood\n",
        "  y = datavar(Float64, n)   # establish data variable (observations) y\n",
        "  for i in 1:n    # loop to fill a vector of distributions\n",
        "    y[i] ~ NormalMeanPrecision(mu, tau)   # used because we want to discover mu and tau\n",
        "  end\n",
        "end\n"
      ],
      "metadata": {
        "id": "q4on8dT7_ET_"
      },
      "execution_count": 13,
      "outputs": []
    },
    {
      "cell_type": "code",
      "source": [
        "# Constraints on model\n",
        "# Mean-field approximation assumption: parameters work independently\n",
        "# i.e. assume that [ q(mu, tau) = q(mu)q(tau) ]\n",
        "\n",
        "# define constraints\n",
        "constraints = @constraints begin\n",
        "  q(mu, tau) = q(mu)q(tau)        # where Q is posterior approximation of which q is an element\n",
        "end"
      ],
      "metadata": {
        "colab": {
          "base_uri": "https://localhost:8080/"
        },
        "id": "4EEoKjHY_kgp",
        "outputId": "3e50d1c9-0c64-444b-b2b2-af1e35b0627b"
      },
      "execution_count": 14,
      "outputs": [
        {
          "output_type": "execute_result",
          "data": {
            "text/plain": [
              "Constraints:\n",
              "  marginals form:\n",
              "  messages form:\n",
              "  factorisation:\n",
              "    q(mu, tau) = q(mu)q(tau)\n",
              "Options:\n",
              "  warn = true\n"
            ]
          },
          "metadata": {},
          "execution_count": 14
        }
      ]
    },
    {
      "cell_type": "code",
      "source": [
        "# Variational Inference\n",
        "\n",
        "# approximate posteriors\n",
        "result = inference(\n",
        "  model = mymodel(n),   # model we defined using @model\n",
        "  data = (y = observations, ),   # our data (observations); must be a julia tuple incl. ending comma\n",
        "  constraints = constraints,   # constraints we defined\n",
        "  initmarginals = (     # initial marginal distributions to initialize inference process\n",
        "    mu = vague(NormalMeanPrecision),    # vague() function allows initialization at some un-biased starting point\n",
        "    tau = vague(GammaShapeRate)\n",
        "  ),\n",
        "  returnvars = (mu = KeepLast(), tau = KeepLast()),   # only return variables of final iteration\n",
        "  iterations = 5,   # set n of iterations for inference process\n",
        "  free_energy = true    # use Bethe Free Energy algorithm as minimization objective\n",
        ")\n",
        "\n",
        "# Summary:\n",
        "#   posteriors are available for mu and tau (per returnvars, only of final iteration)\n",
        "#   Free energy: BFE values after each iteration; notice convergence after only 3 iterations"
      ],
      "metadata": {
        "colab": {
          "base_uri": "https://localhost:8080/"
        },
        "id": "Lqz7DZIVBZFP",
        "outputId": "d441b446-1d17-4118-cf77-a8a238bb0db3"
      },
      "execution_count": 17,
      "outputs": [
        {
          "output_type": "execute_result",
          "data": {
            "text/plain": [
              "Inference results:\n",
              "  Posteriors       | available for (mu, tau)\n",
              "  Free Energy:     | Real[1.47348e6, 2.0908e5, 61568.8, 61568.8, 61568.8]\n"
            ]
          },
          "metadata": {},
          "execution_count": 17
        }
      ]
    },
    {
      "cell_type": "code",
      "source": [
        "# view results for mu\n",
        "mu_posterior = result.posteriors[:mu]\n",
        "mu_mean = mean(mu_posterior)     # notice true_mean is 3.0\n",
        "println(mu_mean)   # print variable followed by new line\n",
        "mu_std = std(mu_posterior)\n",
        "print(mu_std)"
      ],
      "metadata": {
        "colab": {
          "base_uri": "https://localhost:8080/"
        },
        "id": "3mA605-RBzfQ",
        "outputId": "30d090af-0883-4842-eeea-565469d7ca18"
      },
      "execution_count": 26,
      "outputs": [
        {
          "output_type": "stream",
          "name": "stdout",
          "text": [
            "3.0023025736112445\n",
            "0.0014160852609955302"
          ]
        }
      ]
    },
    {
      "cell_type": "code",
      "source": [
        "# view results for tau\n",
        "tau_posterior = result.posteriors[:tau]\n",
        "tau_mean = mean(tau_posterior)\n",
        "println(tau_mean)    # notice true_precision is 5.0\n",
        "tau_std = std(tau_posterior)\n",
        "print(tau_std)"
      ],
      "metadata": {
        "colab": {
          "base_uri": "https://localhost:8080/"
        },
        "id": "d3rVY6ABDfm3",
        "outputId": "a57fc584-9383-46ec-cfcc-984cc06c9e4e"
      },
      "execution_count": 27,
      "outputs": [
        {
          "output_type": "stream",
          "name": "stdout",
          "text": [
            "4.986781320253787\n",
            "0.02230134102973199"
          ]
        }
      ]
    },
    {
      "cell_type": "code",
      "source": [
        "# VI approximation using our model's derived param values\n",
        "\n",
        "vi_sigma = 1 / sqrt(tau_mean)    # compute std from model's approximated precision\n",
        "println(vi_sigma)\n",
        "vi_approximation = Normal(mu_mean, vi_sigma)   # generate Normal distribution using approximated params"
      ],
      "metadata": {
        "colab": {
          "base_uri": "https://localhost:8080/"
        },
        "id": "_e66La37DjCJ",
        "outputId": "9070ebaa-9676-4d2c-b916-ea51d2f96039"
      },
      "execution_count": 28,
      "outputs": [
        {
          "output_type": "stream",
          "name": "stdout",
          "text": [
            "0.4478059275659404\n"
          ]
        },
        {
          "output_type": "execute_result",
          "data": {
            "text/plain": [
              "Normal{Float64}(μ=3.0023025736112445, σ=0.4478059275659404)"
            ]
          },
          "metadata": {},
          "execution_count": 28
        }
      ]
    },
    {
      "cell_type": "code",
      "source": [
        "# true distribution\n",
        "p_distributions = plot(true_distribution;\n",
        "  label = \"True Distribution\",\n",
        "  title = \"Variational Inference (VI)\",\n",
        "  xlims = (1,5),\n",
        "  color = 1,\n",
        "  fill = true,\n",
        "  alpha = 0.3\n",
        ")\n",
        "\n",
        "# VI approximation\n",
        "\n",
        "plot!(p_distributions, vi_approximation;\n",
        "  label = \"VI Approximation\",\n",
        "  color = 3,\n",
        "  linewidth = 2,\n",
        "  linestyle = :dash\n",
        ")\n",
        "\n",
        "# observations + distributions\n",
        "\n",
        "plot(p_observations, p_distributions;\n",
        "  layout = (2,1),\n",
        "  size = (600, 600)\n",
        ")"
      ],
      "metadata": {
        "colab": {
          "base_uri": "https://localhost:8080/",
          "height": 621
        },
        "id": "LJp5MQ2dE3OX",
        "outputId": "ea610c5a-494b-48e6-f61e-93d2da3c4d5a"
      },
      "execution_count": 31,
      "outputs": [
        {
          "output_type": "execute_result",
          "data": {
            "image/svg+xml": "<?xml version=\"1.0\" encoding=\"utf-8\"?>\n<svg xmlns=\"http://www.w3.org/2000/svg\" xmlns:xlink=\"http://www.w3.org/1999/xlink\" width=\"600\" height=\"600\" viewBox=\"0 0 2400 2400\">\n<defs>\n  <clipPath id=\"clip730\">\n    <rect x=\"0\" y=\"0\" width=\"2400\" height=\"2400\"/>\n  </clipPath>\n</defs>\n<path clip-path=\"url(#clip730)\" d=\"M0 2400 L2400 2400 L2400 0 L0 0  Z\" fill=\"#ffffff\" fill-rule=\"evenodd\" fill-opacity=\"1\"/>\n<defs>\n  <clipPath id=\"clip731\">\n    <rect x=\"480\" y=\"240\" width=\"1681\" height=\"1681\"/>\n  </clipPath>\n</defs>\n<path clip-path=\"url(#clip730)\" d=\"M202.177 1061.17 L2352.76 1061.17 L2352.76 153.712 L202.177 153.712  Z\" fill=\"#ffffff\" fill-rule=\"evenodd\" fill-opacity=\"1\"/>\n<defs>\n  <clipPath id=\"clip732\">\n    <rect x=\"202\" y=\"153\" width=\"2152\" height=\"908\"/>\n  </clipPath>\n</defs>\n<polyline clip-path=\"url(#clip732)\" style=\"stroke:#000000; stroke-linecap:round; stroke-linejoin:round; stroke-width:2; stroke-opacity:0.1; fill:none\" points=\"320.462,1061.17 320.462,153.712 \"/>\n<polyline clip-path=\"url(#clip732)\" style=\"stroke:#000000; stroke-linecap:round; stroke-linejoin:round; stroke-width:2; stroke-opacity:0.1; fill:none\" points=\"798.964,1061.17 798.964,153.712 \"/>\n<polyline clip-path=\"url(#clip732)\" style=\"stroke:#000000; stroke-linecap:round; stroke-linejoin:round; stroke-width:2; stroke-opacity:0.1; fill:none\" points=\"1277.47,1061.17 1277.47,153.712 \"/>\n<polyline clip-path=\"url(#clip732)\" style=\"stroke:#000000; stroke-linecap:round; stroke-linejoin:round; stroke-width:2; stroke-opacity:0.1; fill:none\" points=\"1755.97,1061.17 1755.97,153.712 \"/>\n<polyline clip-path=\"url(#clip732)\" style=\"stroke:#000000; stroke-linecap:round; stroke-linejoin:round; stroke-width:2; stroke-opacity:0.1; fill:none\" points=\"2234.47,1061.17 2234.47,153.712 \"/>\n<polyline clip-path=\"url(#clip730)\" style=\"stroke:#000000; stroke-linecap:round; stroke-linejoin:round; stroke-width:4; stroke-opacity:1; fill:none\" points=\"202.177,1061.17 2352.76,1061.17 \"/>\n<polyline clip-path=\"url(#clip730)\" style=\"stroke:#000000; stroke-linecap:round; stroke-linejoin:round; stroke-width:4; stroke-opacity:1; fill:none\" points=\"320.462,1061.17 320.462,1042.27 \"/>\n<polyline clip-path=\"url(#clip730)\" style=\"stroke:#000000; stroke-linecap:round; stroke-linejoin:round; stroke-width:4; stroke-opacity:1; fill:none\" points=\"798.964,1061.17 798.964,1042.27 \"/>\n<polyline clip-path=\"url(#clip730)\" style=\"stroke:#000000; stroke-linecap:round; stroke-linejoin:round; stroke-width:4; stroke-opacity:1; fill:none\" points=\"1277.47,1061.17 1277.47,1042.27 \"/>\n<polyline clip-path=\"url(#clip730)\" style=\"stroke:#000000; stroke-linecap:round; stroke-linejoin:round; stroke-width:4; stroke-opacity:1; fill:none\" points=\"1755.97,1061.17 1755.97,1042.27 \"/>\n<polyline clip-path=\"url(#clip730)\" style=\"stroke:#000000; stroke-linecap:round; stroke-linejoin:round; stroke-width:4; stroke-opacity:1; fill:none\" points=\"2234.47,1061.17 2234.47,1042.27 \"/>\n<path clip-path=\"url(#clip730)\" d=\"M310.844 1119.63 L318.483 1119.63 L318.483 1093.27 L310.173 1094.93 L310.173 1090.67 L318.437 1089.01 L323.113 1089.01 L323.113 1119.63 L330.752 1119.63 L330.752 1123.57 L310.844 1123.57 L310.844 1119.63 Z\" fill=\"#000000\" fill-rule=\"nonzero\" fill-opacity=\"1\" /><path clip-path=\"url(#clip730)\" d=\"M793.617 1119.63 L809.937 1119.63 L809.937 1123.57 L787.992 1123.57 L787.992 1119.63 Q790.654 1116.88 795.238 1112.25 Q799.844 1107.6 801.025 1106.25 Q803.27 1103.73 804.149 1101.99 Q805.052 1100.23 805.052 1098.54 Q805.052 1095.79 803.108 1094.05 Q801.187 1092.32 798.085 1092.32 Q795.886 1092.32 793.432 1093.08 Q791.001 1093.85 788.224 1095.4 L788.224 1090.67 Q791.048 1089.54 793.501 1088.96 Q795.955 1088.38 797.992 1088.38 Q803.362 1088.38 806.557 1091.07 Q809.751 1093.75 809.751 1098.24 Q809.751 1100.37 808.941 1102.29 Q808.154 1104.19 806.048 1106.79 Q805.469 1107.46 802.367 1110.67 Q799.265 1113.87 793.617 1119.63 Z\" fill=\"#000000\" fill-rule=\"nonzero\" fill-opacity=\"1\" /><path clip-path=\"url(#clip730)\" d=\"M1281.71 1104.93 Q1285.07 1105.65 1286.95 1107.92 Q1288.84 1110.19 1288.84 1113.52 Q1288.84 1118.64 1285.33 1121.44 Q1281.81 1124.24 1275.33 1124.24 Q1273.15 1124.24 1270.83 1123.8 Q1268.54 1123.38 1266.09 1122.53 L1266.09 1118.01 Q1268.03 1119.15 1270.35 1119.73 Q1272.66 1120.3 1275.19 1120.3 Q1279.58 1120.3 1281.88 1118.57 Q1284.19 1116.83 1284.19 1113.52 Q1284.19 1110.47 1282.04 1108.75 Q1279.91 1107.02 1276.09 1107.02 L1272.06 1107.02 L1272.06 1103.17 L1276.27 1103.17 Q1279.72 1103.17 1281.55 1101.81 Q1283.38 1100.42 1283.38 1097.83 Q1283.38 1095.17 1281.48 1093.75 Q1279.61 1092.32 1276.09 1092.32 Q1274.17 1092.32 1271.97 1092.73 Q1269.77 1093.15 1267.13 1094.03 L1267.13 1089.86 Q1269.79 1089.12 1272.11 1088.75 Q1274.45 1088.38 1276.51 1088.38 Q1281.83 1088.38 1284.93 1090.81 Q1288.03 1093.22 1288.03 1097.34 Q1288.03 1100.21 1286.39 1102.2 Q1284.75 1104.17 1281.71 1104.93 Z\" fill=\"#000000\" fill-rule=\"nonzero\" fill-opacity=\"1\" /><path clip-path=\"url(#clip730)\" d=\"M1758.98 1093.08 L1747.17 1111.53 L1758.98 1111.53 L1758.98 1093.08 M1757.75 1089.01 L1763.63 1089.01 L1763.63 1111.53 L1768.56 1111.53 L1768.56 1115.42 L1763.63 1115.42 L1763.63 1123.57 L1758.98 1123.57 L1758.98 1115.42 L1743.38 1115.42 L1743.38 1110.91 L1757.75 1089.01 Z\" fill=\"#000000\" fill-rule=\"nonzero\" fill-opacity=\"1\" /><path clip-path=\"url(#clip730)\" d=\"M2224.75 1089.01 L2243.1 1089.01 L2243.1 1092.94 L2229.03 1092.94 L2229.03 1101.42 Q2230.05 1101.07 2231.07 1100.91 Q2232.09 1100.72 2233.1 1100.72 Q2238.89 1100.72 2242.27 1103.89 Q2245.65 1107.06 2245.65 1112.48 Q2245.65 1118.06 2242.18 1121.16 Q2238.71 1124.24 2232.39 1124.24 Q2230.21 1124.24 2227.94 1123.87 Q2225.7 1123.5 2223.29 1122.76 L2223.29 1118.06 Q2225.37 1119.19 2227.6 1119.75 Q2229.82 1120.3 2232.29 1120.3 Q2236.3 1120.3 2238.64 1118.2 Q2240.97 1116.09 2240.97 1112.48 Q2240.97 1108.87 2238.64 1106.76 Q2236.3 1104.66 2232.29 1104.66 Q2230.42 1104.66 2228.54 1105.07 Q2226.69 1105.49 2224.75 1106.37 L2224.75 1089.01 Z\" fill=\"#000000\" fill-rule=\"nonzero\" fill-opacity=\"1\" /><polyline clip-path=\"url(#clip732)\" style=\"stroke:#000000; stroke-linecap:round; stroke-linejoin:round; stroke-width:2; stroke-opacity:0.1; fill:none\" points=\"202.177,1061.17 2352.76,1061.17 \"/>\n<polyline clip-path=\"url(#clip732)\" style=\"stroke:#000000; stroke-linecap:round; stroke-linejoin:round; stroke-width:2; stroke-opacity:0.1; fill:none\" points=\"202.177,857.794 2352.76,857.794 \"/>\n<polyline clip-path=\"url(#clip732)\" style=\"stroke:#000000; stroke-linecap:round; stroke-linejoin:round; stroke-width:2; stroke-opacity:0.1; fill:none\" points=\"202.177,654.419 2352.76,654.419 \"/>\n<polyline clip-path=\"url(#clip732)\" style=\"stroke:#000000; stroke-linecap:round; stroke-linejoin:round; stroke-width:2; stroke-opacity:0.1; fill:none\" points=\"202.177,451.045 2352.76,451.045 \"/>\n<polyline clip-path=\"url(#clip732)\" style=\"stroke:#000000; stroke-linecap:round; stroke-linejoin:round; stroke-width:2; stroke-opacity:0.1; fill:none\" points=\"202.177,247.671 2352.76,247.671 \"/>\n<polyline clip-path=\"url(#clip730)\" style=\"stroke:#000000; stroke-linecap:round; stroke-linejoin:round; stroke-width:4; stroke-opacity:1; fill:none\" points=\"202.177,1061.17 202.177,153.712 \"/>\n<polyline clip-path=\"url(#clip730)\" style=\"stroke:#000000; stroke-linecap:round; stroke-linejoin:round; stroke-width:4; stroke-opacity:1; fill:none\" points=\"202.177,1061.17 221.074,1061.17 \"/>\n<polyline clip-path=\"url(#clip730)\" style=\"stroke:#000000; stroke-linecap:round; stroke-linejoin:round; stroke-width:4; stroke-opacity:1; fill:none\" points=\"202.177,857.794 221.074,857.794 \"/>\n<polyline clip-path=\"url(#clip730)\" style=\"stroke:#000000; stroke-linecap:round; stroke-linejoin:round; stroke-width:4; stroke-opacity:1; fill:none\" points=\"202.177,654.419 221.074,654.419 \"/>\n<polyline clip-path=\"url(#clip730)\" style=\"stroke:#000000; stroke-linecap:round; stroke-linejoin:round; stroke-width:4; stroke-opacity:1; fill:none\" points=\"202.177,451.045 221.074,451.045 \"/>\n<polyline clip-path=\"url(#clip730)\" style=\"stroke:#000000; stroke-linecap:round; stroke-linejoin:round; stroke-width:4; stroke-opacity:1; fill:none\" points=\"202.177,247.671 221.074,247.671 \"/>\n<path clip-path=\"url(#clip730)\" d=\"M154.232 1046.97 Q150.621 1046.97 148.793 1050.53 Q146.987 1054.07 146.987 1061.2 Q146.987 1068.31 148.793 1071.87 Q150.621 1075.42 154.232 1075.42 Q157.867 1075.42 159.672 1071.87 Q161.501 1068.31 161.501 1061.2 Q161.501 1054.07 159.672 1050.53 Q157.867 1046.97 154.232 1046.97 M154.232 1043.26 Q160.042 1043.26 163.098 1047.87 Q166.177 1052.45 166.177 1061.2 Q166.177 1069.93 163.098 1074.54 Q160.042 1079.12 154.232 1079.12 Q148.422 1079.12 145.343 1074.54 Q142.288 1069.93 142.288 1061.2 Q142.288 1052.45 145.343 1047.87 Q148.422 1043.26 154.232 1043.26 Z\" fill=\"#000000\" fill-rule=\"nonzero\" fill-opacity=\"1\" /><path clip-path=\"url(#clip730)\" d=\"M57.7745 871.138 L74.0939 871.138 L74.0939 875.074 L52.1495 875.074 L52.1495 871.138 Q54.8115 868.384 59.3949 863.754 Q64.0013 859.102 65.1819 857.759 Q67.4272 855.236 68.3068 853.5 Q69.2096 851.74 69.2096 850.051 Q69.2096 847.296 67.2652 845.56 Q65.3439 843.824 62.2421 843.824 Q60.043 843.824 57.5893 844.588 Q55.1588 845.352 52.381 846.903 L52.381 842.18 Q55.2051 841.046 57.6588 840.467 Q60.1124 839.889 62.1495 839.889 Q67.5198 839.889 70.7142 842.574 Q73.9087 845.259 73.9087 849.75 Q73.9087 851.879 73.0985 853.801 Q72.3115 855.699 70.205 858.291 Q69.6263 858.963 66.5245 862.18 Q63.4226 865.375 57.7745 871.138 Z\" fill=\"#000000\" fill-rule=\"nonzero\" fill-opacity=\"1\" /><path clip-path=\"url(#clip730)\" d=\"M93.9086 843.592 Q90.2975 843.592 88.4688 847.157 Q86.6632 850.699 86.6632 857.828 Q86.6632 864.935 88.4688 868.5 Q90.2975 872.041 93.9086 872.041 Q97.5428 872.041 99.3483 868.5 Q101.177 864.935 101.177 857.828 Q101.177 850.699 99.3483 847.157 Q97.5428 843.592 93.9086 843.592 M93.9086 839.889 Q99.7187 839.889 102.774 844.495 Q105.853 849.078 105.853 857.828 Q105.853 866.555 102.774 871.162 Q99.7187 875.745 93.9086 875.745 Q88.0984 875.745 85.0197 871.162 Q81.9642 866.555 81.9642 857.828 Q81.9642 849.078 85.0197 844.495 Q88.0984 839.889 93.9086 839.889 Z\" fill=\"#000000\" fill-rule=\"nonzero\" fill-opacity=\"1\" /><path clip-path=\"url(#clip730)\" d=\"M124.07 843.592 Q120.459 843.592 118.631 847.157 Q116.825 850.699 116.825 857.828 Q116.825 864.935 118.631 868.5 Q120.459 872.041 124.07 872.041 Q127.705 872.041 129.51 868.5 Q131.339 864.935 131.339 857.828 Q131.339 850.699 129.51 847.157 Q127.705 843.592 124.07 843.592 M124.07 839.889 Q129.881 839.889 132.936 844.495 Q136.015 849.078 136.015 857.828 Q136.015 866.555 132.936 871.162 Q129.881 875.745 124.07 875.745 Q118.26 875.745 115.182 871.162 Q112.126 866.555 112.126 857.828 Q112.126 849.078 115.182 844.495 Q118.26 839.889 124.07 839.889 Z\" fill=\"#000000\" fill-rule=\"nonzero\" fill-opacity=\"1\" /><path clip-path=\"url(#clip730)\" d=\"M154.232 843.592 Q150.621 843.592 148.793 847.157 Q146.987 850.699 146.987 857.828 Q146.987 864.935 148.793 868.5 Q150.621 872.041 154.232 872.041 Q157.867 872.041 159.672 868.5 Q161.501 864.935 161.501 857.828 Q161.501 850.699 159.672 847.157 Q157.867 843.592 154.232 843.592 M154.232 839.889 Q160.042 839.889 163.098 844.495 Q166.177 849.078 166.177 857.828 Q166.177 866.555 163.098 871.162 Q160.042 875.745 154.232 875.745 Q148.422 875.745 145.343 871.162 Q142.288 866.555 142.288 857.828 Q142.288 849.078 145.343 844.495 Q148.422 839.889 154.232 839.889 Z\" fill=\"#000000\" fill-rule=\"nonzero\" fill-opacity=\"1\" /><path clip-path=\"url(#clip730)\" d=\"M66.5939 641.213 L54.7884 659.662 L66.5939 659.662 L66.5939 641.213 M65.367 637.139 L71.2466 637.139 L71.2466 659.662 L76.1772 659.662 L76.1772 663.551 L71.2466 663.551 L71.2466 671.699 L66.5939 671.699 L66.5939 663.551 L50.9921 663.551 L50.9921 659.037 L65.367 637.139 Z\" fill=\"#000000\" fill-rule=\"nonzero\" fill-opacity=\"1\" /><path clip-path=\"url(#clip730)\" d=\"M93.9086 640.218 Q90.2975 640.218 88.4688 643.783 Q86.6632 647.325 86.6632 654.454 Q86.6632 661.561 88.4688 665.125 Q90.2975 668.667 93.9086 668.667 Q97.5428 668.667 99.3483 665.125 Q101.177 661.561 101.177 654.454 Q101.177 647.325 99.3483 643.783 Q97.5428 640.218 93.9086 640.218 M93.9086 636.514 Q99.7187 636.514 102.774 641.121 Q105.853 645.704 105.853 654.454 Q105.853 663.181 102.774 667.787 Q99.7187 672.371 93.9086 672.371 Q88.0984 672.371 85.0197 667.787 Q81.9642 663.181 81.9642 654.454 Q81.9642 645.704 85.0197 641.121 Q88.0984 636.514 93.9086 636.514 Z\" fill=\"#000000\" fill-rule=\"nonzero\" fill-opacity=\"1\" /><path clip-path=\"url(#clip730)\" d=\"M124.07 640.218 Q120.459 640.218 118.631 643.783 Q116.825 647.325 116.825 654.454 Q116.825 661.561 118.631 665.125 Q120.459 668.667 124.07 668.667 Q127.705 668.667 129.51 665.125 Q131.339 661.561 131.339 654.454 Q131.339 647.325 129.51 643.783 Q127.705 640.218 124.07 640.218 M124.07 636.514 Q129.881 636.514 132.936 641.121 Q136.015 645.704 136.015 654.454 Q136.015 663.181 132.936 667.787 Q129.881 672.371 124.07 672.371 Q118.26 672.371 115.182 667.787 Q112.126 663.181 112.126 654.454 Q112.126 645.704 115.182 641.121 Q118.26 636.514 124.07 636.514 Z\" fill=\"#000000\" fill-rule=\"nonzero\" fill-opacity=\"1\" /><path clip-path=\"url(#clip730)\" d=\"M154.232 640.218 Q150.621 640.218 148.793 643.783 Q146.987 647.325 146.987 654.454 Q146.987 661.561 148.793 665.125 Q150.621 668.667 154.232 668.667 Q157.867 668.667 159.672 665.125 Q161.501 661.561 161.501 654.454 Q161.501 647.325 159.672 643.783 Q157.867 640.218 154.232 640.218 M154.232 636.514 Q160.042 636.514 163.098 641.121 Q166.177 645.704 166.177 654.454 Q166.177 663.181 163.098 667.787 Q160.042 672.371 154.232 672.371 Q148.422 672.371 145.343 667.787 Q142.288 663.181 142.288 654.454 Q142.288 645.704 145.343 641.121 Q148.422 636.514 154.232 636.514 Z\" fill=\"#000000\" fill-rule=\"nonzero\" fill-opacity=\"1\" /><path clip-path=\"url(#clip730)\" d=\"M64.3254 449.182 Q61.1773 449.182 59.3254 451.335 Q57.4967 453.487 57.4967 457.237 Q57.4967 460.964 59.3254 463.14 Q61.1773 465.293 64.3254 465.293 Q67.4735 465.293 69.3022 463.14 Q71.1541 460.964 71.1541 457.237 Q71.1541 453.487 69.3022 451.335 Q67.4735 449.182 64.3254 449.182 M73.6077 434.529 L73.6077 438.788 Q71.8485 437.955 70.0429 437.515 Q68.2606 437.075 66.5013 437.075 Q61.8717 437.075 59.418 440.2 Q56.9875 443.325 56.6402 449.645 Q58.006 447.631 60.0662 446.566 Q62.1263 445.478 64.6032 445.478 Q69.8115 445.478 72.8207 448.649 Q75.8531 451.798 75.8531 457.237 Q75.8531 462.561 72.705 465.779 Q69.5568 468.997 64.3254 468.997 Q58.33 468.997 55.1588 464.413 Q51.9875 459.807 51.9875 451.08 Q51.9875 442.886 55.8764 438.024 Q59.7652 433.14 66.3161 433.14 Q68.0754 433.14 69.8578 433.487 Q71.6633 433.835 73.6077 434.529 Z\" fill=\"#000000\" fill-rule=\"nonzero\" fill-opacity=\"1\" /><path clip-path=\"url(#clip730)\" d=\"M93.9086 436.844 Q90.2975 436.844 88.4688 440.409 Q86.6632 443.95 86.6632 451.08 Q86.6632 458.186 88.4688 461.751 Q90.2975 465.293 93.9086 465.293 Q97.5428 465.293 99.3483 461.751 Q101.177 458.186 101.177 451.08 Q101.177 443.95 99.3483 440.409 Q97.5428 436.844 93.9086 436.844 M93.9086 433.14 Q99.7187 433.14 102.774 437.747 Q105.853 442.33 105.853 451.08 Q105.853 459.807 102.774 464.413 Q99.7187 468.997 93.9086 468.997 Q88.0984 468.997 85.0197 464.413 Q81.9642 459.807 81.9642 451.08 Q81.9642 442.33 85.0197 437.747 Q88.0984 433.14 93.9086 433.14 Z\" fill=\"#000000\" fill-rule=\"nonzero\" fill-opacity=\"1\" /><path clip-path=\"url(#clip730)\" d=\"M124.07 436.844 Q120.459 436.844 118.631 440.409 Q116.825 443.95 116.825 451.08 Q116.825 458.186 118.631 461.751 Q120.459 465.293 124.07 465.293 Q127.705 465.293 129.51 461.751 Q131.339 458.186 131.339 451.08 Q131.339 443.95 129.51 440.409 Q127.705 436.844 124.07 436.844 M124.07 433.14 Q129.881 433.14 132.936 437.747 Q136.015 442.33 136.015 451.08 Q136.015 459.807 132.936 464.413 Q129.881 468.997 124.07 468.997 Q118.26 468.997 115.182 464.413 Q112.126 459.807 112.126 451.08 Q112.126 442.33 115.182 437.747 Q118.26 433.14 124.07 433.14 Z\" fill=\"#000000\" fill-rule=\"nonzero\" fill-opacity=\"1\" /><path clip-path=\"url(#clip730)\" d=\"M154.232 436.844 Q150.621 436.844 148.793 440.409 Q146.987 443.95 146.987 451.08 Q146.987 458.186 148.793 461.751 Q150.621 465.293 154.232 465.293 Q157.867 465.293 159.672 461.751 Q161.501 458.186 161.501 451.08 Q161.501 443.95 159.672 440.409 Q157.867 436.844 154.232 436.844 M154.232 433.14 Q160.042 433.14 163.098 437.747 Q166.177 442.33 166.177 451.08 Q166.177 459.807 163.098 464.413 Q160.042 468.997 154.232 468.997 Q148.422 468.997 145.343 464.413 Q142.288 459.807 142.288 451.08 Q142.288 442.33 145.343 437.747 Q148.422 433.14 154.232 433.14 Z\" fill=\"#000000\" fill-rule=\"nonzero\" fill-opacity=\"1\" /><path clip-path=\"url(#clip730)\" d=\"M63.7467 248.539 Q60.4134 248.539 58.4921 250.321 Q56.5939 252.104 56.5939 255.229 Q56.5939 258.354 58.4921 260.136 Q60.4134 261.919 63.7467 261.919 Q67.08 261.919 69.0013 260.136 Q70.9226 258.331 70.9226 255.229 Q70.9226 252.104 69.0013 250.321 Q67.1032 248.539 63.7467 248.539 M59.0708 246.548 Q56.0615 245.808 54.3717 243.747 Q52.7051 241.687 52.7051 238.724 Q52.7051 234.581 55.6449 232.173 Q58.6078 229.766 63.7467 229.766 Q68.9087 229.766 71.8485 232.173 Q74.7883 234.581 74.7883 238.724 Q74.7883 241.687 73.0985 243.747 Q71.4318 245.808 68.4457 246.548 Q71.8253 247.335 73.7003 249.627 Q75.5985 251.919 75.5985 255.229 Q75.5985 260.252 72.5198 262.937 Q69.4642 265.622 63.7467 265.622 Q58.0291 265.622 54.9504 262.937 Q51.8949 260.252 51.8949 255.229 Q51.8949 251.919 53.793 249.627 Q55.6912 247.335 59.0708 246.548 M57.3578 239.164 Q57.3578 241.849 59.0245 243.354 Q60.7143 244.859 63.7467 244.859 Q66.7559 244.859 68.4457 243.354 Q70.1587 241.849 70.1587 239.164 Q70.1587 236.479 68.4457 234.974 Q66.7559 233.47 63.7467 233.47 Q60.7143 233.47 59.0245 234.974 Q57.3578 236.479 57.3578 239.164 Z\" fill=\"#000000\" fill-rule=\"nonzero\" fill-opacity=\"1\" /><path clip-path=\"url(#clip730)\" d=\"M93.9086 233.47 Q90.2975 233.47 88.4688 237.034 Q86.6632 240.576 86.6632 247.706 Q86.6632 254.812 88.4688 258.377 Q90.2975 261.919 93.9086 261.919 Q97.5428 261.919 99.3483 258.377 Q101.177 254.812 101.177 247.706 Q101.177 240.576 99.3483 237.034 Q97.5428 233.47 93.9086 233.47 M93.9086 229.766 Q99.7187 229.766 102.774 234.372 Q105.853 238.956 105.853 247.706 Q105.853 256.433 102.774 261.039 Q99.7187 265.622 93.9086 265.622 Q88.0984 265.622 85.0197 261.039 Q81.9642 256.433 81.9642 247.706 Q81.9642 238.956 85.0197 234.372 Q88.0984 229.766 93.9086 229.766 Z\" fill=\"#000000\" fill-rule=\"nonzero\" fill-opacity=\"1\" /><path clip-path=\"url(#clip730)\" d=\"M124.07 233.47 Q120.459 233.47 118.631 237.034 Q116.825 240.576 116.825 247.706 Q116.825 254.812 118.631 258.377 Q120.459 261.919 124.07 261.919 Q127.705 261.919 129.51 258.377 Q131.339 254.812 131.339 247.706 Q131.339 240.576 129.51 237.034 Q127.705 233.47 124.07 233.47 M124.07 229.766 Q129.881 229.766 132.936 234.372 Q136.015 238.956 136.015 247.706 Q136.015 256.433 132.936 261.039 Q129.881 265.622 124.07 265.622 Q118.26 265.622 115.182 261.039 Q112.126 256.433 112.126 247.706 Q112.126 238.956 115.182 234.372 Q118.26 229.766 124.07 229.766 Z\" fill=\"#000000\" fill-rule=\"nonzero\" fill-opacity=\"1\" /><path clip-path=\"url(#clip730)\" d=\"M154.232 233.47 Q150.621 233.47 148.793 237.034 Q146.987 240.576 146.987 247.706 Q146.987 254.812 148.793 258.377 Q150.621 261.919 154.232 261.919 Q157.867 261.919 159.672 258.377 Q161.501 254.812 161.501 247.706 Q161.501 240.576 159.672 237.034 Q157.867 233.47 154.232 233.47 M154.232 229.766 Q160.042 229.766 163.098 234.372 Q166.177 238.956 166.177 247.706 Q166.177 256.433 163.098 261.039 Q160.042 265.622 154.232 265.622 Q148.422 265.622 145.343 261.039 Q142.288 256.433 142.288 247.706 Q142.288 238.956 145.343 234.372 Q148.422 229.766 154.232 229.766 Z\" fill=\"#000000\" fill-rule=\"nonzero\" fill-opacity=\"1\" /><path clip-path=\"url(#clip730)\" d=\"M1035.65 17.6457 Q1026.74 17.6457 1021.47 24.2892 Q1016.24 30.9327 1016.24 42.3968 Q1016.24 53.8203 1021.47 60.4638 Q1026.74 67.1073 1035.65 67.1073 Q1044.56 67.1073 1049.74 60.4638 Q1054.97 53.8203 1054.97 42.3968 Q1054.97 30.9327 1049.74 24.2892 Q1044.56 17.6457 1035.65 17.6457 M1035.65 11.0023 Q1048.37 11.0023 1055.98 19.5497 Q1063.6 28.0566 1063.6 42.3968 Q1063.6 56.6965 1055.98 65.2439 Q1048.37 73.7508 1035.65 73.7508 Q1022.89 73.7508 1015.23 65.2439 Q1007.62 56.737 1007.62 42.3968 Q1007.62 28.0566 1015.23 19.5497 Q1022.89 11.0023 1035.65 11.0023 Z\" fill=\"#000000\" fill-rule=\"nonzero\" fill-opacity=\"1\" /><path clip-path=\"url(#clip730)\" d=\"M1108.64 49.9314 Q1108.64 41.7081 1105.24 37.0496 Q1101.88 32.3505 1095.97 32.3505 Q1090.05 32.3505 1086.65 37.0496 Q1083.29 41.7081 1083.29 49.9314 Q1083.29 58.1548 1086.65 62.8538 Q1090.05 67.5124 1095.97 67.5124 Q1101.88 67.5124 1105.24 62.8538 Q1108.64 58.1548 1108.64 49.9314 M1083.29 34.0924 Q1085.64 30.0415 1089.2 28.0971 Q1092.81 26.1121 1097.79 26.1121 Q1106.05 26.1121 1111.2 32.6746 Q1116.38 39.2371 1116.38 49.9314 Q1116.38 60.6258 1111.2 67.1883 Q1106.05 73.7508 1097.79 73.7508 Q1092.81 73.7508 1089.2 71.8063 Q1085.64 69.8214 1083.29 65.7705 L1083.29 72.576 L1075.79 72.576 L1075.79 9.54393 L1083.29 9.54393 L1083.29 34.0924 Z\" fill=\"#000000\" fill-rule=\"nonzero\" fill-opacity=\"1\" /><path clip-path=\"url(#clip730)\" d=\"M1157.66 28.5427 L1157.66 35.5912 Q1154.5 33.9709 1151.1 33.1607 Q1147.7 32.3505 1144.05 32.3505 Q1138.5 32.3505 1135.7 34.0519 Q1132.95 35.7533 1132.95 39.156 Q1132.95 41.7486 1134.94 43.2475 Q1136.92 44.7058 1142.92 46.0426 L1145.47 46.6097 Q1153.41 48.3111 1156.73 51.4303 Q1160.09 54.509 1160.09 60.0587 Q1160.09 66.3781 1155.07 70.0644 Q1150.09 73.7508 1141.34 73.7508 Q1137.69 73.7508 1133.72 73.0216 Q1129.79 72.3329 1125.42 70.9151 L1125.42 63.2184 Q1129.55 65.3654 1133.56 66.4591 Q1137.57 67.5124 1141.5 67.5124 Q1146.76 67.5124 1149.6 65.73 Q1152.44 63.9071 1152.44 60.6258 Q1152.44 57.5877 1150.37 55.9673 Q1148.34 54.3469 1141.42 52.8481 L1138.82 52.2405 Q1131.9 50.7821 1128.82 47.7845 Q1125.74 44.7463 1125.74 39.4801 Q1125.74 33.0797 1130.28 29.5959 Q1134.81 26.1121 1143.16 26.1121 Q1147.29 26.1121 1150.94 26.7198 Q1154.58 27.3274 1157.66 28.5427 Z\" fill=\"#000000\" fill-rule=\"nonzero\" fill-opacity=\"1\" /><path clip-path=\"url(#clip730)\" d=\"M1210.77 48.0275 L1210.77 51.6733 L1176.5 51.6733 Q1176.98 59.3701 1181.12 63.421 Q1185.29 67.4314 1192.7 67.4314 Q1197 67.4314 1201.01 66.3781 Q1205.06 65.3249 1209.03 63.2184 L1209.03 70.267 Q1205.02 71.9684 1200.8 72.8596 Q1196.59 73.7508 1192.26 73.7508 Q1181.4 73.7508 1175.04 67.4314 Q1168.72 61.1119 1168.72 50.3365 Q1168.72 39.1965 1174.72 32.6746 Q1180.75 26.1121 1190.96 26.1121 Q1200.11 26.1121 1205.42 32.0264 Q1210.77 37.9003 1210.77 48.0275 M1203.31 45.84 Q1203.23 39.7232 1199.87 36.0774 Q1196.55 32.4315 1191.04 32.4315 Q1184.8 32.4315 1181.03 35.9558 Q1177.31 39.4801 1176.74 45.8805 L1203.31 45.84 Z\" fill=\"#000000\" fill-rule=\"nonzero\" fill-opacity=\"1\" /><path clip-path=\"url(#clip730)\" d=\"M1249.29 34.1734 Q1248.04 33.4443 1246.54 33.1202 Q1245.08 32.7556 1243.3 32.7556 Q1236.98 32.7556 1233.57 36.8875 Q1230.21 40.9789 1230.21 48.6757 L1230.21 72.576 L1222.72 72.576 L1222.72 27.2059 L1230.21 27.2059 L1230.21 34.2544 Q1232.56 30.1225 1236.33 28.1376 Q1240.1 26.1121 1245.48 26.1121 Q1246.25 26.1121 1247.19 26.2337 Q1248.12 26.3147 1249.25 26.5172 L1249.29 34.1734 Z\" fill=\"#000000\" fill-rule=\"nonzero\" fill-opacity=\"1\" /><path clip-path=\"url(#clip730)\" d=\"M1251.76 27.2059 L1259.66 27.2059 L1273.84 65.2844 L1288.02 27.2059 L1295.92 27.2059 L1278.9 72.576 L1268.78 72.576 L1251.76 27.2059 Z\" fill=\"#000000\" fill-rule=\"nonzero\" fill-opacity=\"1\" /><path clip-path=\"url(#clip730)\" d=\"M1326.83 49.7694 Q1317.79 49.7694 1314.31 51.8354 Q1310.83 53.9013 1310.83 58.8839 Q1310.83 62.8538 1313.42 65.2034 Q1316.05 67.5124 1320.55 67.5124 Q1326.75 67.5124 1330.47 63.1374 Q1334.24 58.7219 1334.24 51.4303 L1334.24 49.7694 L1326.83 49.7694 M1341.69 46.6907 L1341.69 72.576 L1334.24 72.576 L1334.24 65.6895 Q1331.69 69.8214 1327.88 71.8063 Q1324.07 73.7508 1318.56 73.7508 Q1311.6 73.7508 1307.46 69.8619 Q1303.37 65.9325 1303.37 59.3701 Q1303.37 51.7138 1308.48 47.825 Q1313.62 43.9361 1323.79 43.9361 L1334.24 43.9361 L1334.24 43.2069 Q1334.24 38.0623 1330.84 35.2672 Q1327.47 32.4315 1321.36 32.4315 Q1317.47 32.4315 1313.78 33.3632 Q1310.1 34.295 1306.69 36.1584 L1306.69 29.2718 Q1310.78 27.692 1314.63 26.9223 Q1318.48 26.1121 1322.13 26.1121 Q1331.97 26.1121 1336.83 31.2163 Q1341.69 36.3204 1341.69 46.6907 Z\" fill=\"#000000\" fill-rule=\"nonzero\" fill-opacity=\"1\" /><path clip-path=\"url(#clip730)\" d=\"M1364.42 14.324 L1364.42 27.2059 L1379.77 27.2059 L1379.77 32.9987 L1364.42 32.9987 L1364.42 57.6282 Q1364.42 63.1779 1365.92 64.7578 Q1367.46 66.3376 1372.12 66.3376 L1379.77 66.3376 L1379.77 72.576 L1372.12 72.576 Q1363.49 72.576 1360.21 69.3758 Q1356.92 66.1351 1356.92 57.6282 L1356.92 32.9987 L1351.46 32.9987 L1351.46 27.2059 L1356.92 27.2059 L1356.92 14.324 L1364.42 14.324 Z\" fill=\"#000000\" fill-rule=\"nonzero\" fill-opacity=\"1\" /><path clip-path=\"url(#clip730)\" d=\"M1389.58 27.2059 L1397.03 27.2059 L1397.03 72.576 L1389.58 72.576 L1389.58 27.2059 M1389.58 9.54393 L1397.03 9.54393 L1397.03 18.9825 L1389.58 18.9825 L1389.58 9.54393 Z\" fill=\"#000000\" fill-rule=\"nonzero\" fill-opacity=\"1\" /><path clip-path=\"url(#clip730)\" d=\"M1430.21 32.4315 Q1424.21 32.4315 1420.73 37.1306 Q1417.24 41.7891 1417.24 49.9314 Q1417.24 58.0738 1420.69 62.7728 Q1424.17 67.4314 1430.21 67.4314 Q1436.16 67.4314 1439.64 62.7323 Q1443.13 58.0333 1443.13 49.9314 Q1443.13 41.8701 1439.64 37.1711 Q1436.16 32.4315 1430.21 32.4315 M1430.21 26.1121 Q1439.93 26.1121 1445.48 32.4315 Q1451.03 38.7509 1451.03 49.9314 Q1451.03 61.0714 1445.48 67.4314 Q1439.93 73.7508 1430.21 73.7508 Q1420.44 73.7508 1414.89 67.4314 Q1409.38 61.0714 1409.38 49.9314 Q1409.38 38.7509 1414.89 32.4315 Q1420.44 26.1121 1430.21 26.1121 Z\" fill=\"#000000\" fill-rule=\"nonzero\" fill-opacity=\"1\" /><path clip-path=\"url(#clip730)\" d=\"M1501.1 45.1919 L1501.1 72.576 L1493.64 72.576 L1493.64 45.4349 Q1493.64 38.994 1491.13 35.7938 Q1488.62 32.5936 1483.6 32.5936 Q1477.56 32.5936 1474.08 36.4419 Q1470.59 40.2903 1470.59 46.9338 L1470.59 72.576 L1463.1 72.576 L1463.1 27.2059 L1470.59 27.2059 L1470.59 34.2544 Q1473.27 30.163 1476.87 28.1376 Q1480.52 26.1121 1485.26 26.1121 Q1493.08 26.1121 1497.09 30.9732 Q1501.1 35.7938 1501.1 45.1919 Z\" fill=\"#000000\" fill-rule=\"nonzero\" fill-opacity=\"1\" /><path clip-path=\"url(#clip730)\" d=\"M1544.89 28.5427 L1544.89 35.5912 Q1541.73 33.9709 1538.32 33.1607 Q1534.92 32.3505 1531.28 32.3505 Q1525.73 32.3505 1522.93 34.0519 Q1520.18 35.7533 1520.18 39.156 Q1520.18 41.7486 1522.16 43.2475 Q1524.15 44.7058 1530.14 46.0426 L1532.69 46.6097 Q1540.63 48.3111 1543.96 51.4303 Q1547.32 54.509 1547.32 60.0587 Q1547.32 66.3781 1542.29 70.0644 Q1537.31 73.7508 1528.56 73.7508 Q1524.92 73.7508 1520.95 73.0216 Q1517.02 72.3329 1512.64 70.9151 L1512.64 63.2184 Q1516.77 65.3654 1520.78 66.4591 Q1524.79 67.5124 1528.72 67.5124 Q1533.99 67.5124 1536.83 65.73 Q1539.66 63.9071 1539.66 60.6258 Q1539.66 57.5877 1537.6 55.9673 Q1535.57 54.3469 1528.64 52.8481 L1526.05 52.2405 Q1519.12 50.7821 1516.04 47.7845 Q1512.97 44.7463 1512.97 39.4801 Q1512.97 33.0797 1517.5 29.5959 Q1522.04 26.1121 1530.38 26.1121 Q1534.52 26.1121 1538.16 26.7198 Q1541.81 27.3274 1544.89 28.5427 Z\" fill=\"#000000\" fill-rule=\"nonzero\" fill-opacity=\"1\" /><path clip-path=\"url(#clip732)\" d=\"M320.462 1061.17 L320.462 1061.17 L368.313 1061.17 L368.313 1061.17 L320.462 1061.17 L320.462 1061.17  Z\" fill=\"#e26f46\" fill-rule=\"evenodd\" fill-opacity=\"0.5\"/>\n<polyline clip-path=\"url(#clip732)\" style=\"stroke:#000000; stroke-linecap:round; stroke-linejoin:round; stroke-width:4; stroke-opacity:0.5; fill:none\" points=\"320.462,1061.17 320.462,1061.17 368.313,1061.17 320.462,1061.17 \"/>\n<path clip-path=\"url(#clip732)\" d=\"M368.313 1061.07 L368.313 1061.17 L416.163 1061.17 L416.163 1061.07 L368.313 1061.07 L368.313 1061.07  Z\" fill=\"#e26f46\" fill-rule=\"evenodd\" fill-opacity=\"0.5\"/>\n<polyline clip-path=\"url(#clip732)\" style=\"stroke:#000000; stroke-linecap:round; stroke-linejoin:round; stroke-width:4; stroke-opacity:0.5; fill:none\" points=\"368.313,1061.07 368.313,1061.17 416.163,1061.17 416.163,1061.07 368.313,1061.07 \"/>\n<path clip-path=\"url(#clip732)\" d=\"M416.163 1060.86 L416.163 1061.17 L464.013 1061.17 L464.013 1060.86 L416.163 1060.86 L416.163 1060.86  Z\" fill=\"#e26f46\" fill-rule=\"evenodd\" fill-opacity=\"0.5\"/>\n<polyline clip-path=\"url(#clip732)\" style=\"stroke:#000000; stroke-linecap:round; stroke-linejoin:round; stroke-width:4; stroke-opacity:0.5; fill:none\" points=\"416.163,1060.86 416.163,1061.17 464.013,1061.17 464.013,1060.86 416.163,1060.86 \"/>\n<path clip-path=\"url(#clip732)\" d=\"M464.013 1060.56 L464.013 1061.17 L511.863 1061.17 L511.863 1060.56 L464.013 1060.56 L464.013 1060.56  Z\" fill=\"#e26f46\" fill-rule=\"evenodd\" fill-opacity=\"0.5\"/>\n<polyline clip-path=\"url(#clip732)\" style=\"stroke:#000000; stroke-linecap:round; stroke-linejoin:round; stroke-width:4; stroke-opacity:0.5; fill:none\" points=\"464.013,1060.56 464.013,1061.17 511.863,1061.17 511.863,1060.56 464.013,1060.56 \"/>\n<path clip-path=\"url(#clip732)\" d=\"M511.863 1059.03 L511.863 1061.17 L559.713 1061.17 L559.713 1059.03 L511.863 1059.03 L511.863 1059.03  Z\" fill=\"#e26f46\" fill-rule=\"evenodd\" fill-opacity=\"0.5\"/>\n<polyline clip-path=\"url(#clip732)\" style=\"stroke:#000000; stroke-linecap:round; stroke-linejoin:round; stroke-width:4; stroke-opacity:0.5; fill:none\" points=\"511.863,1059.03 511.863,1061.17 559.713,1061.17 559.713,1059.03 511.863,1059.03 \"/>\n<path clip-path=\"url(#clip732)\" d=\"M559.713 1058.02 L559.713 1061.17 L607.564 1061.17 L607.564 1058.02 L559.713 1058.02 L559.713 1058.02  Z\" fill=\"#e26f46\" fill-rule=\"evenodd\" fill-opacity=\"0.5\"/>\n<polyline clip-path=\"url(#clip732)\" style=\"stroke:#000000; stroke-linecap:round; stroke-linejoin:round; stroke-width:4; stroke-opacity:0.5; fill:none\" points=\"559.713,1058.02 559.713,1061.17 607.564,1061.17 607.564,1058.02 559.713,1058.02 \"/>\n<path clip-path=\"url(#clip732)\" d=\"M607.564 1051.2 L607.564 1061.17 L655.414 1061.17 L655.414 1051.2 L607.564 1051.2 L607.564 1051.2  Z\" fill=\"#e26f46\" fill-rule=\"evenodd\" fill-opacity=\"0.5\"/>\n<polyline clip-path=\"url(#clip732)\" style=\"stroke:#000000; stroke-linecap:round; stroke-linejoin:round; stroke-width:4; stroke-opacity:0.5; fill:none\" points=\"607.564,1051.2 607.564,1061.17 655.414,1061.17 655.414,1051.2 607.564,1051.2 \"/>\n<path clip-path=\"url(#clip732)\" d=\"M655.414 1043.78 L655.414 1061.17 L703.264 1061.17 L703.264 1043.78 L655.414 1043.78 L655.414 1043.78  Z\" fill=\"#e26f46\" fill-rule=\"evenodd\" fill-opacity=\"0.5\"/>\n<polyline clip-path=\"url(#clip732)\" style=\"stroke:#000000; stroke-linecap:round; stroke-linejoin:round; stroke-width:4; stroke-opacity:0.5; fill:none\" points=\"655.414,1043.78 655.414,1061.17 703.264,1061.17 703.264,1043.78 655.414,1043.78 \"/>\n<path clip-path=\"url(#clip732)\" d=\"M703.264 1030.25 L703.264 1061.17 L751.114 1061.17 L751.114 1030.25 L703.264 1030.25 L703.264 1030.25  Z\" fill=\"#e26f46\" fill-rule=\"evenodd\" fill-opacity=\"0.5\"/>\n<polyline clip-path=\"url(#clip732)\" style=\"stroke:#000000; stroke-linecap:round; stroke-linejoin:round; stroke-width:4; stroke-opacity:0.5; fill:none\" points=\"703.264,1030.25 703.264,1061.17 751.114,1061.17 751.114,1030.25 703.264,1030.25 \"/>\n<path clip-path=\"url(#clip732)\" d=\"M751.114 1002.9 L751.114 1061.17 L798.964 1061.17 L798.964 1002.9 L751.114 1002.9 L751.114 1002.9  Z\" fill=\"#e26f46\" fill-rule=\"evenodd\" fill-opacity=\"0.5\"/>\n<polyline clip-path=\"url(#clip732)\" style=\"stroke:#000000; stroke-linecap:round; stroke-linejoin:round; stroke-width:4; stroke-opacity:0.5; fill:none\" points=\"751.114,1002.9 751.114,1061.17 798.964,1061.17 798.964,1002.9 751.114,1002.9 \"/>\n<path clip-path=\"url(#clip732)\" d=\"M798.964 959.379 L798.964 1061.17 L846.815 1061.17 L846.815 959.379 L798.964 959.379 L798.964 959.379  Z\" fill=\"#e26f46\" fill-rule=\"evenodd\" fill-opacity=\"0.5\"/>\n<polyline clip-path=\"url(#clip732)\" style=\"stroke:#000000; stroke-linecap:round; stroke-linejoin:round; stroke-width:4; stroke-opacity:0.5; fill:none\" points=\"798.964,959.379 798.964,1061.17 846.815,1061.17 846.815,959.379 798.964,959.379 \"/>\n<path clip-path=\"url(#clip732)\" d=\"M846.815 911.383 L846.815 1061.17 L894.665 1061.17 L894.665 911.383 L846.815 911.383 L846.815 911.383  Z\" fill=\"#e26f46\" fill-rule=\"evenodd\" fill-opacity=\"0.5\"/>\n<polyline clip-path=\"url(#clip732)\" style=\"stroke:#000000; stroke-linecap:round; stroke-linejoin:round; stroke-width:4; stroke-opacity:0.5; fill:none\" points=\"846.815,911.383 846.815,1061.17 894.665,1061.17 894.665,911.383 846.815,911.383 \"/>\n<path clip-path=\"url(#clip732)\" d=\"M894.665 833.999 L894.665 1061.17 L942.515 1061.17 L942.515 833.999 L894.665 833.999 L894.665 833.999  Z\" fill=\"#e26f46\" fill-rule=\"evenodd\" fill-opacity=\"0.5\"/>\n<polyline clip-path=\"url(#clip732)\" style=\"stroke:#000000; stroke-linecap:round; stroke-linejoin:round; stroke-width:4; stroke-opacity:0.5; fill:none\" points=\"894.665,833.999 894.665,1061.17 942.515,1061.17 942.515,833.999 894.665,833.999 \"/>\n<path clip-path=\"url(#clip732)\" d=\"M942.515 753.564 L942.515 1061.17 L990.365 1061.17 L990.365 753.564 L942.515 753.564 L942.515 753.564  Z\" fill=\"#e26f46\" fill-rule=\"evenodd\" fill-opacity=\"0.5\"/>\n<polyline clip-path=\"url(#clip732)\" style=\"stroke:#000000; stroke-linecap:round; stroke-linejoin:round; stroke-width:4; stroke-opacity:0.5; fill:none\" points=\"942.515,753.564 942.515,1061.17 990.365,1061.17 990.365,753.564 942.515,753.564 \"/>\n<path clip-path=\"url(#clip732)\" d=\"M990.365 626.761 L990.365 1061.17 L1038.22 1061.17 L1038.22 626.761 L990.365 626.761 L990.365 626.761  Z\" fill=\"#e26f46\" fill-rule=\"evenodd\" fill-opacity=\"0.5\"/>\n<polyline clip-path=\"url(#clip732)\" style=\"stroke:#000000; stroke-linecap:round; stroke-linejoin:round; stroke-width:4; stroke-opacity:0.5; fill:none\" points=\"990.365,626.761 990.365,1061.17 1038.22,1061.17 1038.22,626.761 990.365,626.761 \"/>\n<path clip-path=\"url(#clip732)\" d=\"M1038.22 526.395 L1038.22 1061.17 L1086.07 1061.17 L1086.07 526.395 L1038.22 526.395 L1038.22 526.395  Z\" fill=\"#e26f46\" fill-rule=\"evenodd\" fill-opacity=\"0.5\"/>\n<polyline clip-path=\"url(#clip732)\" style=\"stroke:#000000; stroke-linecap:round; stroke-linejoin:round; stroke-width:4; stroke-opacity:0.5; fill:none\" points=\"1038.22,526.395 1038.22,1061.17 1086.07,1061.17 1086.07,526.395 1038.22,526.395 \"/>\n<path clip-path=\"url(#clip732)\" d=\"M1086.07 402.235 L1086.07 1061.17 L1133.92 1061.17 L1133.92 402.235 L1086.07 402.235 L1086.07 402.235  Z\" fill=\"#e26f46\" fill-rule=\"evenodd\" fill-opacity=\"0.5\"/>\n<polyline clip-path=\"url(#clip732)\" style=\"stroke:#000000; stroke-linecap:round; stroke-linejoin:round; stroke-width:4; stroke-opacity:0.5; fill:none\" points=\"1086.07,402.235 1086.07,1061.17 1133.92,1061.17 1133.92,402.235 1086.07,402.235 \"/>\n<path clip-path=\"url(#clip732)\" d=\"M1133.92 282.956 L1133.92 1061.17 L1181.77 1061.17 L1181.77 282.956 L1133.92 282.956 L1133.92 282.956  Z\" fill=\"#e26f46\" fill-rule=\"evenodd\" fill-opacity=\"0.5\"/>\n<polyline clip-path=\"url(#clip732)\" style=\"stroke:#000000; stroke-linecap:round; stroke-linejoin:round; stroke-width:4; stroke-opacity:0.5; fill:none\" points=\"1133.92,282.956 1133.92,1061.17 1181.77,1061.17 1181.77,282.956 1133.92,282.956 \"/>\n<path clip-path=\"url(#clip732)\" d=\"M1181.77 211.979 L1181.77 1061.17 L1229.62 1061.17 L1229.62 211.979 L1181.77 211.979 L1181.77 211.979  Z\" fill=\"#e26f46\" fill-rule=\"evenodd\" fill-opacity=\"0.5\"/>\n<polyline clip-path=\"url(#clip732)\" style=\"stroke:#000000; stroke-linecap:round; stroke-linejoin:round; stroke-width:4; stroke-opacity:0.5; fill:none\" points=\"1181.77,211.979 1181.77,1061.17 1229.62,1061.17 1229.62,211.979 1181.77,211.979 \"/>\n<path clip-path=\"url(#clip732)\" d=\"M1229.62 166.931 L1229.62 1061.17 L1277.47 1061.17 L1277.47 166.931 L1229.62 166.931 L1229.62 166.931  Z\" fill=\"#e26f46\" fill-rule=\"evenodd\" fill-opacity=\"0.5\"/>\n<polyline clip-path=\"url(#clip732)\" style=\"stroke:#000000; stroke-linecap:round; stroke-linejoin:round; stroke-width:4; stroke-opacity:0.5; fill:none\" points=\"1229.62,166.931 1229.62,1061.17 1277.47,1061.17 1277.47,166.931 1229.62,166.931 \"/>\n<path clip-path=\"url(#clip732)\" d=\"M1277.47 153.712 L1277.47 1061.17 L1325.32 1061.17 L1325.32 153.712 L1277.47 153.712 L1277.47 153.712  Z\" fill=\"#e26f46\" fill-rule=\"evenodd\" fill-opacity=\"0.5\"/>\n<polyline clip-path=\"url(#clip732)\" style=\"stroke:#000000; stroke-linecap:round; stroke-linejoin:round; stroke-width:4; stroke-opacity:0.5; fill:none\" points=\"1277.47,153.712 1277.47,1061.17 1325.32,1061.17 1325.32,153.712 1277.47,153.712 \"/>\n<path clip-path=\"url(#clip732)\" d=\"M1325.32 217.978 L1325.32 1061.17 L1373.17 1061.17 L1373.17 217.978 L1325.32 217.978 L1325.32 217.978  Z\" fill=\"#e26f46\" fill-rule=\"evenodd\" fill-opacity=\"0.5\"/>\n<polyline clip-path=\"url(#clip732)\" style=\"stroke:#000000; stroke-linecap:round; stroke-linejoin:round; stroke-width:4; stroke-opacity:0.5; fill:none\" points=\"1325.32,217.978 1325.32,1061.17 1373.17,1061.17 1373.17,217.978 1325.32,217.978 \"/>\n<path clip-path=\"url(#clip732)\" d=\"M1373.17 275.533 L1373.17 1061.17 L1421.02 1061.17 L1421.02 275.533 L1373.17 275.533 L1373.17 275.533  Z\" fill=\"#e26f46\" fill-rule=\"evenodd\" fill-opacity=\"0.5\"/>\n<polyline clip-path=\"url(#clip732)\" style=\"stroke:#000000; stroke-linecap:round; stroke-linejoin:round; stroke-width:4; stroke-opacity:0.5; fill:none\" points=\"1373.17,275.533 1373.17,1061.17 1421.02,1061.17 1421.02,275.533 1373.17,275.533 \"/>\n<path clip-path=\"url(#clip732)\" d=\"M1421.02 390.338 L1421.02 1061.17 L1468.87 1061.17 L1468.87 390.338 L1421.02 390.338 L1421.02 390.338  Z\" fill=\"#e26f46\" fill-rule=\"evenodd\" fill-opacity=\"0.5\"/>\n<polyline clip-path=\"url(#clip732)\" style=\"stroke:#000000; stroke-linecap:round; stroke-linejoin:round; stroke-width:4; stroke-opacity:0.5; fill:none\" points=\"1421.02,390.338 1421.02,1061.17 1468.87,1061.17 1468.87,390.338 1421.02,390.338 \"/>\n<path clip-path=\"url(#clip732)\" d=\"M1468.87 514.091 L1468.87 1061.17 L1516.72 1061.17 L1516.72 514.091 L1468.87 514.091 L1468.87 514.091  Z\" fill=\"#e26f46\" fill-rule=\"evenodd\" fill-opacity=\"0.5\"/>\n<polyline clip-path=\"url(#clip732)\" style=\"stroke:#000000; stroke-linecap:round; stroke-linejoin:round; stroke-width:4; stroke-opacity:0.5; fill:none\" points=\"1468.87,514.091 1468.87,1061.17 1516.72,1061.17 1516.72,514.091 1468.87,514.091 \"/>\n<path clip-path=\"url(#clip732)\" d=\"M1516.72 633.675 L1516.72 1061.17 L1564.57 1061.17 L1564.57 633.675 L1516.72 633.675 L1516.72 633.675  Z\" fill=\"#e26f46\" fill-rule=\"evenodd\" fill-opacity=\"0.5\"/>\n<polyline clip-path=\"url(#clip732)\" style=\"stroke:#000000; stroke-linecap:round; stroke-linejoin:round; stroke-width:4; stroke-opacity:0.5; fill:none\" points=\"1516.72,633.675 1516.72,1061.17 1564.57,1061.17 1564.57,633.675 1516.72,633.675 \"/>\n<path clip-path=\"url(#clip732)\" d=\"M1564.57 736.684 L1564.57 1061.17 L1612.42 1061.17 L1612.42 736.684 L1564.57 736.684 L1564.57 736.684  Z\" fill=\"#e26f46\" fill-rule=\"evenodd\" fill-opacity=\"0.5\"/>\n<polyline clip-path=\"url(#clip732)\" style=\"stroke:#000000; stroke-linecap:round; stroke-linejoin:round; stroke-width:4; stroke-opacity:0.5; fill:none\" points=\"1564.57,736.684 1564.57,1061.17 1612.42,1061.17 1612.42,736.684 1564.57,736.684 \"/>\n<path clip-path=\"url(#clip732)\" d=\"M1612.42 837.049 L1612.42 1061.17 L1660.27 1061.17 L1660.27 837.049 L1612.42 837.049 L1612.42 837.049  Z\" fill=\"#e26f46\" fill-rule=\"evenodd\" fill-opacity=\"0.5\"/>\n<polyline clip-path=\"url(#clip732)\" style=\"stroke:#000000; stroke-linecap:round; stroke-linejoin:round; stroke-width:4; stroke-opacity:0.5; fill:none\" points=\"1612.42,837.049 1612.42,1061.17 1660.27,1061.17 1660.27,837.049 1612.42,837.049 \"/>\n<path clip-path=\"url(#clip732)\" d=\"M1660.27 911.688 L1660.27 1061.17 L1708.12 1061.17 L1708.12 911.688 L1660.27 911.688 L1660.27 911.688  Z\" fill=\"#e26f46\" fill-rule=\"evenodd\" fill-opacity=\"0.5\"/>\n<polyline clip-path=\"url(#clip732)\" style=\"stroke:#000000; stroke-linecap:round; stroke-linejoin:round; stroke-width:4; stroke-opacity:0.5; fill:none\" points=\"1660.27,911.688 1660.27,1061.17 1708.12,1061.17 1708.12,911.688 1660.27,911.688 \"/>\n<path clip-path=\"url(#clip732)\" d=\"M1708.12 967.107 L1708.12 1061.17 L1755.97 1061.17 L1755.97 967.107 L1708.12 967.107 L1708.12 967.107  Z\" fill=\"#e26f46\" fill-rule=\"evenodd\" fill-opacity=\"0.5\"/>\n<polyline clip-path=\"url(#clip732)\" style=\"stroke:#000000; stroke-linecap:round; stroke-linejoin:round; stroke-width:4; stroke-opacity:0.5; fill:none\" points=\"1708.12,967.107 1708.12,1061.17 1755.97,1061.17 1755.97,967.107 1708.12,967.107 \"/>\n<path clip-path=\"url(#clip732)\" d=\"M1755.97 999.24 L1755.97 1061.17 L1803.82 1061.17 L1803.82 999.24 L1755.97 999.24 L1755.97 999.24  Z\" fill=\"#e26f46\" fill-rule=\"evenodd\" fill-opacity=\"0.5\"/>\n<polyline clip-path=\"url(#clip732)\" style=\"stroke:#000000; stroke-linecap:round; stroke-linejoin:round; stroke-width:4; stroke-opacity:0.5; fill:none\" points=\"1755.97,999.24 1755.97,1061.17 1803.82,1061.17 1803.82,999.24 1755.97,999.24 \"/>\n<path clip-path=\"url(#clip732)\" d=\"M1803.82 1028.32 L1803.82 1061.17 L1851.67 1061.17 L1851.67 1028.32 L1803.82 1028.32 L1803.82 1028.32  Z\" fill=\"#e26f46\" fill-rule=\"evenodd\" fill-opacity=\"0.5\"/>\n<polyline clip-path=\"url(#clip732)\" style=\"stroke:#000000; stroke-linecap:round; stroke-linejoin:round; stroke-width:4; stroke-opacity:0.5; fill:none\" points=\"1803.82,1028.32 1803.82,1061.17 1851.67,1061.17 1851.67,1028.32 1803.82,1028.32 \"/>\n<path clip-path=\"url(#clip732)\" d=\"M1851.67 1041.14 L1851.67 1061.17 L1899.52 1061.17 L1899.52 1041.14 L1851.67 1041.14 L1851.67 1041.14  Z\" fill=\"#e26f46\" fill-rule=\"evenodd\" fill-opacity=\"0.5\"/>\n<polyline clip-path=\"url(#clip732)\" style=\"stroke:#000000; stroke-linecap:round; stroke-linejoin:round; stroke-width:4; stroke-opacity:0.5; fill:none\" points=\"1851.67,1041.14 1851.67,1061.17 1899.52,1061.17 1899.52,1041.14 1851.67,1041.14 \"/>\n<path clip-path=\"url(#clip732)\" d=\"M1899.52 1049.27 L1899.52 1061.17 L1947.37 1061.17 L1947.37 1049.27 L1899.52 1049.27 L1899.52 1049.27  Z\" fill=\"#e26f46\" fill-rule=\"evenodd\" fill-opacity=\"0.5\"/>\n<polyline clip-path=\"url(#clip732)\" style=\"stroke:#000000; stroke-linecap:round; stroke-linejoin:round; stroke-width:4; stroke-opacity:0.5; fill:none\" points=\"1899.52,1049.27 1899.52,1061.17 1947.37,1061.17 1947.37,1049.27 1899.52,1049.27 \"/>\n<path clip-path=\"url(#clip732)\" d=\"M1947.37 1056.08 L1947.37 1061.17 L1995.22 1061.17 L1995.22 1056.08 L1947.37 1056.08 L1947.37 1056.08  Z\" fill=\"#e26f46\" fill-rule=\"evenodd\" fill-opacity=\"0.5\"/>\n<polyline clip-path=\"url(#clip732)\" style=\"stroke:#000000; stroke-linecap:round; stroke-linejoin:round; stroke-width:4; stroke-opacity:0.5; fill:none\" points=\"1947.37,1056.08 1947.37,1061.17 1995.22,1061.17 1995.22,1056.08 1947.37,1056.08 \"/>\n<path clip-path=\"url(#clip732)\" d=\"M1995.22 1058.52 L1995.22 1061.17 L2043.07 1061.17 L2043.07 1058.52 L1995.22 1058.52 L1995.22 1058.52  Z\" fill=\"#e26f46\" fill-rule=\"evenodd\" fill-opacity=\"0.5\"/>\n<polyline clip-path=\"url(#clip732)\" style=\"stroke:#000000; stroke-linecap:round; stroke-linejoin:round; stroke-width:4; stroke-opacity:0.5; fill:none\" points=\"1995.22,1058.52 1995.22,1061.17 2043.07,1061.17 2043.07,1058.52 1995.22,1058.52 \"/>\n<path clip-path=\"url(#clip732)\" d=\"M2043.07 1060.05 L2043.07 1061.17 L2090.92 1061.17 L2090.92 1060.05 L2043.07 1060.05 L2043.07 1060.05  Z\" fill=\"#e26f46\" fill-rule=\"evenodd\" fill-opacity=\"0.5\"/>\n<polyline clip-path=\"url(#clip732)\" style=\"stroke:#000000; stroke-linecap:round; stroke-linejoin:round; stroke-width:4; stroke-opacity:0.5; fill:none\" points=\"2043.07,1060.05 2043.07,1061.17 2090.92,1061.17 2090.92,1060.05 2043.07,1060.05 \"/>\n<path clip-path=\"url(#clip732)\" d=\"M2090.92 1060.86 L2090.92 1061.17 L2138.77 1061.17 L2138.77 1060.86 L2090.92 1060.86 L2090.92 1060.86  Z\" fill=\"#e26f46\" fill-rule=\"evenodd\" fill-opacity=\"0.5\"/>\n<polyline clip-path=\"url(#clip732)\" style=\"stroke:#000000; stroke-linecap:round; stroke-linejoin:round; stroke-width:4; stroke-opacity:0.5; fill:none\" points=\"2090.92,1060.86 2090.92,1061.17 2138.77,1061.17 2138.77,1060.86 2090.92,1060.86 \"/>\n<path clip-path=\"url(#clip732)\" d=\"M2138.77 1061.17 L2138.77 1061.17 L2186.62 1061.17 L2186.62 1061.17 L2138.77 1061.17 L2138.77 1061.17  Z\" fill=\"#e26f46\" fill-rule=\"evenodd\" fill-opacity=\"0.5\"/>\n<polyline clip-path=\"url(#clip732)\" style=\"stroke:#000000; stroke-linecap:round; stroke-linejoin:round; stroke-width:4; stroke-opacity:0.5; fill:none\" points=\"2138.77,1061.17 2138.77,1061.17 2186.62,1061.17 2138.77,1061.17 \"/>\n<path clip-path=\"url(#clip732)\" d=\"M2186.62 1061.07 L2186.62 1061.17 L2234.47 1061.17 L2234.47 1061.07 L2186.62 1061.07 L2186.62 1061.07  Z\" fill=\"#e26f46\" fill-rule=\"evenodd\" fill-opacity=\"0.5\"/>\n<polyline clip-path=\"url(#clip732)\" style=\"stroke:#000000; stroke-linecap:round; stroke-linejoin:round; stroke-width:4; stroke-opacity:0.5; fill:none\" points=\"2186.62,1061.07 2186.62,1061.17 2234.47,1061.17 2234.47,1061.07 2186.62,1061.07 \"/>\n<circle clip-path=\"url(#clip732)\" style=\"fill:#e26f46; stroke:none; fill-opacity:0\" cx=\"344.387\" cy=\"1061.17\" r=\"2\"/>\n<circle clip-path=\"url(#clip732)\" style=\"fill:#e26f46; stroke:none; fill-opacity:0\" cx=\"392.238\" cy=\"1061.07\" r=\"2\"/>\n<circle clip-path=\"url(#clip732)\" style=\"fill:#e26f46; stroke:none; fill-opacity:0\" cx=\"440.088\" cy=\"1060.86\" r=\"2\"/>\n<circle clip-path=\"url(#clip732)\" style=\"fill:#e26f46; stroke:none; fill-opacity:0\" cx=\"487.938\" cy=\"1060.56\" r=\"2\"/>\n<circle clip-path=\"url(#clip732)\" style=\"fill:#e26f46; stroke:none; fill-opacity:0\" cx=\"535.788\" cy=\"1059.03\" r=\"2\"/>\n<circle clip-path=\"url(#clip732)\" style=\"fill:#e26f46; stroke:none; fill-opacity:0\" cx=\"583.638\" cy=\"1058.02\" r=\"2\"/>\n<circle clip-path=\"url(#clip732)\" style=\"fill:#e26f46; stroke:none; fill-opacity:0\" cx=\"631.489\" cy=\"1051.2\" r=\"2\"/>\n<circle clip-path=\"url(#clip732)\" style=\"fill:#e26f46; stroke:none; fill-opacity:0\" cx=\"679.339\" cy=\"1043.78\" r=\"2\"/>\n<circle clip-path=\"url(#clip732)\" style=\"fill:#e26f46; stroke:none; fill-opacity:0\" cx=\"727.189\" cy=\"1030.25\" r=\"2\"/>\n<circle clip-path=\"url(#clip732)\" style=\"fill:#e26f46; stroke:none; fill-opacity:0\" cx=\"775.039\" cy=\"1002.9\" r=\"2\"/>\n<circle clip-path=\"url(#clip732)\" style=\"fill:#e26f46; stroke:none; fill-opacity:0\" cx=\"822.889\" cy=\"959.379\" r=\"2\"/>\n<circle clip-path=\"url(#clip732)\" style=\"fill:#e26f46; stroke:none; fill-opacity:0\" cx=\"870.74\" cy=\"911.383\" r=\"2\"/>\n<circle clip-path=\"url(#clip732)\" style=\"fill:#e26f46; stroke:none; fill-opacity:0\" cx=\"918.59\" cy=\"833.999\" r=\"2\"/>\n<circle clip-path=\"url(#clip732)\" style=\"fill:#e26f46; stroke:none; fill-opacity:0\" cx=\"966.44\" cy=\"753.564\" r=\"2\"/>\n<circle clip-path=\"url(#clip732)\" style=\"fill:#e26f46; stroke:none; fill-opacity:0\" cx=\"1014.29\" cy=\"626.761\" r=\"2\"/>\n<circle clip-path=\"url(#clip732)\" style=\"fill:#e26f46; stroke:none; fill-opacity:0\" cx=\"1062.14\" cy=\"526.395\" r=\"2\"/>\n<circle clip-path=\"url(#clip732)\" style=\"fill:#e26f46; stroke:none; fill-opacity:0\" cx=\"1109.99\" cy=\"402.235\" r=\"2\"/>\n<circle clip-path=\"url(#clip732)\" style=\"fill:#e26f46; stroke:none; fill-opacity:0\" cx=\"1157.84\" cy=\"282.956\" r=\"2\"/>\n<circle clip-path=\"url(#clip732)\" style=\"fill:#e26f46; stroke:none; fill-opacity:0\" cx=\"1205.69\" cy=\"211.979\" r=\"2\"/>\n<circle clip-path=\"url(#clip732)\" style=\"fill:#e26f46; stroke:none; fill-opacity:0\" cx=\"1253.54\" cy=\"166.931\" r=\"2\"/>\n<circle clip-path=\"url(#clip732)\" style=\"fill:#e26f46; stroke:none; fill-opacity:0\" cx=\"1301.39\" cy=\"153.712\" r=\"2\"/>\n<circle clip-path=\"url(#clip732)\" style=\"fill:#e26f46; stroke:none; fill-opacity:0\" cx=\"1349.24\" cy=\"217.978\" r=\"2\"/>\n<circle clip-path=\"url(#clip732)\" style=\"fill:#e26f46; stroke:none; fill-opacity:0\" cx=\"1397.09\" cy=\"275.533\" r=\"2\"/>\n<circle clip-path=\"url(#clip732)\" style=\"fill:#e26f46; stroke:none; fill-opacity:0\" cx=\"1444.94\" cy=\"390.338\" r=\"2\"/>\n<circle clip-path=\"url(#clip732)\" style=\"fill:#e26f46; stroke:none; fill-opacity:0\" cx=\"1492.79\" cy=\"514.091\" r=\"2\"/>\n<circle clip-path=\"url(#clip732)\" style=\"fill:#e26f46; stroke:none; fill-opacity:0\" cx=\"1540.64\" cy=\"633.675\" r=\"2\"/>\n<circle clip-path=\"url(#clip732)\" style=\"fill:#e26f46; stroke:none; fill-opacity:0\" cx=\"1588.49\" cy=\"736.684\" r=\"2\"/>\n<circle clip-path=\"url(#clip732)\" style=\"fill:#e26f46; stroke:none; fill-opacity:0\" cx=\"1636.34\" cy=\"837.049\" r=\"2\"/>\n<circle clip-path=\"url(#clip732)\" style=\"fill:#e26f46; stroke:none; fill-opacity:0\" cx=\"1684.19\" cy=\"911.688\" r=\"2\"/>\n<circle clip-path=\"url(#clip732)\" style=\"fill:#e26f46; stroke:none; fill-opacity:0\" cx=\"1732.04\" cy=\"967.107\" r=\"2\"/>\n<circle clip-path=\"url(#clip732)\" style=\"fill:#e26f46; stroke:none; fill-opacity:0\" cx=\"1779.89\" cy=\"999.24\" r=\"2\"/>\n<circle clip-path=\"url(#clip732)\" style=\"fill:#e26f46; stroke:none; fill-opacity:0\" cx=\"1827.74\" cy=\"1028.32\" r=\"2\"/>\n<circle clip-path=\"url(#clip732)\" style=\"fill:#e26f46; stroke:none; fill-opacity:0\" cx=\"1875.59\" cy=\"1041.14\" r=\"2\"/>\n<circle clip-path=\"url(#clip732)\" style=\"fill:#e26f46; stroke:none; fill-opacity:0\" cx=\"1923.44\" cy=\"1049.27\" r=\"2\"/>\n<circle clip-path=\"url(#clip732)\" style=\"fill:#e26f46; stroke:none; fill-opacity:0\" cx=\"1971.29\" cy=\"1056.08\" r=\"2\"/>\n<circle clip-path=\"url(#clip732)\" style=\"fill:#e26f46; stroke:none; fill-opacity:0\" cx=\"2019.14\" cy=\"1058.52\" r=\"2\"/>\n<circle clip-path=\"url(#clip732)\" style=\"fill:#e26f46; stroke:none; fill-opacity:0\" cx=\"2066.99\" cy=\"1060.05\" r=\"2\"/>\n<circle clip-path=\"url(#clip732)\" style=\"fill:#e26f46; stroke:none; fill-opacity:0\" cx=\"2114.84\" cy=\"1060.86\" r=\"2\"/>\n<circle clip-path=\"url(#clip732)\" style=\"fill:#e26f46; stroke:none; fill-opacity:0\" cx=\"2162.69\" cy=\"1061.17\" r=\"2\"/>\n<circle clip-path=\"url(#clip732)\" style=\"fill:#e26f46; stroke:none; fill-opacity:0\" cx=\"2210.55\" cy=\"1061.07\" r=\"2\"/>\n<path clip-path=\"url(#clip730)\" d=\"M202.177 2261.17 L2352.76 2261.17 L2352.76 1353.71 L202.177 1353.71  Z\" fill=\"#ffffff\" fill-rule=\"evenodd\" fill-opacity=\"1\"/>\n<defs>\n  <clipPath id=\"clip733\">\n    <rect x=\"202\" y=\"1353\" width=\"2152\" height=\"908\"/>\n  </clipPath>\n</defs>\n<polyline clip-path=\"url(#clip733)\" style=\"stroke:#000000; stroke-linecap:round; stroke-linejoin:round; stroke-width:2; stroke-opacity:0.1; fill:none\" points=\"202.177,2261.17 202.177,1353.71 \"/>\n<polyline clip-path=\"url(#clip733)\" style=\"stroke:#000000; stroke-linecap:round; stroke-linejoin:round; stroke-width:2; stroke-opacity:0.1; fill:none\" points=\"739.821,2261.17 739.821,1353.71 \"/>\n<polyline clip-path=\"url(#clip733)\" style=\"stroke:#000000; stroke-linecap:round; stroke-linejoin:round; stroke-width:2; stroke-opacity:0.1; fill:none\" points=\"1277.47,2261.17 1277.47,1353.71 \"/>\n<polyline clip-path=\"url(#clip733)\" style=\"stroke:#000000; stroke-linecap:round; stroke-linejoin:round; stroke-width:2; stroke-opacity:0.1; fill:none\" points=\"1815.11,2261.17 1815.11,1353.71 \"/>\n<polyline clip-path=\"url(#clip733)\" style=\"stroke:#000000; stroke-linecap:round; stroke-linejoin:round; stroke-width:2; stroke-opacity:0.1; fill:none\" points=\"2352.76,2261.17 2352.76,1353.71 \"/>\n<polyline clip-path=\"url(#clip730)\" style=\"stroke:#000000; stroke-linecap:round; stroke-linejoin:round; stroke-width:4; stroke-opacity:1; fill:none\" points=\"202.177,2261.17 2352.76,2261.17 \"/>\n<polyline clip-path=\"url(#clip730)\" style=\"stroke:#000000; stroke-linecap:round; stroke-linejoin:round; stroke-width:4; stroke-opacity:1; fill:none\" points=\"202.177,2261.17 202.177,2242.27 \"/>\n<polyline clip-path=\"url(#clip730)\" style=\"stroke:#000000; stroke-linecap:round; stroke-linejoin:round; stroke-width:4; stroke-opacity:1; fill:none\" points=\"739.821,2261.17 739.821,2242.27 \"/>\n<polyline clip-path=\"url(#clip730)\" style=\"stroke:#000000; stroke-linecap:round; stroke-linejoin:round; stroke-width:4; stroke-opacity:1; fill:none\" points=\"1277.47,2261.17 1277.47,2242.27 \"/>\n<polyline clip-path=\"url(#clip730)\" style=\"stroke:#000000; stroke-linecap:round; stroke-linejoin:round; stroke-width:4; stroke-opacity:1; fill:none\" points=\"1815.11,2261.17 1815.11,2242.27 \"/>\n<polyline clip-path=\"url(#clip730)\" style=\"stroke:#000000; stroke-linecap:round; stroke-linejoin:round; stroke-width:4; stroke-opacity:1; fill:none\" points=\"2352.76,2261.17 2352.76,2242.27 \"/>\n<path clip-path=\"url(#clip730)\" d=\"M192.559 2319.63 L200.198 2319.63 L200.198 2293.27 L191.887 2294.93 L191.887 2290.67 L200.151 2289.01 L204.827 2289.01 L204.827 2319.63 L212.466 2319.63 L212.466 2323.57 L192.559 2323.57 L192.559 2319.63 Z\" fill=\"#000000\" fill-rule=\"nonzero\" fill-opacity=\"1\" /><path clip-path=\"url(#clip730)\" d=\"M734.474 2319.63 L750.794 2319.63 L750.794 2323.57 L728.849 2323.57 L728.849 2319.63 Q731.511 2316.88 736.095 2312.25 Q740.701 2307.6 741.882 2306.25 Q744.127 2303.73 745.007 2301.99 Q745.909 2300.23 745.909 2298.54 Q745.909 2295.79 743.965 2294.05 Q742.044 2292.32 738.942 2292.32 Q736.743 2292.32 734.289 2293.08 Q731.859 2293.85 729.081 2295.4 L729.081 2290.67 Q731.905 2289.54 734.359 2288.96 Q736.812 2288.38 738.849 2288.38 Q744.22 2288.38 747.414 2291.07 Q750.608 2293.75 750.608 2298.24 Q750.608 2300.37 749.798 2302.29 Q749.011 2304.19 746.905 2306.79 Q746.326 2307.46 743.224 2310.67 Q740.122 2313.87 734.474 2319.63 Z\" fill=\"#000000\" fill-rule=\"nonzero\" fill-opacity=\"1\" /><path clip-path=\"url(#clip730)\" d=\"M1281.71 2304.93 Q1285.07 2305.65 1286.95 2307.92 Q1288.84 2310.19 1288.84 2313.52 Q1288.84 2318.64 1285.33 2321.44 Q1281.81 2324.24 1275.33 2324.24 Q1273.15 2324.24 1270.83 2323.8 Q1268.54 2323.38 1266.09 2322.53 L1266.09 2318.01 Q1268.03 2319.15 1270.35 2319.73 Q1272.66 2320.3 1275.19 2320.3 Q1279.58 2320.3 1281.88 2318.57 Q1284.19 2316.83 1284.19 2313.52 Q1284.19 2310.47 1282.04 2308.75 Q1279.91 2307.02 1276.09 2307.02 L1272.06 2307.02 L1272.06 2303.17 L1276.27 2303.17 Q1279.72 2303.17 1281.55 2301.81 Q1283.38 2300.42 1283.38 2297.83 Q1283.38 2295.17 1281.48 2293.75 Q1279.61 2292.32 1276.09 2292.32 Q1274.17 2292.32 1271.97 2292.73 Q1269.77 2293.15 1267.13 2294.03 L1267.13 2289.86 Q1269.79 2289.12 1272.11 2288.75 Q1274.45 2288.38 1276.51 2288.38 Q1281.83 2288.38 1284.93 2290.81 Q1288.03 2293.22 1288.03 2297.34 Q1288.03 2300.21 1286.39 2302.2 Q1284.75 2304.17 1281.71 2304.93 Z\" fill=\"#000000\" fill-rule=\"nonzero\" fill-opacity=\"1\" /><path clip-path=\"url(#clip730)\" d=\"M1818.12 2293.08 L1806.31 2311.53 L1818.12 2311.53 L1818.12 2293.08 M1816.89 2289.01 L1822.77 2289.01 L1822.77 2311.53 L1827.7 2311.53 L1827.7 2315.42 L1822.77 2315.42 L1822.77 2323.57 L1818.12 2323.57 L1818.12 2315.42 L1802.52 2315.42 L1802.52 2310.91 L1816.89 2289.01 Z\" fill=\"#000000\" fill-rule=\"nonzero\" fill-opacity=\"1\" /><path clip-path=\"url(#clip730)\" d=\"M2343.03 2289.01 L2361.39 2289.01 L2361.39 2292.94 L2347.32 2292.94 L2347.32 2301.42 Q2348.33 2301.07 2349.35 2300.91 Q2350.37 2300.72 2351.39 2300.72 Q2357.18 2300.72 2360.56 2303.89 Q2363.94 2307.06 2363.94 2312.48 Q2363.94 2318.06 2360.46 2321.16 Q2356.99 2324.24 2350.67 2324.24 Q2348.5 2324.24 2346.23 2323.87 Q2343.98 2323.5 2341.58 2322.76 L2341.58 2318.06 Q2343.66 2319.19 2345.88 2319.75 Q2348.1 2320.3 2350.58 2320.3 Q2354.58 2320.3 2356.92 2318.2 Q2359.26 2316.09 2359.26 2312.48 Q2359.26 2308.87 2356.92 2306.76 Q2354.58 2304.66 2350.58 2304.66 Q2348.71 2304.66 2346.83 2305.07 Q2344.98 2305.49 2343.03 2306.37 L2343.03 2289.01 Z\" fill=\"#000000\" fill-rule=\"nonzero\" fill-opacity=\"1\" /><polyline clip-path=\"url(#clip733)\" style=\"stroke:#000000; stroke-linecap:round; stroke-linejoin:round; stroke-width:2; stroke-opacity:0.1; fill:none\" points=\"202.177,2235.49 2352.76,2235.49 \"/>\n<polyline clip-path=\"url(#clip733)\" style=\"stroke:#000000; stroke-linecap:round; stroke-linejoin:round; stroke-width:2; stroke-opacity:0.1; fill:none\" points=\"202.177,2043.52 2352.76,2043.52 \"/>\n<polyline clip-path=\"url(#clip733)\" style=\"stroke:#000000; stroke-linecap:round; stroke-linejoin:round; stroke-width:2; stroke-opacity:0.1; fill:none\" points=\"202.177,1851.56 2352.76,1851.56 \"/>\n<polyline clip-path=\"url(#clip733)\" style=\"stroke:#000000; stroke-linecap:round; stroke-linejoin:round; stroke-width:2; stroke-opacity:0.1; fill:none\" points=\"202.177,1659.6 2352.76,1659.6 \"/>\n<polyline clip-path=\"url(#clip733)\" style=\"stroke:#000000; stroke-linecap:round; stroke-linejoin:round; stroke-width:2; stroke-opacity:0.1; fill:none\" points=\"202.177,1467.64 2352.76,1467.64 \"/>\n<polyline clip-path=\"url(#clip730)\" style=\"stroke:#000000; stroke-linecap:round; stroke-linejoin:round; stroke-width:4; stroke-opacity:1; fill:none\" points=\"202.177,2261.17 202.177,1353.71 \"/>\n<polyline clip-path=\"url(#clip730)\" style=\"stroke:#000000; stroke-linecap:round; stroke-linejoin:round; stroke-width:4; stroke-opacity:1; fill:none\" points=\"202.177,2235.49 221.074,2235.49 \"/>\n<polyline clip-path=\"url(#clip730)\" style=\"stroke:#000000; stroke-linecap:round; stroke-linejoin:round; stroke-width:4; stroke-opacity:1; fill:none\" points=\"202.177,2043.52 221.074,2043.52 \"/>\n<polyline clip-path=\"url(#clip730)\" style=\"stroke:#000000; stroke-linecap:round; stroke-linejoin:round; stroke-width:4; stroke-opacity:1; fill:none\" points=\"202.177,1851.56 221.074,1851.56 \"/>\n<polyline clip-path=\"url(#clip730)\" style=\"stroke:#000000; stroke-linecap:round; stroke-linejoin:round; stroke-width:4; stroke-opacity:1; fill:none\" points=\"202.177,1659.6 221.074,1659.6 \"/>\n<polyline clip-path=\"url(#clip730)\" style=\"stroke:#000000; stroke-linecap:round; stroke-linejoin:round; stroke-width:4; stroke-opacity:1; fill:none\" points=\"202.177,1467.64 221.074,1467.64 \"/>\n<path clip-path=\"url(#clip730)\" d=\"M109.001 2221.28 Q105.39 2221.28 103.561 2224.85 Q101.756 2228.39 101.756 2235.52 Q101.756 2242.63 103.561 2246.19 Q105.39 2249.73 109.001 2249.73 Q112.635 2249.73 114.441 2246.19 Q116.27 2242.63 116.27 2235.52 Q116.27 2228.39 114.441 2224.85 Q112.635 2221.28 109.001 2221.28 M109.001 2217.58 Q114.811 2217.58 117.867 2222.19 Q120.945 2226.77 120.945 2235.52 Q120.945 2244.25 117.867 2248.85 Q114.811 2253.44 109.001 2253.44 Q103.191 2253.44 100.112 2248.85 Q97.0567 2244.25 97.0567 2235.52 Q97.0567 2226.77 100.112 2222.19 Q103.191 2217.58 109.001 2217.58 Z\" fill=\"#000000\" fill-rule=\"nonzero\" fill-opacity=\"1\" /><path clip-path=\"url(#clip730)\" d=\"M129.163 2246.89 L134.047 2246.89 L134.047 2252.77 L129.163 2252.77 L129.163 2246.89 Z\" fill=\"#000000\" fill-rule=\"nonzero\" fill-opacity=\"1\" /><path clip-path=\"url(#clip730)\" d=\"M154.232 2221.28 Q150.621 2221.28 148.793 2224.85 Q146.987 2228.39 146.987 2235.52 Q146.987 2242.63 148.793 2246.19 Q150.621 2249.73 154.232 2249.73 Q157.867 2249.73 159.672 2246.19 Q161.501 2242.63 161.501 2235.52 Q161.501 2228.39 159.672 2224.85 Q157.867 2221.28 154.232 2221.28 M154.232 2217.58 Q160.042 2217.58 163.098 2222.19 Q166.177 2226.77 166.177 2235.52 Q166.177 2244.25 163.098 2248.85 Q160.042 2253.44 154.232 2253.44 Q148.422 2253.44 145.343 2248.85 Q142.288 2244.25 142.288 2235.52 Q142.288 2226.77 145.343 2222.19 Q148.422 2217.58 154.232 2217.58 Z\" fill=\"#000000\" fill-rule=\"nonzero\" fill-opacity=\"1\" /><path clip-path=\"url(#clip730)\" d=\"M110.598 2029.32 Q106.987 2029.32 105.159 2032.89 Q103.353 2036.43 103.353 2043.56 Q103.353 2050.67 105.159 2054.23 Q106.987 2057.77 110.598 2057.77 Q114.233 2057.77 116.038 2054.23 Q117.867 2050.67 117.867 2043.56 Q117.867 2036.43 116.038 2032.89 Q114.233 2029.32 110.598 2029.32 M110.598 2025.62 Q116.408 2025.62 119.464 2030.23 Q122.543 2034.81 122.543 2043.56 Q122.543 2052.29 119.464 2056.89 Q116.408 2061.48 110.598 2061.48 Q104.788 2061.48 101.709 2056.89 Q98.6539 2052.29 98.6539 2043.56 Q98.6539 2034.81 101.709 2030.23 Q104.788 2025.62 110.598 2025.62 Z\" fill=\"#000000\" fill-rule=\"nonzero\" fill-opacity=\"1\" /><path clip-path=\"url(#clip730)\" d=\"M130.76 2054.93 L135.644 2054.93 L135.644 2060.8 L130.76 2060.8 L130.76 2054.93 Z\" fill=\"#000000\" fill-rule=\"nonzero\" fill-opacity=\"1\" /><path clip-path=\"url(#clip730)\" d=\"M149.857 2056.87 L166.177 2056.87 L166.177 2060.8 L144.232 2060.8 L144.232 2056.87 Q146.894 2054.12 151.478 2049.49 Q156.084 2044.83 157.265 2043.49 Q159.51 2040.97 160.39 2039.23 Q161.292 2037.47 161.292 2035.78 Q161.292 2033.03 159.348 2031.29 Q157.427 2029.56 154.325 2029.56 Q152.126 2029.56 149.672 2030.32 Q147.242 2031.08 144.464 2032.63 L144.464 2027.91 Q147.288 2026.78 149.742 2026.2 Q152.195 2025.62 154.232 2025.62 Q159.603 2025.62 162.797 2028.31 Q165.992 2030.99 165.992 2035.48 Q165.992 2037.61 165.181 2039.53 Q164.394 2041.43 162.288 2044.02 Q161.709 2044.69 158.607 2047.91 Q155.505 2051.11 149.857 2056.87 Z\" fill=\"#000000\" fill-rule=\"nonzero\" fill-opacity=\"1\" /><path clip-path=\"url(#clip730)\" d=\"M108.515 1837.36 Q104.904 1837.36 103.075 1840.93 Q101.27 1844.47 101.27 1851.6 Q101.27 1858.71 103.075 1862.27 Q104.904 1865.81 108.515 1865.81 Q112.149 1865.81 113.955 1862.27 Q115.783 1858.71 115.783 1851.6 Q115.783 1844.47 113.955 1840.93 Q112.149 1837.36 108.515 1837.36 M108.515 1833.66 Q114.325 1833.66 117.381 1838.27 Q120.459 1842.85 120.459 1851.6 Q120.459 1860.33 117.381 1864.93 Q114.325 1869.52 108.515 1869.52 Q102.705 1869.52 99.6261 1864.93 Q96.5706 1860.33 96.5706 1851.6 Q96.5706 1842.85 99.6261 1838.27 Q102.705 1833.66 108.515 1833.66 Z\" fill=\"#000000\" fill-rule=\"nonzero\" fill-opacity=\"1\" /><path clip-path=\"url(#clip730)\" d=\"M128.677 1862.97 L133.561 1862.97 L133.561 1868.84 L128.677 1868.84 L128.677 1862.97 Z\" fill=\"#000000\" fill-rule=\"nonzero\" fill-opacity=\"1\" /><path clip-path=\"url(#clip730)\" d=\"M156.593 1838.36 L144.788 1856.81 L156.593 1856.81 L156.593 1838.36 M155.367 1834.28 L161.246 1834.28 L161.246 1856.81 L166.177 1856.81 L166.177 1860.7 L161.246 1860.7 L161.246 1868.84 L156.593 1868.84 L156.593 1860.7 L140.992 1860.7 L140.992 1856.18 L155.367 1834.28 Z\" fill=\"#000000\" fill-rule=\"nonzero\" fill-opacity=\"1\" /><path clip-path=\"url(#clip730)\" d=\"M108.839 1645.4 Q105.228 1645.4 103.399 1648.97 Q101.594 1652.51 101.594 1659.64 Q101.594 1666.75 103.399 1670.31 Q105.228 1673.85 108.839 1673.85 Q112.473 1673.85 114.279 1670.31 Q116.108 1666.75 116.108 1659.64 Q116.108 1652.51 114.279 1648.97 Q112.473 1645.4 108.839 1645.4 M108.839 1641.7 Q114.649 1641.7 117.705 1646.31 Q120.783 1650.89 120.783 1659.64 Q120.783 1668.37 117.705 1672.97 Q114.649 1677.56 108.839 1677.56 Q103.029 1677.56 99.9502 1672.97 Q96.8947 1668.37 96.8947 1659.64 Q96.8947 1650.89 99.9502 1646.31 Q103.029 1641.7 108.839 1641.7 Z\" fill=\"#000000\" fill-rule=\"nonzero\" fill-opacity=\"1\" /><path clip-path=\"url(#clip730)\" d=\"M129.001 1671 L133.885 1671 L133.885 1676.88 L129.001 1676.88 L129.001 1671 Z\" fill=\"#000000\" fill-rule=\"nonzero\" fill-opacity=\"1\" /><path clip-path=\"url(#clip730)\" d=\"M154.649 1657.74 Q151.501 1657.74 149.649 1659.89 Q147.82 1662.05 147.82 1665.8 Q147.82 1669.52 149.649 1671.7 Q151.501 1673.85 154.649 1673.85 Q157.797 1673.85 159.626 1671.7 Q161.478 1669.52 161.478 1665.8 Q161.478 1662.05 159.626 1659.89 Q157.797 1657.74 154.649 1657.74 M163.931 1643.09 L163.931 1647.35 Q162.172 1646.51 160.367 1646.07 Q158.584 1645.63 156.825 1645.63 Q152.195 1645.63 149.742 1648.76 Q147.311 1651.88 146.964 1658.2 Q148.33 1656.19 150.39 1655.13 Q152.45 1654.04 154.927 1654.04 Q160.135 1654.04 163.144 1657.21 Q166.177 1660.36 166.177 1665.8 Q166.177 1671.12 163.029 1674.34 Q159.88 1677.56 154.649 1677.56 Q148.654 1677.56 145.482 1672.97 Q142.311 1668.37 142.311 1659.64 Q142.311 1651.44 146.2 1646.58 Q150.089 1641.7 156.64 1641.7 Q158.399 1641.7 160.181 1642.05 Q161.987 1642.39 163.931 1643.09 Z\" fill=\"#000000\" fill-rule=\"nonzero\" fill-opacity=\"1\" /><path clip-path=\"url(#clip730)\" d=\"M109.094 1453.44 Q105.483 1453.44 103.654 1457.01 Q101.848 1460.55 101.848 1467.68 Q101.848 1474.79 103.654 1478.35 Q105.483 1481.89 109.094 1481.89 Q112.728 1481.89 114.533 1478.35 Q116.362 1474.79 116.362 1467.68 Q116.362 1460.55 114.533 1457.01 Q112.728 1453.44 109.094 1453.44 M109.094 1449.74 Q114.904 1449.74 117.959 1454.35 Q121.038 1458.93 121.038 1467.68 Q121.038 1476.41 117.959 1481.01 Q114.904 1485.6 109.094 1485.6 Q103.284 1485.6 100.205 1481.01 Q97.1493 1476.41 97.1493 1467.68 Q97.1493 1458.93 100.205 1454.35 Q103.284 1449.74 109.094 1449.74 Z\" fill=\"#000000\" fill-rule=\"nonzero\" fill-opacity=\"1\" /><path clip-path=\"url(#clip730)\" d=\"M129.256 1479.04 L134.14 1479.04 L134.14 1484.92 L129.256 1484.92 L129.256 1479.04 Z\" fill=\"#000000\" fill-rule=\"nonzero\" fill-opacity=\"1\" /><path clip-path=\"url(#clip730)\" d=\"M154.325 1468.51 Q150.992 1468.51 149.07 1470.29 Q147.172 1472.08 147.172 1475.2 Q147.172 1478.33 149.07 1480.11 Q150.992 1481.89 154.325 1481.89 Q157.658 1481.89 159.58 1480.11 Q161.501 1478.3 161.501 1475.2 Q161.501 1472.08 159.58 1470.29 Q157.681 1468.51 154.325 1468.51 M149.649 1466.52 Q146.64 1465.78 144.95 1463.72 Q143.283 1461.66 143.283 1458.7 Q143.283 1454.55 146.223 1452.15 Q149.186 1449.74 154.325 1449.74 Q159.487 1449.74 162.427 1452.15 Q165.367 1454.55 165.367 1458.7 Q165.367 1461.66 163.677 1463.72 Q162.01 1465.78 159.024 1466.52 Q162.404 1467.31 164.279 1469.6 Q166.177 1471.89 166.177 1475.2 Q166.177 1480.23 163.098 1482.91 Q160.042 1485.6 154.325 1485.6 Q148.607 1485.6 145.529 1482.91 Q142.473 1480.23 142.473 1475.2 Q142.473 1471.89 144.371 1469.6 Q146.269 1467.31 149.649 1466.52 M147.936 1459.14 Q147.936 1461.82 149.603 1463.33 Q151.293 1464.83 154.325 1464.83 Q157.334 1464.83 159.024 1463.33 Q160.737 1461.82 160.737 1459.14 Q160.737 1456.45 159.024 1454.95 Q157.334 1453.44 154.325 1453.44 Q151.293 1453.44 149.603 1454.95 Q147.936 1456.45 147.936 1459.14 Z\" fill=\"#000000\" fill-rule=\"nonzero\" fill-opacity=\"1\" /><path clip-path=\"url(#clip730)\" d=\"M789.191 1272.58 L766.1 1212.1 L774.648 1212.1 L793.809 1263.02 L813.01 1212.1 L821.517 1212.1 L798.467 1272.58 L789.191 1272.58 Z\" fill=\"#000000\" fill-rule=\"nonzero\" fill-opacity=\"1\" /><path clip-path=\"url(#clip730)\" d=\"M844.202 1249.77 Q835.168 1249.77 831.685 1251.84 Q828.201 1253.9 828.201 1258.88 Q828.201 1262.85 830.793 1265.2 Q833.426 1267.51 837.923 1267.51 Q844.121 1267.51 847.848 1263.14 Q851.615 1258.72 851.615 1251.43 L851.615 1249.77 L844.202 1249.77 M859.069 1246.69 L859.069 1272.58 L851.615 1272.58 L851.615 1265.69 Q849.063 1269.82 845.255 1271.81 Q841.447 1273.75 835.938 1273.75 Q828.97 1273.75 824.839 1269.86 Q820.747 1265.93 820.747 1259.37 Q820.747 1251.71 825.851 1247.82 Q830.996 1243.94 841.164 1243.94 L851.615 1243.94 L851.615 1243.21 Q851.615 1238.06 848.212 1235.27 Q844.85 1232.43 838.733 1232.43 Q834.844 1232.43 831.158 1233.36 Q827.472 1234.29 824.069 1236.16 L824.069 1229.27 Q828.16 1227.69 832.009 1226.92 Q835.857 1226.11 839.503 1226.11 Q849.346 1226.11 854.208 1231.22 Q859.069 1236.32 859.069 1246.69 Z\" fill=\"#000000\" fill-rule=\"nonzero\" fill-opacity=\"1\" /><path clip-path=\"url(#clip730)\" d=\"M900.712 1234.17 Q899.456 1233.44 897.957 1233.12 Q896.499 1232.76 894.717 1232.76 Q888.397 1232.76 884.994 1236.89 Q881.632 1240.98 881.632 1248.68 L881.632 1272.58 L874.138 1272.58 L874.138 1227.21 L881.632 1227.21 L881.632 1234.25 Q883.982 1230.12 887.749 1228.14 Q891.516 1226.11 896.904 1226.11 Q897.674 1226.11 898.605 1226.23 Q899.537 1226.31 900.671 1226.52 L900.712 1234.17 Z\" fill=\"#000000\" fill-rule=\"nonzero\" fill-opacity=\"1\" /><path clip-path=\"url(#clip730)\" d=\"M908.53 1227.21 L915.984 1227.21 L915.984 1272.58 L908.53 1272.58 L908.53 1227.21 M908.53 1209.54 L915.984 1209.54 L915.984 1218.98 L908.53 1218.98 L908.53 1209.54 Z\" fill=\"#000000\" fill-rule=\"nonzero\" fill-opacity=\"1\" /><path clip-path=\"url(#clip730)\" d=\"M952.199 1249.77 Q943.165 1249.77 939.682 1251.84 Q936.198 1253.9 936.198 1258.88 Q936.198 1262.85 938.79 1265.2 Q941.424 1267.51 945.92 1267.51 Q952.118 1267.51 955.845 1263.14 Q959.612 1258.72 959.612 1251.43 L959.612 1249.77 L952.199 1249.77 M967.066 1246.69 L967.066 1272.58 L959.612 1272.58 L959.612 1265.69 Q957.06 1269.82 953.252 1271.81 Q949.444 1273.75 943.935 1273.75 Q936.968 1273.75 932.836 1269.86 Q928.744 1265.93 928.744 1259.37 Q928.744 1251.71 933.848 1247.82 Q938.993 1243.94 949.161 1243.94 L959.612 1243.94 L959.612 1243.21 Q959.612 1238.06 956.209 1235.27 Q952.847 1232.43 946.73 1232.43 Q942.841 1232.43 939.155 1233.36 Q935.469 1234.29 932.066 1236.16 L932.066 1229.27 Q936.157 1227.69 940.006 1226.92 Q943.854 1226.11 947.5 1226.11 Q957.344 1226.11 962.205 1231.22 Q967.066 1236.32 967.066 1246.69 Z\" fill=\"#000000\" fill-rule=\"nonzero\" fill-opacity=\"1\" /><path clip-path=\"url(#clip730)\" d=\"M989.791 1214.32 L989.791 1227.21 L1005.14 1227.21 L1005.14 1233 L989.791 1233 L989.791 1257.63 Q989.791 1263.18 991.29 1264.76 Q992.83 1266.34 997.488 1266.34 L1005.14 1266.34 L1005.14 1272.58 L997.488 1272.58 Q988.86 1272.58 985.578 1269.38 Q982.297 1266.14 982.297 1257.63 L982.297 1233 L976.828 1233 L976.828 1227.21 L982.297 1227.21 L982.297 1214.32 L989.791 1214.32 Z\" fill=\"#000000\" fill-rule=\"nonzero\" fill-opacity=\"1\" /><path clip-path=\"url(#clip730)\" d=\"M1014.95 1227.21 L1022.4 1227.21 L1022.4 1272.58 L1014.95 1272.58 L1014.95 1227.21 M1014.95 1209.54 L1022.4 1209.54 L1022.4 1218.98 L1014.95 1218.98 L1014.95 1209.54 Z\" fill=\"#000000\" fill-rule=\"nonzero\" fill-opacity=\"1\" /><path clip-path=\"url(#clip730)\" d=\"M1055.58 1232.43 Q1049.58 1232.43 1046.1 1237.13 Q1042.62 1241.79 1042.62 1249.93 Q1042.62 1258.07 1046.06 1262.77 Q1049.54 1267.43 1055.58 1267.43 Q1061.53 1267.43 1065.02 1262.73 Q1068.5 1258.03 1068.5 1249.93 Q1068.5 1241.87 1065.02 1237.17 Q1061.53 1232.43 1055.58 1232.43 M1055.58 1226.11 Q1065.3 1226.11 1070.85 1232.43 Q1076.4 1238.75 1076.4 1249.93 Q1076.4 1261.07 1070.85 1267.43 Q1065.3 1273.75 1055.58 1273.75 Q1045.82 1273.75 1040.27 1267.43 Q1034.76 1261.07 1034.76 1249.93 Q1034.76 1238.75 1040.27 1232.43 Q1045.82 1226.11 1055.58 1226.11 Z\" fill=\"#000000\" fill-rule=\"nonzero\" fill-opacity=\"1\" /><path clip-path=\"url(#clip730)\" d=\"M1126.47 1245.19 L1126.47 1272.58 L1119.02 1272.58 L1119.02 1245.43 Q1119.02 1238.99 1116.5 1235.79 Q1113.99 1232.59 1108.97 1232.59 Q1102.93 1232.59 1099.45 1236.44 Q1095.97 1240.29 1095.97 1246.93 L1095.97 1272.58 L1088.47 1272.58 L1088.47 1227.21 L1095.97 1227.21 L1095.97 1234.25 Q1098.64 1230.16 1102.24 1228.14 Q1105.89 1226.11 1110.63 1226.11 Q1118.45 1226.11 1122.46 1230.97 Q1126.47 1235.79 1126.47 1245.19 Z\" fill=\"#000000\" fill-rule=\"nonzero\" fill-opacity=\"1\" /><path clip-path=\"url(#clip730)\" d=\"M1161.95 1249.77 Q1152.92 1249.77 1149.44 1251.84 Q1145.95 1253.9 1145.95 1258.88 Q1145.95 1262.85 1148.55 1265.2 Q1151.18 1267.51 1155.68 1267.51 Q1161.87 1267.51 1165.6 1263.14 Q1169.37 1258.72 1169.37 1251.43 L1169.37 1249.77 L1161.95 1249.77 M1176.82 1246.69 L1176.82 1272.58 L1169.37 1272.58 L1169.37 1265.69 Q1166.82 1269.82 1163.01 1271.81 Q1159.2 1273.75 1153.69 1273.75 Q1146.72 1273.75 1142.59 1269.86 Q1138.5 1265.93 1138.5 1259.37 Q1138.5 1251.71 1143.6 1247.82 Q1148.75 1243.94 1158.92 1243.94 L1169.37 1243.94 L1169.37 1243.21 Q1169.37 1238.06 1165.97 1235.27 Q1162.6 1232.43 1156.49 1232.43 Q1152.6 1232.43 1148.91 1233.36 Q1145.22 1234.29 1141.82 1236.16 L1141.82 1229.27 Q1145.91 1227.69 1149.76 1226.92 Q1153.61 1226.11 1157.26 1226.11 Q1167.1 1226.11 1171.96 1231.22 Q1176.82 1236.32 1176.82 1246.69 Z\" fill=\"#000000\" fill-rule=\"nonzero\" fill-opacity=\"1\" /><path clip-path=\"url(#clip730)\" d=\"M1192.17 1209.54 L1199.63 1209.54 L1199.63 1272.58 L1192.17 1272.58 L1192.17 1209.54 Z\" fill=\"#000000\" fill-rule=\"nonzero\" fill-opacity=\"1\" /><path clip-path=\"url(#clip730)\" d=\"M1241.92 1212.1 L1250.1 1212.1 L1250.1 1272.58 L1241.92 1272.58 L1241.92 1212.1 Z\" fill=\"#000000\" fill-rule=\"nonzero\" fill-opacity=\"1\" /><path clip-path=\"url(#clip730)\" d=\"M1303.78 1245.19 L1303.78 1272.58 L1296.32 1272.58 L1296.32 1245.43 Q1296.32 1238.99 1293.81 1235.79 Q1291.3 1232.59 1286.28 1232.59 Q1280.24 1232.59 1276.76 1236.44 Q1273.27 1240.29 1273.27 1246.93 L1273.27 1272.58 L1265.78 1272.58 L1265.78 1227.21 L1273.27 1227.21 L1273.27 1234.25 Q1275.95 1230.16 1279.55 1228.14 Q1283.2 1226.11 1287.94 1226.11 Q1295.76 1226.11 1299.77 1230.97 Q1303.78 1235.79 1303.78 1245.19 Z\" fill=\"#000000\" fill-rule=\"nonzero\" fill-opacity=\"1\" /><path clip-path=\"url(#clip730)\" d=\"M1341.61 1209.54 L1341.61 1215.74 L1334.48 1215.74 Q1330.47 1215.74 1328.89 1217.36 Q1327.35 1218.98 1327.35 1223.2 L1327.35 1227.21 L1339.63 1227.21 L1339.63 1233 L1327.35 1233 L1327.35 1272.58 L1319.86 1272.58 L1319.86 1233 L1312.73 1233 L1312.73 1227.21 L1319.86 1227.21 L1319.86 1224.05 Q1319.86 1216.47 1323.38 1213.03 Q1326.91 1209.54 1334.56 1209.54 L1341.61 1209.54 Z\" fill=\"#000000\" fill-rule=\"nonzero\" fill-opacity=\"1\" /><path clip-path=\"url(#clip730)\" d=\"M1386.66 1248.03 L1386.66 1251.67 L1352.39 1251.67 Q1352.87 1259.37 1357.01 1263.42 Q1361.18 1267.43 1368.59 1267.43 Q1372.89 1267.43 1376.9 1266.38 Q1380.95 1265.32 1384.92 1263.22 L1384.92 1270.27 Q1380.91 1271.97 1376.69 1272.86 Q1372.48 1273.75 1368.15 1273.75 Q1357.29 1273.75 1350.93 1267.43 Q1344.61 1261.11 1344.61 1250.34 Q1344.61 1239.2 1350.61 1232.67 Q1356.64 1226.11 1366.85 1226.11 Q1376 1226.11 1381.31 1232.03 Q1386.66 1237.9 1386.66 1248.03 M1379.2 1245.84 Q1379.12 1239.72 1375.76 1236.08 Q1372.44 1232.43 1366.93 1232.43 Q1360.69 1232.43 1356.92 1235.96 Q1353.2 1239.48 1352.63 1245.88 L1379.2 1245.84 Z\" fill=\"#000000\" fill-rule=\"nonzero\" fill-opacity=\"1\" /><path clip-path=\"url(#clip730)\" d=\"M1425.18 1234.17 Q1423.93 1233.44 1422.43 1233.12 Q1420.97 1232.76 1419.19 1232.76 Q1412.87 1232.76 1409.47 1236.89 Q1406.1 1240.98 1406.1 1248.68 L1406.1 1272.58 L1398.61 1272.58 L1398.61 1227.21 L1406.1 1227.21 L1406.1 1234.25 Q1408.45 1230.12 1412.22 1228.14 Q1415.99 1226.11 1421.37 1226.11 Q1422.14 1226.11 1423.08 1226.23 Q1424.01 1226.31 1425.14 1226.52 L1425.18 1234.17 Z\" fill=\"#000000\" fill-rule=\"nonzero\" fill-opacity=\"1\" /><path clip-path=\"url(#clip730)\" d=\"M1469.99 1248.03 L1469.99 1251.67 L1435.71 1251.67 Q1436.2 1259.37 1440.33 1263.42 Q1444.51 1267.43 1451.92 1267.43 Q1456.21 1267.43 1460.22 1266.38 Q1464.27 1265.32 1468.24 1263.22 L1468.24 1270.27 Q1464.23 1271.97 1460.02 1272.86 Q1455.81 1273.75 1451.47 1273.75 Q1440.62 1273.75 1434.26 1267.43 Q1427.94 1261.11 1427.94 1250.34 Q1427.94 1239.2 1433.93 1232.67 Q1439.97 1226.11 1450.18 1226.11 Q1459.33 1226.11 1464.64 1232.03 Q1469.99 1237.9 1469.99 1248.03 M1462.53 1245.84 Q1462.45 1239.72 1459.09 1236.08 Q1455.77 1232.43 1450.26 1232.43 Q1444.02 1232.43 1440.25 1235.96 Q1436.53 1239.48 1435.96 1245.88 L1462.53 1245.84 Z\" fill=\"#000000\" fill-rule=\"nonzero\" fill-opacity=\"1\" /><path clip-path=\"url(#clip730)\" d=\"M1519.93 1245.19 L1519.93 1272.58 L1512.48 1272.58 L1512.48 1245.43 Q1512.48 1238.99 1509.97 1235.79 Q1507.46 1232.59 1502.43 1232.59 Q1496.4 1232.59 1492.91 1236.44 Q1489.43 1240.29 1489.43 1246.93 L1489.43 1272.58 L1481.94 1272.58 L1481.94 1227.21 L1489.43 1227.21 L1489.43 1234.25 Q1492.1 1230.16 1495.71 1228.14 Q1499.35 1226.11 1504.09 1226.11 Q1511.91 1226.11 1515.92 1230.97 Q1519.93 1235.79 1519.93 1245.19 Z\" fill=\"#000000\" fill-rule=\"nonzero\" fill-opacity=\"1\" /><path clip-path=\"url(#clip730)\" d=\"M1567.45 1228.95 L1567.45 1235.92 Q1564.29 1234.17 1561.09 1233.32 Q1557.93 1232.43 1554.69 1232.43 Q1547.44 1232.43 1543.43 1237.05 Q1539.42 1241.63 1539.42 1249.93 Q1539.42 1258.24 1543.43 1262.85 Q1547.44 1267.43 1554.69 1267.43 Q1557.93 1267.43 1561.09 1266.58 Q1564.29 1265.69 1567.45 1263.95 L1567.45 1270.83 Q1564.33 1272.29 1560.97 1273.02 Q1557.65 1273.75 1553.88 1273.75 Q1543.63 1273.75 1537.6 1267.31 Q1531.56 1260.87 1531.56 1249.93 Q1531.56 1238.83 1537.64 1232.47 Q1543.75 1226.11 1554.37 1226.11 Q1557.81 1226.11 1561.09 1226.84 Q1564.37 1227.53 1567.45 1228.95 Z\" fill=\"#000000\" fill-rule=\"nonzero\" fill-opacity=\"1\" /><path clip-path=\"url(#clip730)\" d=\"M1619.22 1248.03 L1619.22 1251.67 L1584.95 1251.67 Q1585.44 1259.37 1589.57 1263.42 Q1593.74 1267.43 1601.15 1267.43 Q1605.45 1267.43 1609.46 1266.38 Q1613.51 1265.32 1617.48 1263.22 L1617.48 1270.27 Q1613.47 1271.97 1609.26 1272.86 Q1605.04 1273.75 1600.71 1273.75 Q1589.85 1273.75 1583.49 1267.43 Q1577.17 1261.11 1577.17 1250.34 Q1577.17 1239.2 1583.17 1232.67 Q1589.2 1226.11 1599.41 1226.11 Q1608.57 1226.11 1613.87 1232.03 Q1619.22 1237.9 1619.22 1248.03 M1611.77 1245.84 Q1611.69 1239.72 1608.32 1236.08 Q1605 1232.43 1599.49 1232.43 Q1593.25 1232.43 1589.49 1235.96 Q1585.76 1239.48 1585.19 1245.88 L1611.77 1245.84 Z\" fill=\"#000000\" fill-rule=\"nonzero\" fill-opacity=\"1\" /><path clip-path=\"url(#clip730)\" d=\"M1675.73 1209.62 Q1670.3 1218.94 1667.67 1228.06 Q1665.04 1237.17 1665.04 1246.53 Q1665.04 1255.89 1667.67 1265.08 Q1670.34 1274.24 1675.73 1283.51 L1669.25 1283.51 Q1663.17 1273.99 1660.13 1264.8 Q1657.14 1255.6 1657.14 1246.53 Q1657.14 1237.5 1660.13 1228.34 Q1663.13 1219.19 1669.25 1209.62 L1675.73 1209.62 Z\" fill=\"#000000\" fill-rule=\"nonzero\" fill-opacity=\"1\" /><path clip-path=\"url(#clip730)\" d=\"M1706.11 1272.58 L1683.02 1212.1 L1691.57 1212.1 L1710.73 1263.02 L1729.93 1212.1 L1738.44 1212.1 L1715.39 1272.58 L1706.11 1272.58 Z\" fill=\"#000000\" fill-rule=\"nonzero\" fill-opacity=\"1\" /><path clip-path=\"url(#clip730)\" d=\"M1747.27 1212.1 L1755.45 1212.1 L1755.45 1272.58 L1747.27 1272.58 L1747.27 1212.1 Z\" fill=\"#000000\" fill-rule=\"nonzero\" fill-opacity=\"1\" /><path clip-path=\"url(#clip730)\" d=\"M1770.24 1209.62 L1776.72 1209.62 Q1782.8 1219.19 1785.79 1228.34 Q1788.83 1237.5 1788.83 1246.53 Q1788.83 1255.6 1785.79 1264.8 Q1782.8 1273.99 1776.72 1283.51 L1770.24 1283.51 Q1775.63 1274.24 1778.26 1265.08 Q1780.93 1255.89 1780.93 1246.53 Q1780.93 1237.17 1778.26 1228.06 Q1775.63 1218.94 1770.24 1209.62 Z\" fill=\"#000000\" fill-rule=\"nonzero\" fill-opacity=\"1\" /><path clip-path=\"url(#clip733)\" d=\"M383.258 2234.64 L389.08 2234.56 L394.902 2234.47 L448.733 2233.23 L502.563 2230.73 L534.913 2228.22 L567.264 2224.57 L594.615 2220.31 L621.967 2214.66 L636.822 2210.88 L651.678 2206.53 L666.534 2201.55 L681.39 2195.86 L695.085 2189.92 L708.781 2183.26 L722.477 2175.83 L736.172 2167.56 L750.855 2157.69 L765.539 2146.72 L780.222 2134.59 L794.905 2121.22 L811.917 2104.11 L828.929 2085.2 L845.941 2064.43 L862.953 2041.75 L878.071 2020 L893.189 1996.75 L908.307 1972.03 L923.426 1945.9 L936.683 1921.89 L949.94 1896.91 L963.198 1871.06 L976.455 1844.42 L1005.36 1784.17 L1034.27 1722.12 L1063.35 1659.54 L1092.43 1598.73 L1100.47 1582.5 L1108.51 1566.6 L1116.54 1551.09 L1124.58 1535.99 L1132.62 1521.36 L1140.66 1507.24 L1148.7 1493.67 L1156.73 1480.69 L1164.38 1468.93 L1172.03 1457.77 L1179.68 1447.25 L1187.32 1437.39 L1194.97 1428.22 L1202.62 1419.78 L1210.27 1412.08 L1217.92 1405.14 L1225.87 1398.77 L1233.82 1393.27 L1241.77 1388.67 L1249.72 1384.96 L1257.68 1382.18 L1265.63 1380.32 L1273.58 1379.39 L1281.53 1379.41 L1288.23 1380.14 L1294.92 1381.54 L1301.61 1383.59 L1308.31 1386.3 L1315 1389.65 L1321.7 1393.65 L1328.39 1398.27 L1335.08 1403.52 L1343.26 1410.74 L1351.43 1418.85 L1359.6 1427.81 L1367.77 1437.59 L1375.95 1448.17 L1384.12 1459.5 L1392.29 1471.55 L1400.46 1484.29 L1415.44 1509.25 L1430.41 1536.1 L1437.89 1550.15 L1445.38 1564.56 L1452.87 1579.31 L1460.35 1594.36 L1488.01 1651.94 L1515.67 1711.34 L1543.69 1771.64 L1571.7 1830.54 L1587.4 1862.43 L1603.1 1893.27 L1618.8 1922.9 L1634.5 1951.18 L1648.72 1975.55 L1662.95 1998.66 L1677.18 2020.46 L1691.4 2040.95 L1707.69 2062.76 L1723.98 2082.83 L1740.26 2101.18 L1756.55 2117.87 L1771.63 2131.89 L1786.71 2144.6 L1801.79 2156.06 L1816.88 2166.35 L1831.74 2175.42 L1846.61 2183.5 L1861.48 2190.66 L1876.35 2196.99 L1890.78 2202.39 L1905.22 2207.14 L1919.65 2211.3 L1934.09 2214.92 L1963.69 2220.9 L1993.28 2225.3 L2025.71 2228.73 L2058.14 2231.09 L2105.24 2233.2 L2152.35 2234.34 L2162.01 2234.5 L2171.67 2234.64 L2171.67 2235.49 L2162.01 2235.49 L2152.35 2235.49 L2105.24 2235.49 L2058.14 2235.49 L2025.71 2235.49 L1993.28 2235.49 L1963.69 2235.49 L1934.09 2235.49 L1919.65 2235.49 L1905.22 2235.49 L1890.78 2235.49 L1876.35 2235.49 L1861.48 2235.49 L1846.61 2235.49 L1831.74 2235.49 L1816.88 2235.49 L1801.79 2235.49 L1786.71 2235.49 L1771.63 2235.49 L1756.55 2235.49 L1740.26 2235.49 L1723.98 2235.49 L1707.69 2235.49 L1691.4 2235.49 L1677.18 2235.49 L1662.95 2235.49 L1648.72 2235.49 L1634.5 2235.49 L1618.8 2235.49 L1603.1 2235.49 L1587.4 2235.49 L1571.7 2235.49 L1543.69 2235.49 L1515.67 2235.49 L1488.01 2235.49 L1460.35 2235.49 L1452.87 2235.49 L1445.38 2235.49 L1437.89 2235.49 L1430.41 2235.49 L1415.44 2235.49 L1400.46 2235.49 L1392.29 2235.49 L1384.12 2235.49 L1375.95 2235.49 L1367.77 2235.49 L1359.6 2235.49 L1351.43 2235.49 L1343.26 2235.49 L1335.08 2235.49 L1328.39 2235.49 L1321.7 2235.49 L1315 2235.49 L1308.31 2235.49 L1301.61 2235.49 L1294.92 2235.49 L1288.23 2235.49 L1281.53 2235.49 L1273.58 2235.49 L1265.63 2235.49 L1257.68 2235.49 L1249.72 2235.49 L1241.77 2235.49 L1233.82 2235.49 L1225.87 2235.49 L1217.92 2235.49 L1210.27 2235.49 L1202.62 2235.49 L1194.97 2235.49 L1187.32 2235.49 L1179.68 2235.49 L1172.03 2235.49 L1164.38 2235.49 L1156.73 2235.49 L1148.7 2235.49 L1140.66 2235.49 L1132.62 2235.49 L1124.58 2235.49 L1116.54 2235.49 L1108.51 2235.49 L1100.47 2235.49 L1092.43 2235.49 L1063.35 2235.49 L1034.27 2235.49 L1005.36 2235.49 L976.455 2235.49 L963.198 2235.49 L949.94 2235.49 L936.683 2235.49 L923.426 2235.49 L908.307 2235.49 L893.189 2235.49 L878.071 2235.49 L862.953 2235.49 L845.941 2235.49 L828.929 2235.49 L811.917 2235.49 L794.905 2235.49 L780.222 2235.49 L765.539 2235.49 L750.855 2235.49 L736.172 2235.49 L722.477 2235.49 L708.781 2235.49 L695.085 2235.49 L681.39 2235.49 L666.534 2235.49 L651.678 2235.49 L636.822 2235.49 L621.967 2235.49 L594.615 2235.49 L567.264 2235.49 L534.913 2235.49 L502.563 2235.49 L448.733 2235.49 L394.902 2235.49 L389.08 2235.49 L383.258 2235.49  Z\" fill=\"#009af9\" fill-rule=\"evenodd\" fill-opacity=\"0.3\"/>\n<polyline clip-path=\"url(#clip733)\" style=\"stroke:#009af9; stroke-linecap:round; stroke-linejoin:round; stroke-width:4; stroke-opacity:0.3; fill:none\" points=\"383.258,2234.64 389.08,2234.56 394.902,2234.47 448.733,2233.23 502.563,2230.73 534.913,2228.22 567.264,2224.57 594.615,2220.31 621.967,2214.66 636.822,2210.88 651.678,2206.53 666.534,2201.55 681.39,2195.86 695.085,2189.92 708.781,2183.26 722.477,2175.83 736.172,2167.56 750.855,2157.69 765.539,2146.72 780.222,2134.59 794.905,2121.22 811.917,2104.11 828.929,2085.2 845.941,2064.43 862.953,2041.75 878.071,2020 893.189,1996.75 908.307,1972.03 923.426,1945.9 936.683,1921.89 949.94,1896.91 963.198,1871.06 976.455,1844.42 1005.36,1784.17 1034.27,1722.12 1063.35,1659.54 1092.43,1598.73 1100.47,1582.5 1108.51,1566.6 1116.54,1551.09 1124.58,1535.99 1132.62,1521.36 1140.66,1507.24 1148.7,1493.67 1156.73,1480.69 1164.38,1468.93 1172.03,1457.77 1179.68,1447.25 1187.32,1437.39 1194.97,1428.22 1202.62,1419.78 1210.27,1412.08 1217.92,1405.14 1225.87,1398.77 1233.82,1393.27 1241.77,1388.67 1249.72,1384.96 1257.68,1382.18 1265.63,1380.32 1273.58,1379.39 1281.53,1379.41 1288.23,1380.14 1294.92,1381.54 1301.61,1383.59 1308.31,1386.3 1315,1389.65 1321.7,1393.65 1328.39,1398.27 1335.08,1403.52 1343.26,1410.74 1351.43,1418.85 1359.6,1427.81 1367.77,1437.59 1375.95,1448.17 1384.12,1459.5 1392.29,1471.55 1400.46,1484.29 1415.44,1509.25 1430.41,1536.1 1437.89,1550.15 1445.38,1564.56 1452.87,1579.31 1460.35,1594.36 1488.01,1651.94 1515.67,1711.34 1543.69,1771.64 1571.7,1830.54 1587.4,1862.43 1603.1,1893.27 1618.8,1922.9 1634.5,1951.18 1648.72,1975.55 1662.95,1998.66 1677.18,2020.46 1691.4,2040.95 1707.69,2062.76 1723.98,2082.83 1740.26,2101.18 1756.55,2117.87 1771.63,2131.89 1786.71,2144.6 1801.79,2156.06 1816.88,2166.35 1831.74,2175.42 1846.61,2183.5 1861.48,2190.66 1876.35,2196.99 1890.78,2202.39 1905.22,2207.14 1919.65,2211.3 1934.09,2214.92 1963.69,2220.9 1993.28,2225.3 2025.71,2228.73 2058.14,2231.09 2105.24,2233.2 2152.35,2234.34 2162.01,2234.5 2171.67,2234.64 \"/>\n<polyline clip-path=\"url(#clip733)\" style=\"stroke:#3da44d; stroke-linecap:round; stroke-linejoin:round; stroke-width:8; stroke-opacity:1; fill:none\" stroke-dasharray=\"32, 20\" points=\"383.312,2234.64 389.141,2234.56 394.971,2234.47 448.873,2233.23 502.775,2230.74 535.168,2228.22 567.561,2224.58 594.949,2220.33 622.336,2214.68 637.212,2210.91 652.087,2206.57 666.963,2201.59 681.838,2195.91 695.552,2189.98 709.266,2183.33 722.979,2175.91 736.693,2167.65 751.396,2157.79 766.099,2146.84 780.801,2134.72 795.504,2121.37 812.538,2104.29 829.573,2085.4 846.607,2064.65 863.642,2042.01 878.78,2020.28 893.918,1997.06 909.056,1972.38 924.195,1946.29 937.47,1922.3 950.744,1897.36 964.019,1871.54 977.294,1844.94 1006.24,1784.77 1035.19,1722.8 1064.31,1660.31 1093.42,1599.57 1101.47,1583.36 1109.52,1567.49 1117.57,1551.99 1125.62,1536.92 1133.67,1522.31 1141.71,1508.21 1149.76,1494.65 1157.81,1481.69 1165.47,1469.94 1173.13,1458.8 1180.79,1448.29 1188.44,1438.44 1196.1,1429.29 1203.76,1420.86 1211.42,1413.17 1219.08,1406.24 1227.04,1399.88 1235,1394.39 1242.96,1389.79 1250.93,1386.09 1258.89,1383.31 1266.85,1381.45 1274.81,1380.53 1282.78,1380.54 1289.48,1381.27 1296.18,1382.67 1302.88,1384.72 1309.59,1387.42 1316.29,1390.77 1322.99,1394.76 1329.69,1399.38 1336.4,1404.62 1344.58,1411.83 1352.76,1419.93 1360.95,1428.88 1369.13,1438.65 1377.31,1449.21 1385.5,1460.53 1393.68,1472.56 1401.86,1485.28 1416.86,1510.21 1431.85,1537.02 1439.35,1551.05 1446.84,1565.45 1454.34,1580.18 1461.83,1595.21 1489.53,1652.71 1517.22,1712.03 1545.28,1772.25 1573.33,1831.07 1589.05,1862.92 1604.77,1893.73 1620.49,1923.32 1636.21,1951.56 1650.45,1975.89 1664.7,1998.97 1678.94,2020.75 1693.19,2041.2 1709.5,2062.99 1725.81,2083.03 1742.11,2101.36 1758.42,2118.02 1773.53,2132.03 1788.63,2144.72 1803.73,2156.17 1818.83,2166.44 1833.72,2175.5 1848.6,2183.57 1863.49,2190.72 1878.38,2197.04 1892.83,2202.44 1907.29,2207.18 1921.74,2211.33 1936.2,2214.95 1965.83,2220.92 1995.47,2225.31 2027.94,2228.74 2060.41,2231.09 2107.58,2233.2 2154.74,2234.34 2164.42,2234.5 2174.1,2234.64 \"/>\n<path clip-path=\"url(#clip730)\" d=\"M1663.05 1539.48 L2281.07 1539.48 L2281.07 1383.96 L1663.05 1383.96  Z\" fill=\"#ffffff\" fill-rule=\"evenodd\" fill-opacity=\"1\"/>\n<polyline clip-path=\"url(#clip730)\" style=\"stroke:#000000; stroke-linecap:round; stroke-linejoin:round; stroke-width:4; stroke-opacity:1; fill:none\" points=\"1663.05,1539.48 2281.07,1539.48 2281.07,1383.96 1663.05,1383.96 1663.05,1539.48 \"/>\n<path clip-path=\"url(#clip730)\" d=\"M1686.95 1456.54 L1830.32 1456.54 L1830.32 1415.06 L1686.95 1415.06 L1686.95 1456.54  Z\" fill=\"#009af9\" fill-rule=\"evenodd\" fill-opacity=\"0.3\"/>\n<polyline clip-path=\"url(#clip730)\" style=\"stroke:#009af9; stroke-linecap:round; stroke-linejoin:round; stroke-width:4; stroke-opacity:0.3; fill:none\" points=\"1686.95,1415.06 1830.32,1415.06 \"/>\n<path clip-path=\"url(#clip730)\" d=\"M1854.21 1418.52 L1883.45 1418.52 L1883.45 1422.46 L1871.18 1422.46 L1871.18 1453.08 L1866.48 1453.08 L1866.48 1422.46 L1854.21 1422.46 L1854.21 1418.52 Z\" fill=\"#000000\" fill-rule=\"nonzero\" fill-opacity=\"1\" /><path clip-path=\"url(#clip730)\" d=\"M1895.83 1431.14 Q1895.12 1430.72 1894.26 1430.53 Q1893.43 1430.33 1892.41 1430.33 Q1888.8 1430.33 1886.85 1432.69 Q1884.93 1435.03 1884.93 1439.42 L1884.93 1453.08 L1880.65 1453.08 L1880.65 1427.15 L1884.93 1427.15 L1884.93 1431.18 Q1886.27 1428.82 1888.43 1427.69 Q1890.58 1426.53 1893.66 1426.53 Q1894.1 1426.53 1894.63 1426.6 Q1895.16 1426.65 1895.81 1426.76 L1895.83 1431.14 Z\" fill=\"#000000\" fill-rule=\"nonzero\" fill-opacity=\"1\" /><path clip-path=\"url(#clip730)\" d=\"M1899.86 1442.85 L1899.86 1427.15 L1904.12 1427.15 L1904.12 1442.69 Q1904.12 1446.37 1905.56 1448.22 Q1906.99 1450.05 1909.86 1450.05 Q1913.31 1450.05 1915.3 1447.85 Q1917.32 1445.65 1917.32 1441.85 L1917.32 1427.15 L1921.57 1427.15 L1921.57 1453.08 L1917.32 1453.08 L1917.32 1449.1 Q1915.76 1451.46 1913.7 1452.62 Q1911.67 1453.75 1908.96 1453.75 Q1904.49 1453.75 1902.18 1450.97 Q1899.86 1448.2 1899.86 1442.85 M1910.58 1426.53 L1910.58 1426.53 Z\" fill=\"#000000\" fill-rule=\"nonzero\" fill-opacity=\"1\" /><path clip-path=\"url(#clip730)\" d=\"M1952.52 1439.05 L1952.52 1441.14 L1932.94 1441.14 Q1933.22 1445.53 1935.58 1447.85 Q1937.96 1450.14 1942.2 1450.14 Q1944.65 1450.14 1946.94 1449.54 Q1949.26 1448.94 1951.53 1447.73 L1951.53 1451.76 Q1949.24 1452.73 1946.83 1453.24 Q1944.42 1453.75 1941.94 1453.75 Q1935.74 1453.75 1932.11 1450.14 Q1928.5 1446.53 1928.5 1440.37 Q1928.5 1434.01 1931.92 1430.28 Q1935.37 1426.53 1941.2 1426.53 Q1946.44 1426.53 1949.47 1429.91 Q1952.52 1433.27 1952.52 1439.05 M1948.26 1437.8 Q1948.22 1434.31 1946.3 1432.22 Q1944.4 1430.14 1941.25 1430.14 Q1937.69 1430.14 1935.53 1432.15 Q1933.4 1434.17 1933.08 1437.83 L1948.26 1437.8 Z\" fill=\"#000000\" fill-rule=\"nonzero\" fill-opacity=\"1\" /><path clip-path=\"url(#clip730)\" d=\"M1979.44 1422.36 L1979.44 1449.24 L1985.09 1449.24 Q1992.25 1449.24 1995.56 1446 Q1998.89 1442.76 1998.89 1435.77 Q1998.89 1428.82 1995.56 1425.6 Q1992.25 1422.36 1985.09 1422.36 L1979.44 1422.36 M1974.77 1418.52 L1984.38 1418.52 Q1994.42 1418.52 1999.12 1422.71 Q2003.82 1426.88 2003.82 1435.77 Q2003.82 1444.7 1999.1 1448.89 Q1994.38 1453.08 1984.38 1453.08 L1974.77 1453.08 L1974.77 1418.52 Z\" fill=\"#000000\" fill-rule=\"nonzero\" fill-opacity=\"1\" /><path clip-path=\"url(#clip730)\" d=\"M2011.09 1427.15 L2015.35 1427.15 L2015.35 1453.08 L2011.09 1453.08 L2011.09 1427.15 M2011.09 1417.06 L2015.35 1417.06 L2015.35 1422.46 L2011.09 1422.46 L2011.09 1417.06 Z\" fill=\"#000000\" fill-rule=\"nonzero\" fill-opacity=\"1\" /><path clip-path=\"url(#clip730)\" d=\"M2040.79 1427.92 L2040.79 1431.95 Q2038.98 1431.02 2037.04 1430.56 Q2035.09 1430.09 2033.01 1430.09 Q2029.84 1430.09 2028.24 1431.07 Q2026.67 1432.04 2026.67 1433.98 Q2026.67 1435.47 2027.8 1436.32 Q2028.94 1437.15 2032.36 1437.92 L2033.82 1438.24 Q2038.36 1439.21 2040.25 1441 Q2042.18 1442.76 2042.18 1445.93 Q2042.18 1449.54 2039.31 1451.65 Q2036.46 1453.75 2031.46 1453.75 Q2029.37 1453.75 2027.11 1453.34 Q2024.86 1452.94 2022.36 1452.13 L2022.36 1447.73 Q2024.72 1448.96 2027.01 1449.59 Q2029.31 1450.19 2031.55 1450.19 Q2034.56 1450.19 2036.18 1449.17 Q2037.8 1448.13 2037.8 1446.25 Q2037.8 1444.52 2036.62 1443.59 Q2035.46 1442.66 2031.5 1441.81 L2030.02 1441.46 Q2026.06 1440.63 2024.31 1438.91 Q2022.55 1437.18 2022.55 1434.17 Q2022.55 1430.51 2025.14 1428.52 Q2027.73 1426.53 2032.5 1426.53 Q2034.86 1426.53 2036.94 1426.88 Q2039.03 1427.22 2040.79 1427.92 Z\" fill=\"#000000\" fill-rule=\"nonzero\" fill-opacity=\"1\" /><path clip-path=\"url(#clip730)\" d=\"M2053.17 1419.79 L2053.17 1427.15 L2061.94 1427.15 L2061.94 1430.47 L2053.17 1430.47 L2053.17 1444.54 Q2053.17 1447.71 2054.03 1448.61 Q2054.91 1449.52 2057.57 1449.52 L2061.94 1449.52 L2061.94 1453.08 L2057.57 1453.08 Q2052.64 1453.08 2050.76 1451.25 Q2048.89 1449.4 2048.89 1444.54 L2048.89 1430.47 L2045.76 1430.47 L2045.76 1427.15 L2048.89 1427.15 L2048.89 1419.79 L2053.17 1419.79 Z\" fill=\"#000000\" fill-rule=\"nonzero\" fill-opacity=\"1\" /><path clip-path=\"url(#clip730)\" d=\"M2082.57 1431.14 Q2081.85 1430.72 2080.99 1430.53 Q2080.16 1430.33 2079.14 1430.33 Q2075.53 1430.33 2073.59 1432.69 Q2071.67 1435.03 2071.67 1439.42 L2071.67 1453.08 L2067.38 1453.08 L2067.38 1427.15 L2071.67 1427.15 L2071.67 1431.18 Q2073.01 1428.82 2075.16 1427.69 Q2077.31 1426.53 2080.39 1426.53 Q2080.83 1426.53 2081.37 1426.6 Q2081.9 1426.65 2082.55 1426.76 L2082.57 1431.14 Z\" fill=\"#000000\" fill-rule=\"nonzero\" fill-opacity=\"1\" /><path clip-path=\"url(#clip730)\" d=\"M2087.04 1427.15 L2091.3 1427.15 L2091.3 1453.08 L2087.04 1453.08 L2087.04 1427.15 M2087.04 1417.06 L2091.3 1417.06 L2091.3 1422.46 L2087.04 1422.46 L2087.04 1417.06 Z\" fill=\"#000000\" fill-rule=\"nonzero\" fill-opacity=\"1\" /><path clip-path=\"url(#clip730)\" d=\"M2118.82 1440.14 Q2118.82 1435.44 2116.87 1432.78 Q2114.95 1430.09 2111.57 1430.09 Q2108.19 1430.09 2106.25 1432.78 Q2104.33 1435.44 2104.33 1440.14 Q2104.33 1444.84 2106.25 1447.53 Q2108.19 1450.19 2111.57 1450.19 Q2114.95 1450.19 2116.87 1447.53 Q2118.82 1444.84 2118.82 1440.14 M2104.33 1431.09 Q2105.67 1428.78 2107.71 1427.66 Q2109.77 1426.53 2112.62 1426.53 Q2117.34 1426.53 2120.28 1430.28 Q2123.24 1434.03 2123.24 1440.14 Q2123.24 1446.25 2120.28 1450 Q2117.34 1453.75 2112.62 1453.75 Q2109.77 1453.75 2107.71 1452.64 Q2105.67 1451.51 2104.33 1449.19 L2104.33 1453.08 L2100.05 1453.08 L2100.05 1417.06 L2104.33 1417.06 L2104.33 1431.09 Z\" fill=\"#000000\" fill-rule=\"nonzero\" fill-opacity=\"1\" /><path clip-path=\"url(#clip730)\" d=\"M2129.86 1442.85 L2129.86 1427.15 L2134.12 1427.15 L2134.12 1442.69 Q2134.12 1446.37 2135.55 1448.22 Q2136.99 1450.05 2139.86 1450.05 Q2143.31 1450.05 2145.3 1447.85 Q2147.31 1445.65 2147.31 1441.85 L2147.31 1427.15 L2151.57 1427.15 L2151.57 1453.08 L2147.31 1453.08 L2147.31 1449.1 Q2145.76 1451.46 2143.7 1452.62 Q2141.67 1453.75 2138.96 1453.75 Q2134.49 1453.75 2132.18 1450.97 Q2129.86 1448.2 2129.86 1442.85 M2140.58 1426.53 L2140.58 1426.53 Z\" fill=\"#000000\" fill-rule=\"nonzero\" fill-opacity=\"1\" /><path clip-path=\"url(#clip730)\" d=\"M2164.56 1419.79 L2164.56 1427.15 L2173.33 1427.15 L2173.33 1430.47 L2164.56 1430.47 L2164.56 1444.54 Q2164.56 1447.71 2165.42 1448.61 Q2166.3 1449.52 2168.96 1449.52 L2173.33 1449.52 L2173.33 1453.08 L2168.96 1453.08 Q2164.03 1453.08 2162.15 1451.25 Q2160.28 1449.4 2160.28 1444.54 L2160.28 1430.47 L2157.15 1430.47 L2157.15 1427.15 L2160.28 1427.15 L2160.28 1419.79 L2164.56 1419.79 Z\" fill=\"#000000\" fill-rule=\"nonzero\" fill-opacity=\"1\" /><path clip-path=\"url(#clip730)\" d=\"M2178.93 1427.15 L2183.19 1427.15 L2183.19 1453.08 L2178.93 1453.08 L2178.93 1427.15 M2178.93 1417.06 L2183.19 1417.06 L2183.19 1422.46 L2178.93 1422.46 L2178.93 1417.06 Z\" fill=\"#000000\" fill-rule=\"nonzero\" fill-opacity=\"1\" /><path clip-path=\"url(#clip730)\" d=\"M2202.15 1430.14 Q2198.73 1430.14 2196.74 1432.83 Q2194.74 1435.49 2194.74 1440.14 Q2194.74 1444.79 2196.71 1447.48 Q2198.7 1450.14 2202.15 1450.14 Q2205.55 1450.14 2207.55 1447.46 Q2209.54 1444.77 2209.54 1440.14 Q2209.54 1435.53 2207.55 1432.85 Q2205.55 1430.14 2202.15 1430.14 M2202.15 1426.53 Q2207.71 1426.53 2210.88 1430.14 Q2214.05 1433.75 2214.05 1440.14 Q2214.05 1446.51 2210.88 1450.14 Q2207.71 1453.75 2202.15 1453.75 Q2196.57 1453.75 2193.4 1450.14 Q2190.25 1446.51 2190.25 1440.14 Q2190.25 1433.75 2193.4 1430.14 Q2196.57 1426.53 2202.15 1426.53 Z\" fill=\"#000000\" fill-rule=\"nonzero\" fill-opacity=\"1\" /><path clip-path=\"url(#clip730)\" d=\"M2242.66 1437.43 L2242.66 1453.08 L2238.4 1453.08 L2238.4 1437.57 Q2238.4 1433.89 2236.97 1432.06 Q2235.53 1430.23 2232.66 1430.23 Q2229.21 1430.23 2227.22 1432.43 Q2225.23 1434.63 2225.23 1438.43 L2225.23 1453.08 L2220.95 1453.08 L2220.95 1427.15 L2225.23 1427.15 L2225.23 1431.18 Q2226.76 1428.84 2228.82 1427.69 Q2230.9 1426.53 2233.61 1426.53 Q2238.08 1426.53 2240.37 1429.31 Q2242.66 1432.06 2242.66 1437.43 Z\" fill=\"#000000\" fill-rule=\"nonzero\" fill-opacity=\"1\" /><polyline clip-path=\"url(#clip730)\" style=\"stroke:#3da44d; stroke-linecap:round; stroke-linejoin:round; stroke-width:8; stroke-opacity:1; fill:none\" stroke-dasharray=\"32, 20\" points=\"1686.95,1487.64 1830.32,1487.64 \"/>\n<path clip-path=\"url(#clip730)\" d=\"M1867.41 1504.92 L1854.21 1470.36 L1859.1 1470.36 L1870.05 1499.46 L1881.02 1470.36 L1885.88 1470.36 L1872.71 1504.92 L1867.41 1504.92 Z\" fill=\"#000000\" fill-rule=\"nonzero\" fill-opacity=\"1\" /><path clip-path=\"url(#clip730)\" d=\"M1890.93 1470.36 L1895.6 1470.36 L1895.6 1504.92 L1890.93 1504.92 L1890.93 1470.36 Z\" fill=\"#000000\" fill-rule=\"nonzero\" fill-opacity=\"1\" /><path clip-path=\"url(#clip730)\" d=\"M1931.53 1474.97 L1925.19 1492.17 L1937.89 1492.17 L1931.53 1474.97 M1928.89 1470.36 L1934.19 1470.36 L1947.36 1504.92 L1942.5 1504.92 L1939.35 1496.05 L1923.77 1496.05 L1920.63 1504.92 L1915.69 1504.92 L1928.89 1470.36 Z\" fill=\"#000000\" fill-rule=\"nonzero\" fill-opacity=\"1\" /><path clip-path=\"url(#clip730)\" d=\"M1956.34 1501.03 L1956.34 1514.78 L1952.06 1514.78 L1952.06 1478.99 L1956.34 1478.99 L1956.34 1482.93 Q1957.69 1480.62 1959.72 1479.5 Q1961.78 1478.37 1964.63 1478.37 Q1969.35 1478.37 1972.29 1482.12 Q1975.25 1485.87 1975.25 1491.98 Q1975.25 1498.09 1972.29 1501.84 Q1969.35 1505.59 1964.63 1505.59 Q1961.78 1505.59 1959.72 1504.48 Q1957.69 1503.35 1956.34 1501.03 M1970.83 1491.98 Q1970.83 1487.28 1968.89 1484.62 Q1966.97 1481.93 1963.59 1481.93 Q1960.21 1481.93 1958.26 1484.62 Q1956.34 1487.28 1956.34 1491.98 Q1956.34 1496.68 1958.26 1499.37 Q1960.21 1502.03 1963.59 1502.03 Q1966.97 1502.03 1968.89 1499.37 Q1970.83 1496.68 1970.83 1491.98 Z\" fill=\"#000000\" fill-rule=\"nonzero\" fill-opacity=\"1\" /><path clip-path=\"url(#clip730)\" d=\"M1986.44 1501.03 L1986.44 1514.78 L1982.15 1514.78 L1982.15 1478.99 L1986.44 1478.99 L1986.44 1482.93 Q1987.78 1480.62 1989.81 1479.5 Q1991.88 1478.37 1994.72 1478.37 Q1999.44 1478.37 2002.38 1482.12 Q2005.35 1485.87 2005.35 1491.98 Q2005.35 1498.09 2002.38 1501.84 Q1999.44 1505.59 1994.72 1505.59 Q1991.88 1505.59 1989.81 1504.48 Q1987.78 1503.35 1986.44 1501.03 M2000.93 1491.98 Q2000.93 1487.28 1998.98 1484.62 Q1997.06 1481.93 1993.68 1481.93 Q1990.3 1481.93 1988.36 1484.62 Q1986.44 1487.28 1986.44 1491.98 Q1986.44 1496.68 1988.36 1499.37 Q1990.3 1502.03 1993.68 1502.03 Q1997.06 1502.03 1998.98 1499.37 Q2000.93 1496.68 2000.93 1491.98 Z\" fill=\"#000000\" fill-rule=\"nonzero\" fill-opacity=\"1\" /><path clip-path=\"url(#clip730)\" d=\"M2027.43 1482.98 Q2026.71 1482.56 2025.86 1482.37 Q2025.02 1482.17 2024 1482.17 Q2020.39 1482.17 2018.45 1484.53 Q2016.53 1486.87 2016.53 1491.26 L2016.53 1504.92 L2012.25 1504.92 L2012.25 1478.99 L2016.53 1478.99 L2016.53 1483.02 Q2017.87 1480.66 2020.02 1479.53 Q2022.18 1478.37 2025.25 1478.37 Q2025.69 1478.37 2026.23 1478.44 Q2026.76 1478.49 2027.41 1478.6 L2027.43 1482.98 Z\" fill=\"#000000\" fill-rule=\"nonzero\" fill-opacity=\"1\" /><path clip-path=\"url(#clip730)\" d=\"M2040.9 1481.98 Q2037.48 1481.98 2035.49 1484.67 Q2033.5 1487.33 2033.5 1491.98 Q2033.5 1496.63 2035.46 1499.32 Q2037.45 1501.98 2040.9 1501.98 Q2044.31 1501.98 2046.3 1499.3 Q2048.29 1496.61 2048.29 1491.98 Q2048.29 1487.37 2046.3 1484.69 Q2044.31 1481.98 2040.9 1481.98 M2040.9 1478.37 Q2046.46 1478.37 2049.63 1481.98 Q2052.8 1485.59 2052.8 1491.98 Q2052.8 1498.35 2049.63 1501.98 Q2046.46 1505.59 2040.9 1505.59 Q2035.32 1505.59 2032.15 1501.98 Q2029 1498.35 2029 1491.98 Q2029 1485.59 2032.15 1481.98 Q2035.32 1478.37 2040.9 1478.37 Z\" fill=\"#000000\" fill-rule=\"nonzero\" fill-opacity=\"1\" /><path clip-path=\"url(#clip730)\" d=\"M2079.95 1478.99 L2070.58 1491.61 L2080.44 1504.92 L2075.42 1504.92 L2067.87 1494.74 L2060.32 1504.92 L2055.3 1504.92 L2065.37 1491.36 L2056.16 1478.99 L2061.18 1478.99 L2068.06 1488.23 L2074.93 1478.99 L2079.95 1478.99 Z\" fill=\"#000000\" fill-rule=\"nonzero\" fill-opacity=\"1\" /><path clip-path=\"url(#clip730)\" d=\"M2086.46 1478.99 L2090.72 1478.99 L2090.72 1504.92 L2086.46 1504.92 L2086.46 1478.99 M2086.46 1468.9 L2090.72 1468.9 L2090.72 1474.3 L2086.46 1474.3 L2086.46 1468.9 Z\" fill=\"#000000\" fill-rule=\"nonzero\" fill-opacity=\"1\" /><path clip-path=\"url(#clip730)\" d=\"M2119.81 1483.97 Q2121.41 1481.1 2123.63 1479.74 Q2125.86 1478.37 2128.87 1478.37 Q2132.92 1478.37 2135.12 1481.22 Q2137.31 1484.04 2137.31 1489.27 L2137.31 1504.92 L2133.03 1504.92 L2133.03 1489.41 Q2133.03 1485.68 2131.71 1483.88 Q2130.39 1482.07 2127.68 1482.07 Q2124.37 1482.07 2122.45 1484.27 Q2120.53 1486.47 2120.53 1490.27 L2120.53 1504.92 L2116.25 1504.92 L2116.25 1489.41 Q2116.25 1485.66 2114.93 1483.88 Q2113.61 1482.07 2110.86 1482.07 Q2107.59 1482.07 2105.67 1484.3 Q2103.75 1486.49 2103.75 1490.27 L2103.75 1504.92 L2099.47 1504.92 L2099.47 1478.99 L2103.75 1478.99 L2103.75 1483.02 Q2105.21 1480.64 2107.24 1479.5 Q2109.28 1478.37 2112.08 1478.37 Q2114.91 1478.37 2116.87 1479.81 Q2118.87 1481.24 2119.81 1483.97 Z\" fill=\"#000000\" fill-rule=\"nonzero\" fill-opacity=\"1\" /><path clip-path=\"url(#clip730)\" d=\"M2157.59 1491.89 Q2152.43 1491.89 2150.44 1493.07 Q2148.45 1494.25 2148.45 1497.1 Q2148.45 1499.37 2149.93 1500.71 Q2151.43 1502.03 2154 1502.03 Q2157.55 1502.03 2159.68 1499.53 Q2161.83 1497 2161.83 1492.84 L2161.83 1491.89 L2157.59 1491.89 M2166.09 1490.13 L2166.09 1504.92 L2161.83 1504.92 L2161.83 1500.99 Q2160.37 1503.35 2158.19 1504.48 Q2156.02 1505.59 2152.87 1505.59 Q2148.89 1505.59 2146.53 1503.37 Q2144.19 1501.12 2144.19 1497.37 Q2144.19 1493 2147.11 1490.78 Q2150.05 1488.55 2155.86 1488.55 L2161.83 1488.55 L2161.83 1488.14 Q2161.83 1485.2 2159.88 1483.6 Q2157.96 1481.98 2154.47 1481.98 Q2152.24 1481.98 2150.14 1482.51 Q2148.03 1483.05 2146.09 1484.11 L2146.09 1480.18 Q2148.43 1479.27 2150.62 1478.83 Q2152.82 1478.37 2154.91 1478.37 Q2160.53 1478.37 2163.31 1481.29 Q2166.09 1484.2 2166.09 1490.13 Z\" fill=\"#000000\" fill-rule=\"nonzero\" fill-opacity=\"1\" /><path clip-path=\"url(#clip730)\" d=\"M2179.07 1471.63 L2179.07 1478.99 L2187.85 1478.99 L2187.85 1482.31 L2179.07 1482.31 L2179.07 1496.38 Q2179.07 1499.55 2179.93 1500.45 Q2180.81 1501.36 2183.47 1501.36 L2187.85 1501.36 L2187.85 1504.92 L2183.47 1504.92 Q2178.54 1504.92 2176.67 1503.09 Q2174.79 1501.24 2174.79 1496.38 L2174.79 1482.31 L2171.67 1482.31 L2171.67 1478.99 L2174.79 1478.99 L2174.79 1471.63 L2179.07 1471.63 Z\" fill=\"#000000\" fill-rule=\"nonzero\" fill-opacity=\"1\" /><path clip-path=\"url(#clip730)\" d=\"M2193.45 1478.99 L2197.71 1478.99 L2197.71 1504.92 L2193.45 1504.92 L2193.45 1478.99 M2193.45 1468.9 L2197.71 1468.9 L2197.71 1474.3 L2193.45 1474.3 L2193.45 1468.9 Z\" fill=\"#000000\" fill-rule=\"nonzero\" fill-opacity=\"1\" /><path clip-path=\"url(#clip730)\" d=\"M2216.67 1481.98 Q2213.24 1481.98 2211.25 1484.67 Q2209.26 1487.33 2209.26 1491.98 Q2209.26 1496.63 2211.23 1499.32 Q2213.22 1501.98 2216.67 1501.98 Q2220.07 1501.98 2222.06 1499.3 Q2224.05 1496.61 2224.05 1491.98 Q2224.05 1487.37 2222.06 1484.69 Q2220.07 1481.98 2216.67 1481.98 M2216.67 1478.37 Q2222.22 1478.37 2225.39 1481.98 Q2228.56 1485.59 2228.56 1491.98 Q2228.56 1498.35 2225.39 1501.98 Q2222.22 1505.59 2216.67 1505.59 Q2211.09 1505.59 2207.92 1501.98 Q2204.77 1498.35 2204.77 1491.98 Q2204.77 1485.59 2207.92 1481.98 Q2211.09 1478.37 2216.67 1478.37 Z\" fill=\"#000000\" fill-rule=\"nonzero\" fill-opacity=\"1\" /><path clip-path=\"url(#clip730)\" d=\"M2257.17 1489.27 L2257.17 1504.92 L2252.92 1504.92 L2252.92 1489.41 Q2252.92 1485.73 2251.48 1483.9 Q2250.05 1482.07 2247.17 1482.07 Q2243.73 1482.07 2241.73 1484.27 Q2239.74 1486.47 2239.74 1490.27 L2239.74 1504.92 L2235.46 1504.92 L2235.46 1478.99 L2239.74 1478.99 L2239.74 1483.02 Q2241.27 1480.68 2243.33 1479.53 Q2245.42 1478.37 2248.12 1478.37 Q2252.59 1478.37 2254.88 1481.15 Q2257.17 1483.9 2257.17 1489.27 Z\" fill=\"#000000\" fill-rule=\"nonzero\" fill-opacity=\"1\" /></svg>\n"
          },
          "metadata": {},
          "execution_count": 31
        }
      ]
    },
    {
      "cell_type": "code",
      "source": [
        "# Final notes:\n",
        "\n",
        "# While MCMC will be accurate despite using a much lower (ex. n=100) observations,\n",
        "# MCMC is inherently much more computationally expensive and inefficient compared to VI.\n",
        "# In real-world applications, VI may be sufficient despite less accuracy."
      ],
      "metadata": {
        "id": "YRPoINZPFFZN"
      },
      "execution_count": null,
      "outputs": []
    }
  ]
}